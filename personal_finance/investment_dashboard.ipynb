{
 "cells": [
  {
   "cell_type": "code",
   "execution_count": 33,
   "metadata": {},
   "outputs": [],
   "source": [
    "import pandas as pd\n",
    "import openpyxl\n",
    "import json\n",
    "import requests\n",
    "import matplotlib.pyplot as plt"
   ]
  },
  {
   "cell_type": "code",
   "execution_count": 7,
   "metadata": {},
   "outputs": [],
   "source": [
    "def selectquote(ticker, statement):\n",
    "    r= requests.get(f\"https://financialmodelingprep.com/api/v3/{statement}/{ticker}?limit=120&apikey=eb29218df82acef0486b5c014ccec868\")\n",
    "    r = r.json()\n",
    "    return r\n"
   ]
  },
  {
   "attachments": {},
   "cell_type": "markdown",
   "metadata": {},
   "source": [
    "#### Read ticker symbols of stocks from etoro sheet (exported to another document)"
   ]
  },
  {
   "cell_type": "code",
   "execution_count": 8,
   "metadata": {},
   "outputs": [],
   "source": [
    "etoro_lists = 'D:\\lianz\\Desktop\\Python\\data_science_discovery\\personal_finance\\etoro_listings\\etoro-account-statement-10-1-2021-12-23-2022.xlsx'\n",
    "investment_history = pd.read_excel(etoro_lists,sheet_name='Account Activity')"
   ]
  },
  {
   "cell_type": "code",
   "execution_count": 9,
   "metadata": {},
   "outputs": [
    {
     "data": {
      "text/plain": [
       "['UAL',\n",
       " 'AF.PA',\n",
       " 'T',\n",
       " 'JNJ',\n",
       " 'DIS',\n",
       " 'AAPL',\n",
       " 'TSLA',\n",
       " 'JPM',\n",
       " 'GOOG',\n",
       " 'AMD',\n",
       " 'INGA.NV',\n",
       " 'SHEL.L',\n",
       " 'SMSN.L',\n",
       " 'WMT',\n",
       " 'NVDA',\n",
       " 'WBD',\n",
       " 'MMM',\n",
       " 'AMZN',\n",
       " 'COST']"
      ]
     },
     "execution_count": 9,
     "metadata": {},
     "output_type": "execute_result"
    }
   ],
   "source": [
    "# tickers = investment_history[investment_history['Asset type'] == 'Stocks']['Details'].str.split('/',expand=True)[0].unique()\n",
    "\n",
    "from tickerlist import tickers\n",
    "tickers"
   ]
  },
  {
   "attachments": {},
   "cell_type": "markdown",
   "metadata": {},
   "source": [
    "#### Request statements of each ticker symbol and store in 'personal_finance\\income_statements' folder"
   ]
  },
  {
   "cell_type": "code",
   "execution_count": 2,
   "metadata": {},
   "outputs": [],
   "source": [
    "possible_statements = ['income-statement','balance-sheet-statement','cash-flow-statement']"
   ]
  },
  {
   "cell_type": "code",
   "execution_count": 11,
   "metadata": {},
   "outputs": [
    {
     "ename": "NameError",
     "evalue": "name 'income' is not defined",
     "output_type": "error",
     "traceback": [
      "\u001b[1;31m---------------------------------------------------------------------------\u001b[0m",
      "\u001b[1;31mNameError\u001b[0m                                 Traceback (most recent call last)",
      "\u001b[1;32m~\\AppData\\Local\\Temp\\ipykernel_28912\\2887871418.py\u001b[0m in \u001b[0;36m<cell line: 1>\u001b[1;34m()\u001b[0m\n\u001b[1;32m----> 1\u001b[1;33m \u001b[0mexec\u001b[0m\u001b[1;33m(\u001b[0m\u001b[1;34mf\"{possible_statements[0]}.split('-')\"\u001b[0m\u001b[1;33m)\u001b[0m\u001b[1;33m\u001b[0m\u001b[1;33m\u001b[0m\u001b[0m\n\u001b[0m",
      "\u001b[1;32m<string>\u001b[0m in \u001b[0;36m<module>\u001b[1;34m\u001b[0m\n",
      "\u001b[1;31mNameError\u001b[0m: name 'income' is not defined"
     ]
    }
   ],
   "source": [
    "exec(f\"{possible_statements[0]}.split('-')\")"
   ]
  },
  {
   "cell_type": "code",
   "execution_count": 11,
   "metadata": {},
   "outputs": [],
   "source": [
    "def save_to_json(ticker_symbol,statement):\n",
    "    \n",
    "    file = selectquote(ticker_symbol,statement)\n",
    "\n",
    "    with open(f'D:\\lianz\\Desktop\\Python\\data_science_discovery\\personal_finance\\{statement}/{ticker_symbol}.json', 'w+') as f:\n",
    "        json.dump(file, f, indent=4)\n",
    "    "
   ]
  },
  {
   "attachments": {},
   "cell_type": "markdown",
   "metadata": {},
   "source": [
    "#### Only run this when there is a new income_statement available"
   ]
  },
  {
   "cell_type": "code",
   "execution_count": null,
   "metadata": {},
   "outputs": [],
   "source": [
    "# improvement: append to existing json file instead of rewriting to it with past 5 years, so longer term data can be acquired"
   ]
  },
  {
   "cell_type": "code",
   "execution_count": 32,
   "metadata": {},
   "outputs": [],
   "source": [
    "for x in tickers:\n",
    "    for y in possible_statements:\n",
    "        save_to_json(x,y)"
   ]
  },
  {
   "attachments": {},
   "cell_type": "markdown",
   "metadata": {},
   "source": [
    "#### Read in json files (requests not made repetitively)"
   ]
  },
  {
   "cell_type": "code",
   "execution_count": 12,
   "metadata": {},
   "outputs": [],
   "source": [
    "def read_json(ticker_list, statement):\n",
    "\n",
    "    with open(f'D:\\lianz\\Desktop\\Python\\data_science_discovery\\personal_finance\\{statement}/{ticker_list}.json') as json_file:\n",
    "        x = json.load(json_file)\n",
    "\n",
    "    return x"
   ]
  },
  {
   "cell_type": "code",
   "execution_count": 13,
   "metadata": {},
   "outputs": [],
   "source": [
    "company_statements = ['income-statement',\n",
    "                      'cash-flow-statement', 'balance-sheet-statement']"
   ]
  },
  {
   "cell_type": "code",
   "execution_count": 14,
   "metadata": {},
   "outputs": [],
   "source": [
    "d = read_json(tickers[0],company_statements[0])"
   ]
  },
  {
   "cell_type": "code",
   "execution_count": 15,
   "metadata": {},
   "outputs": [
    {
     "data": {
      "text/plain": [
       "['2021', '2020', '2019', '2018', '2017']"
      ]
     },
     "execution_count": 15,
     "metadata": {},
     "output_type": "execute_result"
    }
   ],
   "source": [
    "[d[i]['calendarYear'] for i in range(len(d))]"
   ]
  },
  {
   "cell_type": "code",
   "execution_count": 23,
   "metadata": {},
   "outputs": [
    {
     "data": {
      "text/plain": [
       "dict_items([('date', '2021-12-31'), ('symbol', 'UAL'), ('reportedCurrency', 'USD'), ('cik', '0000100517'), ('fillingDate', '2022-02-18'), ('acceptedDate', '2022-02-18 16:16:13'), ('calendarYear', '2021'), ('period', 'FY'), ('revenue', 24634000000), ('costOfRevenue', 23913000000), ('grossProfit', 721000000), ('grossProfitRatio', 0.02926849070390517), ('researchAndDevelopmentExpenses', 0.0), ('generalAndAdministrativeExpenses', 0.0), ('sellingAndMarketingExpenses', 677000000), ('sellingGeneralAndAdministrativeExpenses', 677000000), ('otherExpenses', 412000000), ('operatingExpenses', 1089000000), ('costAndExpenses', 25002000000), ('interestIncome', 36000000), ('interestExpense', 1577000000), ('depreciationAndAmortization', 2485000000), ('ebitda', 1505000000), ('ebitdaratio', 0.06109442234310303), ('operatingIncome', -1022000000), ('operatingIncomeRatio', -0.04148737517252578), ('totalOtherIncomeExpensesNet', -1535000000), ('incomeBeforeTax', -2557000000), ('incomeBeforeTaxRatio', -0.10379962653243485), ('incomeTaxExpense', -593000000), ('netIncome', -1964000000), ('netIncomeRatio', -0.07972720630023544), ('eps', -6.06527), ('epsdiluted', -6.1), ('weightedAverageShsOut', 323810825), ('weightedAverageShsOutDil', 323810825), ('link', 'https://www.sec.gov/Archives/edgar/data/100517/000010051722000009/0000100517-22-000009-index.htm'), ('finalLink', 'https://www.sec.gov/Archives/edgar/data/100517/000010051722000009/ual-20211231.htm')])"
      ]
     },
     "execution_count": 23,
     "metadata": {},
     "output_type": "execute_result"
    }
   ],
   "source": [
    "d[0].items()"
   ]
  },
  {
   "cell_type": "code",
   "execution_count": 51,
   "metadata": {},
   "outputs": [
    {
     "name": "stdout",
     "output_type": "stream",
     "text": [
      "[{'2017': 37736000000, '2018': 41303000000, '2019': 43259000000, '2020': 15355000000, '2021': 24634000000}, {'2017': 37736000000, '2018': 41303000000, '2019': 43259000000, '2020': 15355000000, '2021': 24634000000}, {'2017': 37736000000, '2018': 41303000000, '2019': 43259000000, '2020': 15355000000, '2021': 24634000000}]\n"
     ]
    },
    {
     "ename": "TypeError",
     "evalue": "from_records() got an unexpected keyword argument 'orient'",
     "output_type": "error",
     "traceback": [
      "\u001b[1;31m---------------------------------------------------------------------------\u001b[0m",
      "\u001b[1;31mTypeError\u001b[0m                                 Traceback (most recent call last)",
      "\u001b[1;32m~\\AppData\\Local\\Temp\\ipykernel_57872\\241793108.py\u001b[0m in \u001b[0;36m<cell line: 11>\u001b[1;34m()\u001b[0m\n\u001b[0;32m      9\u001b[0m \u001b[0mprint\u001b[0m\u001b[1;33m(\u001b[0m\u001b[0ml\u001b[0m\u001b[1;33m)\u001b[0m\u001b[1;33m\u001b[0m\u001b[1;33m\u001b[0m\u001b[0m\n\u001b[0;32m     10\u001b[0m \u001b[1;33m\u001b[0m\u001b[0m\n\u001b[1;32m---> 11\u001b[1;33m \u001b[0meps_df\u001b[0m \u001b[1;33m=\u001b[0m \u001b[0mpd\u001b[0m\u001b[1;33m.\u001b[0m\u001b[0mDataFrame\u001b[0m\u001b[1;33m.\u001b[0m\u001b[0mfrom_records\u001b[0m\u001b[1;33m(\u001b[0m\u001b[0ml\u001b[0m\u001b[1;33m,\u001b[0m \u001b[0morient\u001b[0m\u001b[1;33m=\u001b[0m\u001b[1;34m'index'\u001b[0m\u001b[1;33m,\u001b[0m \u001b[0mcolumns\u001b[0m\u001b[1;33m=\u001b[0m\u001b[1;33m[\u001b[0m\u001b[1;34m'epsdiluted'\u001b[0m\u001b[1;33m]\u001b[0m\u001b[1;33m)\u001b[0m\u001b[1;33m\u001b[0m\u001b[1;33m\u001b[0m\u001b[0m\n\u001b[0m\u001b[0;32m     12\u001b[0m \u001b[0meps_df\u001b[0m\u001b[1;33m\u001b[0m\u001b[1;33m\u001b[0m\u001b[0m\n",
      "\u001b[1;31mTypeError\u001b[0m: from_records() got an unexpected keyword argument 'orient'"
     ]
    }
   ],
   "source": [
    "l = []\n",
    "dict_holder = {}\n",
    "for n in ['epsdiluted','netIncome','revenue']:\n",
    "    for i,x in enumerate(d[::-1]):\n",
    "        dict_holder[x['calendarYear']] = x[f'{n}']\n",
    "    l.append(dict_holder)\n",
    "\n",
    "\n",
    "print(l)\n",
    "\n",
    "eps_df = pd.DataFrame.from_records(l, orient='index', columns=['epsdiluted'])\n",
    "eps_df"
   ]
  },
  {
   "cell_type": "code",
   "execution_count": 37,
   "metadata": {},
   "outputs": [
    {
     "data": {
      "text/plain": [
       "[<matplotlib.lines.Line2D at 0x21e1b919580>]"
      ]
     },
     "execution_count": 37,
     "metadata": {},
     "output_type": "execute_result"
    },
    {
     "data": {
      "image/png": "[encoded data removed]",
      "text/plain": [
       "<Figure size 640x480 with 1 Axes>"
      ]
     },
     "metadata": {},
     "output_type": "display_data"
    }
   ],
   "source": [
    "plt.plot(eps_df)"
   ]
  },
  {
   "cell_type": "code",
   "execution_count": 143,
   "metadata": {},
   "outputs": [
    {
     "data": {
      "text/html": [
       "<div>\n",
       "<style scoped>\n",
       "    .dataframe tbody tr th:only-of-type {\n",
       "        vertical-align: middle;\n",
       "    }\n",
       "\n",
       "    .dataframe tbody tr th {\n",
       "        vertical-align: top;\n",
       "    }\n",
       "\n",
       "    .dataframe thead th {\n",
       "        text-align: right;\n",
       "    }\n",
       "</style>\n",
       "<table border=\"1\" class=\"dataframe\">\n",
       "  <thead>\n",
       "    <tr style=\"text-align: right;\">\n",
       "      <th></th>\n",
       "      <th>0</th>\n",
       "      <th>1</th>\n",
       "    </tr>\n",
       "  </thead>\n",
       "  <tbody>\n",
       "    <tr>\n",
       "      <th>date</th>\n",
       "      <td>2021-12-31</td>\n",
       "      <td>2020-12-31</td>\n",
       "    </tr>\n",
       "    <tr>\n",
       "      <th>symbol</th>\n",
       "      <td>UAL</td>\n",
       "      <td>UAL</td>\n",
       "    </tr>\n",
       "    <tr>\n",
       "      <th>reportedCurrency</th>\n",
       "      <td>USD</td>\n",
       "      <td>USD</td>\n",
       "    </tr>\n",
       "    <tr>\n",
       "      <th>cik</th>\n",
       "      <td>0000100517</td>\n",
       "      <td>0000100517</td>\n",
       "    </tr>\n",
       "    <tr>\n",
       "      <th>fillingDate</th>\n",
       "      <td>2022-02-18</td>\n",
       "      <td>2021-03-01</td>\n",
       "    </tr>\n",
       "    <tr>\n",
       "      <th>acceptedDate</th>\n",
       "      <td>2022-02-18 16:16:13</td>\n",
       "      <td>2021-03-01 07:46:29</td>\n",
       "    </tr>\n",
       "    <tr>\n",
       "      <th>calendarYear</th>\n",
       "      <td>2021</td>\n",
       "      <td>2020</td>\n",
       "    </tr>\n",
       "    <tr>\n",
       "      <th>period</th>\n",
       "      <td>FY</td>\n",
       "      <td>FY</td>\n",
       "    </tr>\n",
       "    <tr>\n",
       "      <th>revenue</th>\n",
       "      <td>24634000000</td>\n",
       "      <td>15355000000</td>\n",
       "    </tr>\n",
       "    <tr>\n",
       "      <th>costOfRevenue</th>\n",
       "      <td>23913000000</td>\n",
       "      <td>20385000000</td>\n",
       "    </tr>\n",
       "    <tr>\n",
       "      <th>grossProfit</th>\n",
       "      <td>721000000</td>\n",
       "      <td>-5030000000</td>\n",
       "    </tr>\n",
       "    <tr>\n",
       "      <th>grossProfitRatio</th>\n",
       "      <td>0.029268</td>\n",
       "      <td>-0.327581</td>\n",
       "    </tr>\n",
       "    <tr>\n",
       "      <th>researchAndDevelopmentExpenses</th>\n",
       "      <td>0.0</td>\n",
       "      <td>0.0</td>\n",
       "    </tr>\n",
       "    <tr>\n",
       "      <th>generalAndAdministrativeExpenses</th>\n",
       "      <td>0.0</td>\n",
       "      <td>0.0</td>\n",
       "    </tr>\n",
       "    <tr>\n",
       "      <th>sellingAndMarketingExpenses</th>\n",
       "      <td>677000000</td>\n",
       "      <td>459000000</td>\n",
       "    </tr>\n",
       "    <tr>\n",
       "      <th>sellingGeneralAndAdministrativeExpenses</th>\n",
       "      <td>677000000</td>\n",
       "      <td>459000000</td>\n",
       "    </tr>\n",
       "    <tr>\n",
       "      <th>otherExpenses</th>\n",
       "      <td>412000000</td>\n",
       "      <td>-50000000</td>\n",
       "    </tr>\n",
       "    <tr>\n",
       "      <th>operatingExpenses</th>\n",
       "      <td>1089000000</td>\n",
       "      <td>409000000</td>\n",
       "    </tr>\n",
       "    <tr>\n",
       "      <th>costAndExpenses</th>\n",
       "      <td>25002000000</td>\n",
       "      <td>20794000000</td>\n",
       "    </tr>\n",
       "    <tr>\n",
       "      <th>interestIncome</th>\n",
       "      <td>36000000</td>\n",
       "      <td>50000000</td>\n",
       "    </tr>\n",
       "    <tr>\n",
       "      <th>interestExpense</th>\n",
       "      <td>1577000000</td>\n",
       "      <td>992000000</td>\n",
       "    </tr>\n",
       "    <tr>\n",
       "      <th>depreciationAndAmortization</th>\n",
       "      <td>2485000000</td>\n",
       "      <td>2488000000</td>\n",
       "    </tr>\n",
       "    <tr>\n",
       "      <th>ebitda</th>\n",
       "      <td>1505000000</td>\n",
       "      <td>-5342000000</td>\n",
       "    </tr>\n",
       "    <tr>\n",
       "      <th>ebitdaratio</th>\n",
       "      <td>0.061094</td>\n",
       "      <td>-0.3479</td>\n",
       "    </tr>\n",
       "    <tr>\n",
       "      <th>operatingIncome</th>\n",
       "      <td>-1022000000</td>\n",
       "      <td>-6359000000</td>\n",
       "    </tr>\n",
       "    <tr>\n",
       "      <th>operatingIncomeRatio</th>\n",
       "      <td>-0.041487</td>\n",
       "      <td>-0.414132</td>\n",
       "    </tr>\n",
       "    <tr>\n",
       "      <th>totalOtherIncomeExpensesNet</th>\n",
       "      <td>-1535000000</td>\n",
       "      <td>-2463000000</td>\n",
       "    </tr>\n",
       "    <tr>\n",
       "      <th>incomeBeforeTax</th>\n",
       "      <td>-2557000000</td>\n",
       "      <td>-8822000000</td>\n",
       "    </tr>\n",
       "    <tr>\n",
       "      <th>incomeBeforeTaxRatio</th>\n",
       "      <td>-0.1038</td>\n",
       "      <td>-0.574536</td>\n",
       "    </tr>\n",
       "    <tr>\n",
       "      <th>incomeTaxExpense</th>\n",
       "      <td>-593000000</td>\n",
       "      <td>-1753000000</td>\n",
       "    </tr>\n",
       "    <tr>\n",
       "      <th>netIncome</th>\n",
       "      <td>-1964000000</td>\n",
       "      <td>-7069000000</td>\n",
       "    </tr>\n",
       "    <tr>\n",
       "      <th>netIncomeRatio</th>\n",
       "      <td>-0.079727</td>\n",
       "      <td>-0.460371</td>\n",
       "    </tr>\n",
       "    <tr>\n",
       "      <th>eps</th>\n",
       "      <td>-6.06527</td>\n",
       "      <td>-22.668296</td>\n",
       "    </tr>\n",
       "    <tr>\n",
       "      <th>epsdiluted</th>\n",
       "      <td>-6.1</td>\n",
       "      <td>-25.3</td>\n",
       "    </tr>\n",
       "    <tr>\n",
       "      <th>weightedAverageShsOut</th>\n",
       "      <td>323810825</td>\n",
       "      <td>311845232</td>\n",
       "    </tr>\n",
       "    <tr>\n",
       "      <th>weightedAverageShsOutDil</th>\n",
       "      <td>323810825</td>\n",
       "      <td>311845232</td>\n",
       "    </tr>\n",
       "    <tr>\n",
       "      <th>link</th>\n",
       "      <td>https://www.sec.gov/Archives/edgar/data/100517...</td>\n",
       "      <td>https://www.sec.gov/Archives/edgar/data/100517...</td>\n",
       "    </tr>\n",
       "    <tr>\n",
       "      <th>finalLink</th>\n",
       "      <td>https://www.sec.gov/Archives/edgar/data/100517...</td>\n",
       "      <td>https://www.sec.gov/Archives/edgar/data/100517...</td>\n",
       "    </tr>\n",
       "  </tbody>\n",
       "</table>\n",
       "</div>"
      ],
      "text/plain": [
       "                                                                                         0  \\\n",
       "date                                                                            2021-12-31   \n",
       "symbol                                                                                 UAL   \n",
       "reportedCurrency                                                                       USD   \n",
       "cik                                                                             0000100517   \n",
       "fillingDate                                                                     2022-02-18   \n",
       "acceptedDate                                                           2022-02-18 16:16:13   \n",
       "calendarYear                                                                          2021   \n",
       "period                                                                                  FY   \n",
       "revenue                                                                        24634000000   \n",
       "costOfRevenue                                                                  23913000000   \n",
       "grossProfit                                                                      721000000   \n",
       "grossProfitRatio                                                                  0.029268   \n",
       "researchAndDevelopmentExpenses                                                         0.0   \n",
       "generalAndAdministrativeExpenses                                                       0.0   \n",
       "sellingAndMarketingExpenses                                                      677000000   \n",
       "sellingGeneralAndAdministrativeExpenses                                          677000000   \n",
       "otherExpenses                                                                    412000000   \n",
       "operatingExpenses                                                               1089000000   \n",
       "costAndExpenses                                                                25002000000   \n",
       "interestIncome                                                                    36000000   \n",
       "interestExpense                                                                 1577000000   \n",
       "depreciationAndAmortization                                                     2485000000   \n",
       "ebitda                                                                          1505000000   \n",
       "ebitdaratio                                                                       0.061094   \n",
       "operatingIncome                                                                -1022000000   \n",
       "operatingIncomeRatio                                                             -0.041487   \n",
       "totalOtherIncomeExpensesNet                                                    -1535000000   \n",
       "incomeBeforeTax                                                                -2557000000   \n",
       "incomeBeforeTaxRatio                                                               -0.1038   \n",
       "incomeTaxExpense                                                                -593000000   \n",
       "netIncome                                                                      -1964000000   \n",
       "netIncomeRatio                                                                   -0.079727   \n",
       "eps                                                                               -6.06527   \n",
       "epsdiluted                                                                            -6.1   \n",
       "weightedAverageShsOut                                                            323810825   \n",
       "weightedAverageShsOutDil                                                         323810825   \n",
       "link                                     https://www.sec.gov/Archives/edgar/data/100517...   \n",
       "finalLink                                https://www.sec.gov/Archives/edgar/data/100517...   \n",
       "\n",
       "                                                                                         1  \n",
       "date                                                                            2020-12-31  \n",
       "symbol                                                                                 UAL  \n",
       "reportedCurrency                                                                       USD  \n",
       "cik                                                                             0000100517  \n",
       "fillingDate                                                                     2021-03-01  \n",
       "acceptedDate                                                           2021-03-01 07:46:29  \n",
       "calendarYear                                                                          2020  \n",
       "period                                                                                  FY  \n",
       "revenue                                                                        15355000000  \n",
       "costOfRevenue                                                                  20385000000  \n",
       "grossProfit                                                                    -5030000000  \n",
       "grossProfitRatio                                                                 -0.327581  \n",
       "researchAndDevelopmentExpenses                                                         0.0  \n",
       "generalAndAdministrativeExpenses                                                       0.0  \n",
       "sellingAndMarketingExpenses                                                      459000000  \n",
       "sellingGeneralAndAdministrativeExpenses                                          459000000  \n",
       "otherExpenses                                                                    -50000000  \n",
       "operatingExpenses                                                                409000000  \n",
       "costAndExpenses                                                                20794000000  \n",
       "interestIncome                                                                    50000000  \n",
       "interestExpense                                                                  992000000  \n",
       "depreciationAndAmortization                                                     2488000000  \n",
       "ebitda                                                                         -5342000000  \n",
       "ebitdaratio                                                                        -0.3479  \n",
       "operatingIncome                                                                -6359000000  \n",
       "operatingIncomeRatio                                                             -0.414132  \n",
       "totalOtherIncomeExpensesNet                                                    -2463000000  \n",
       "incomeBeforeTax                                                                -8822000000  \n",
       "incomeBeforeTaxRatio                                                             -0.574536  \n",
       "incomeTaxExpense                                                               -1753000000  \n",
       "netIncome                                                                      -7069000000  \n",
       "netIncomeRatio                                                                   -0.460371  \n",
       "eps                                                                             -22.668296  \n",
       "epsdiluted                                                                           -25.3  \n",
       "weightedAverageShsOut                                                            311845232  \n",
       "weightedAverageShsOutDil                                                         311845232  \n",
       "link                                     https://www.sec.gov/Archives/edgar/data/100517...  \n",
       "finalLink                                https://www.sec.gov/Archives/edgar/data/100517...  "
      ]
     },
     "execution_count": 143,
     "metadata": {},
     "output_type": "execute_result"
    }
   ],
   "source": [
    "pd.DataFrame.from_dict(d[0:2]).T"
   ]
  },
  {
   "cell_type": "code",
   "execution_count": null,
   "metadata": {},
   "outputs": [],
   "source": []
  }
 ],
 "metadata": {
  "kernelspec": {
   "display_name": "Python 3.9.12 ('DataScience')",
   "language": "python",
   "name": "python3"
  },
  "language_info": {
   "codemirror_mode": {
    "name": "ipython",
    "version": 3
   },
   "file_extension": ".py",
   "mimetype": "text/x-python",
   "name": "python",
   "nbconvert_exporter": "python",
   "pygments_lexer": "ipython3",
   "version": "3.9.12"
  },
  "orig_nbformat": 4,
  "vscode": {
   "interpreter": {
    "hash": "15c829b79a9c192d7731c00829287f4b3b1aa9f9a3890f935442b2f4d956bef3"
   }
  }
 },
 "nbformat": 4,
 "nbformat_minor": 2
}
