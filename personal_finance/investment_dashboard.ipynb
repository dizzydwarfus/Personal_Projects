{
 "cells": [
  {
   "cell_type": "code",
   "execution_count": 4,
   "metadata": {},
   "outputs": [],
   "source": [
    "import pandas as pd\n",
    "import openpyxl\n",
    "import json\n",
    "import requests\n",
    "import matplotlib.pyplot as plt"
   ]
  },
  {
   "attachments": {},
   "cell_type": "markdown",
   "metadata": {},
   "source": [
    "#### Read ticker symbols of stocks from etoro sheet (exported to another document)"
   ]
  },
  {
   "cell_type": "code",
   "execution_count": 6,
   "metadata": {},
   "outputs": [],
   "source": [
    "file = r'D:\\\\lianz\\Desktop\\\\Python\\personal_projects\\\\personal_finance\\\\tickers.json'\n",
    "with open(file, 'r+') as f:\n",
    "    tickers = json.load(f)"
   ]
  },
  {
   "cell_type": "code",
   "execution_count": 7,
   "metadata": {},
   "outputs": [
    {
     "data": {
      "text/plain": [
       "'A'"
      ]
     },
     "execution_count": 7,
     "metadata": {},
     "output_type": "execute_result"
    }
   ],
   "source": [
    "tickers[0]"
   ]
  },
  {
   "attachments": {},
   "cell_type": "markdown",
   "metadata": {},
   "source": [
    "#### Read in json files (requests not made repetitively)"
   ]
  },
  {
   "cell_type": "code",
   "execution_count": 13,
   "metadata": {},
   "outputs": [],
   "source": [
    "def read_json(ticker_list, statement):\n",
    "\n",
    "    with open(f'D:\\lianz\\Desktop\\Python\\personal_projects\\personal_finance\\{statement}/{ticker_list}.json', 'r+') as json_file:\n",
    "        x = json.load(json_file)\n",
    "\n",
    "    return x"
   ]
  },
  {
   "cell_type": "code",
   "execution_count": 11,
   "metadata": {},
   "outputs": [],
   "source": [
    "company_statements = ['income-statement',\n",
    "                      'cash-flow-statement', 'balance-sheet-statement']"
   ]
  },
  {
   "cell_type": "code",
   "execution_count": 14,
   "metadata": {},
   "outputs": [],
   "source": [
    "d = read_json(tickers[0],company_statements[0])"
   ]
  },
  {
   "cell_type": "code",
   "execution_count": 10,
   "metadata": {},
   "outputs": [
    {
     "data": {
      "text/plain": [
       "['2022', '2021', '2020', '2019', '2018']"
      ]
     },
     "execution_count": 10,
     "metadata": {},
     "output_type": "execute_result"
    }
   ],
   "source": [
    "[d[i]['calendarYear'] for i in range(len(d))]"
   ]
  },
  {
   "cell_type": "code",
   "execution_count": 15,
   "metadata": {},
   "outputs": [
    {
     "data": {
      "text/plain": [
       "dict_items([('date', '2022-10-31'), ('symbol', 'A'), ('reportedCurrency', 'USD'), ('cik', '0001090872'), ('fillingDate', '2022-12-21'), ('acceptedDate', '2022-12-20 18:42:30'), ('calendarYear', '2022'), ('period', 'FY'), ('revenue', 6848000000), ('costOfRevenue', 3126000000), ('grossProfit', 3722000000), ('grossProfitRatio', 0.5435163551401869), ('researchAndDevelopmentExpenses', 467000000), ('generalAndAdministrativeExpenses', 0.0), ('sellingAndMarketingExpenses', 0.0), ('sellingGeneralAndAdministrativeExpenses', 1637000000), ('otherExpenses', 0.0), ('operatingExpenses', 2104000000), ('costAndExpenses', 5230000000), ('interestIncome', 9000000.0), ('interestExpense', 84000000), ('depreciationAndAmortization', 317000000), ('ebitda', 1905000000), ('ebitdaratio', 0.27818341121495327), ('operatingIncome', 1618000000), ('operatingIncomeRatio', 0.2362733644859813), ('totalOtherIncomeExpensesNet', -114000000), ('incomeBeforeTax', 1504000000), ('incomeBeforeTaxRatio', 0.21962616822429906), ('incomeTaxExpense', 250000000), ('netIncome', 1254000000), ('netIncomeRatio', 0.18311915887850466), ('eps', 4.12), ('epsdiluted', 4.08), ('weightedAverageShsOut', 304000000), ('weightedAverageShsOutDil', 307000000), ('link', 'https://www.sec.gov/Archives/edgar/data/1090872/000109087222000026/0001090872-22-000026-index.htm'), ('finalLink', 'https://www.sec.gov/Archives/edgar/data/1090872/000109087222000026/a-20221031.htm')])"
      ]
     },
     "execution_count": 15,
     "metadata": {},
     "output_type": "execute_result"
    }
   ],
   "source": [
    "d[0].items()"
   ]
  },
  {
   "cell_type": "code",
   "execution_count": 16,
   "metadata": {},
   "outputs": [
    {
     "data": {
      "text/plain": [
       "[{'2018': 0.97, '2019': 3.37, '2020': 2.3, '2021': 3.94, '2022': 4.08},\n",
       " {'2018': 316000000,\n",
       "  '2019': 1071000000,\n",
       "  '2020': 719000000,\n",
       "  '2021': 1210000000,\n",
       "  '2022': 1254000000},\n",
       " {'2018': 4914000000,\n",
       "  '2019': 5163000000,\n",
       "  '2020': 5339000000,\n",
       "  '2021': 6319000000,\n",
       "  '2022': 6848000000}]"
      ]
     },
     "execution_count": 16,
     "metadata": {},
     "output_type": "execute_result"
    }
   ],
   "source": [
    "l = []\n",
    "dict_holder = {}\n",
    "\n",
    "for n in ['epsdiluted','netIncome','revenue']:\n",
    "    # print(n)\n",
    "\n",
    "    for i,x in enumerate(d[::-1]):\n",
    "        dict_holder[x['calendarYear']] = x[f'{n}']\n",
    "    l.append(dict_holder)\n",
    "    dict_holder = {}\n",
    "l"
   ]
  },
  {
   "cell_type": "code",
   "execution_count": 17,
   "metadata": {},
   "outputs": [
    {
     "data": {
      "text/html": [
       "<div>\n",
       "<style scoped>\n",
       "    .dataframe tbody tr th:only-of-type {\n",
       "        vertical-align: middle;\n",
       "    }\n",
       "\n",
       "    .dataframe tbody tr th {\n",
       "        vertical-align: top;\n",
       "    }\n",
       "\n",
       "    .dataframe thead th {\n",
       "        text-align: right;\n",
       "    }\n",
       "</style>\n",
       "<table border=\"1\" class=\"dataframe\">\n",
       "  <thead>\n",
       "    <tr style=\"text-align: right;\">\n",
       "      <th></th>\n",
       "      <th>epsdiluted</th>\n",
       "      <th>netIncome</th>\n",
       "      <th>revenue</th>\n",
       "    </tr>\n",
       "  </thead>\n",
       "  <tbody>\n",
       "    <tr>\n",
       "      <th>2018</th>\n",
       "      <td>0.97</td>\n",
       "      <td>3.160000e+08</td>\n",
       "      <td>4.914000e+09</td>\n",
       "    </tr>\n",
       "    <tr>\n",
       "      <th>2019</th>\n",
       "      <td>3.37</td>\n",
       "      <td>1.071000e+09</td>\n",
       "      <td>5.163000e+09</td>\n",
       "    </tr>\n",
       "    <tr>\n",
       "      <th>2020</th>\n",
       "      <td>2.30</td>\n",
       "      <td>7.190000e+08</td>\n",
       "      <td>5.339000e+09</td>\n",
       "    </tr>\n",
       "    <tr>\n",
       "      <th>2021</th>\n",
       "      <td>3.94</td>\n",
       "      <td>1.210000e+09</td>\n",
       "      <td>6.319000e+09</td>\n",
       "    </tr>\n",
       "    <tr>\n",
       "      <th>2022</th>\n",
       "      <td>4.08</td>\n",
       "      <td>1.254000e+09</td>\n",
       "      <td>6.848000e+09</td>\n",
       "    </tr>\n",
       "  </tbody>\n",
       "</table>\n",
       "</div>"
      ],
      "text/plain": [
       "      epsdiluted     netIncome       revenue\n",
       "2018        0.97  3.160000e+08  4.914000e+09\n",
       "2019        3.37  1.071000e+09  5.163000e+09\n",
       "2020        2.30  7.190000e+08  5.339000e+09\n",
       "2021        3.94  1.210000e+09  6.319000e+09\n",
       "2022        4.08  1.254000e+09  6.848000e+09"
      ]
     },
     "execution_count": 17,
     "metadata": {},
     "output_type": "execute_result"
    }
   ],
   "source": [
    "eps_df = pd.DataFrame.from_records(l, index=['epsdiluted','netIncome','revenue']).T\n",
    "eps_df"
   ]
  },
  {
   "cell_type": "code",
   "execution_count": 18,
   "metadata": {},
   "outputs": [],
   "source": [
    "terms_interested = {'revenue': 'revenue',\n",
    "                    'gross margin%': 'grossProfitRatio',\n",
    "                    'Operating Income': 'operatingIncome',\n",
    "                    'Operating Margin %': 'operatingIncomeRatio',\n",
    "                    'Net Income': 'netIncome',\n",
    "                    'Net Income Margin': 'netIncomeRatio',\n",
    "                    'Earnings per Share': 'epsdiluted',\n",
    "                    'Shares Oustanding (diluted)': 'weightedAverageShsOutDil'}"
   ]
  },
  {
   "cell_type": "code",
   "execution_count": 16,
   "metadata": {},
   "outputs": [
    {
     "name": "stdout",
     "output_type": "stream",
     "text": [
      "revenue\n",
      "grossProfitRatio\n",
      "operatingIncome\n",
      "operatingIncomeRatio\n",
      "netIncome\n",
      "netIncomeRatio\n",
      "epsdiluted\n",
      "weightedAverageShsOutDil\n"
     ]
    }
   ],
   "source": [
    "items_interested = terms_interested.values()\n",
    "\n",
    "for items in items_interested:\n",
    "    print(items)"
   ]
  },
  {
   "cell_type": "code",
   "execution_count": 17,
   "metadata": {},
   "outputs": [
    {
     "data": {
      "text/plain": [
       "['revenue',\n",
       " 'grossProfitRatio',\n",
       " 'operatingIncome',\n",
       " 'operatingIncomeRatio',\n",
       " 'netIncome',\n",
       " 'netIncomeRatio',\n",
       " 'epsdiluted',\n",
       " 'weightedAverageShsOutDil']"
      ]
     },
     "execution_count": 17,
     "metadata": {},
     "output_type": "execute_result"
    }
   ],
   "source": [
    "[items for items in items_interested if items in d[0].keys()]"
   ]
  },
  {
   "cell_type": "code",
   "execution_count": 18,
   "metadata": {},
   "outputs": [
    {
     "data": {
      "text/plain": [
       "['c_0_1', 'c_0_2', 'c_1_1', 'c_1_2', 'c_1_3']"
      ]
     },
     "execution_count": 18,
     "metadata": {},
     "output_type": "execute_result"
    }
   ],
   "source": [
    "arrangement = (2,3)\n",
    "column_names = []\n",
    "\n",
    "for i,nrow in enumerate(arrangement):\n",
    "    for ncolumn in range(1,nrow+1):\n",
    "        column_names.append(f'c_{i}_{ncolumn}')\n",
    "\n",
    "column_names"
   ]
  },
  {
   "cell_type": "code",
   "execution_count": 19,
   "metadata": {},
   "outputs": [
    {
     "data": {
      "text/plain": [
       "Index(['2018', '2019', '2020', '2021', '2022'], dtype='object')"
      ]
     },
     "execution_count": 19,
     "metadata": {},
     "output_type": "execute_result"
    }
   ],
   "source": [
    "eps_df.index"
   ]
  },
  {
   "cell_type": "code",
   "execution_count": 20,
   "metadata": {},
   "outputs": [
    {
     "data": {
      "text/html": [
       "<div>\n",
       "<style scoped>\n",
       "    .dataframe tbody tr th:only-of-type {\n",
       "        vertical-align: middle;\n",
       "    }\n",
       "\n",
       "    .dataframe tbody tr th {\n",
       "        vertical-align: top;\n",
       "    }\n",
       "\n",
       "    .dataframe thead th {\n",
       "        text-align: right;\n",
       "    }\n",
       "</style>\n",
       "<table border=\"1\" class=\"dataframe\">\n",
       "  <thead>\n",
       "    <tr style=\"text-align: right;\">\n",
       "      <th></th>\n",
       "      <th>epsdiluted</th>\n",
       "      <th>netIncome</th>\n",
       "      <th>revenue</th>\n",
       "    </tr>\n",
       "  </thead>\n",
       "  <tbody>\n",
       "    <tr>\n",
       "      <th>2018</th>\n",
       "      <td>0.97</td>\n",
       "      <td>3.160000e+08</td>\n",
       "      <td>4.914000e+09</td>\n",
       "    </tr>\n",
       "    <tr>\n",
       "      <th>2019</th>\n",
       "      <td>3.37</td>\n",
       "      <td>1.071000e+09</td>\n",
       "      <td>5.163000e+09</td>\n",
       "    </tr>\n",
       "    <tr>\n",
       "      <th>2020</th>\n",
       "      <td>2.30</td>\n",
       "      <td>7.190000e+08</td>\n",
       "      <td>5.339000e+09</td>\n",
       "    </tr>\n",
       "    <tr>\n",
       "      <th>2021</th>\n",
       "      <td>3.94</td>\n",
       "      <td>1.210000e+09</td>\n",
       "      <td>6.319000e+09</td>\n",
       "    </tr>\n",
       "    <tr>\n",
       "      <th>2022</th>\n",
       "      <td>4.08</td>\n",
       "      <td>1.254000e+09</td>\n",
       "      <td>6.848000e+09</td>\n",
       "    </tr>\n",
       "  </tbody>\n",
       "</table>\n",
       "</div>"
      ],
      "text/plain": [
       "      epsdiluted     netIncome       revenue\n",
       "2018        0.97  3.160000e+08  4.914000e+09\n",
       "2019        3.37  1.071000e+09  5.163000e+09\n",
       "2020        2.30  7.190000e+08  5.339000e+09\n",
       "2021        3.94  1.210000e+09  6.319000e+09\n",
       "2022        4.08  1.254000e+09  6.848000e+09"
      ]
     },
     "execution_count": 20,
     "metadata": {},
     "output_type": "execute_result"
    }
   ],
   "source": [
    "eps_df\n"
   ]
  },
  {
   "cell_type": "code",
   "execution_count": 19,
   "metadata": {},
   "outputs": [
    {
     "data": {
      "text/plain": [
       "2018     0.00%\n",
       "2019   247.42%\n",
       "2020   -31.75%\n",
       "2021    71.30%\n",
       "2022     3.55%\n",
       "Name: epsdiluted, dtype: float64"
      ]
     },
     "execution_count": 19,
     "metadata": {},
     "output_type": "execute_result"
    }
   ],
   "source": [
    "pd.options.display.float_format = '{:.2%}'.format\n",
    "eps_df['epsdiluted'].pct_change(periods=1).fillna(0)\n"
   ]
  },
  {
   "cell_type": "code",
   "execution_count": 22,
   "metadata": {},
   "outputs": [
    {
     "data": {
      "text/plain": [
       "str"
      ]
     },
     "execution_count": 22,
     "metadata": {},
     "output_type": "execute_result"
    }
   ],
   "source": [
    "type(eps_df.columns[0])"
   ]
  },
  {
   "cell_type": "code",
   "execution_count": 20,
   "metadata": {},
   "outputs": [],
   "source": [
    "import os\n",
    "import pathlib"
   ]
  },
  {
   "cell_type": "code",
   "execution_count": 22,
   "metadata": {},
   "outputs": [],
   "source": [
    "arr = os.listdir('D:\\lianz\\Desktop\\Python\\personal_projects\\personal_finance\\\\balance-sheet-statement')"
   ]
  },
  {
   "cell_type": "code",
   "execution_count": 23,
   "metadata": {},
   "outputs": [],
   "source": [
    "list_1 = [\n",
    "  \"UAL\",\n",
    "  \"AF.PA\",\n",
    "  \"T\",\n",
    "  \"JNJ\",\n",
    "  \"DIS\",\n",
    "  \"AAPL\",\n",
    "  \"TSLA\",\n",
    "  \"JPM\",\n",
    "  \"GOOG\",\n",
    "]\n",
    "\n",
    "list_2 = [\n",
    "  \"AMD\",\n",
    "  \"INGA.NV\",\n",
    "  \"SHEL.L\",\n",
    "  \"SMSN.L\",\n",
    "  \"WMT\",\n",
    "  \"NVDA\",\n",
    "  \"WBD\",\n",
    "  \"MMM\",\n",
    "  \"AMZN\",\n",
    "  \"COST\"\n",
    "]"
   ]
  },
  {
   "cell_type": "code",
   "execution_count": 24,
   "metadata": {},
   "outputs": [
    {
     "data": {
      "text/plain": [
       "['UAL', 'AF.PA', 'T', 'JNJ', 'DIS', 'AAPL', 'TSLA', 'JPM', 'GOOG']"
      ]
     },
     "execution_count": 24,
     "metadata": {},
     "output_type": "execute_result"
    }
   ],
   "source": [
    "[i for i in list_1 if i not in list_2]"
   ]
  },
  {
   "cell_type": "code",
   "execution_count": 27,
   "metadata": {},
   "outputs": [],
   "source": [
    "def generate_key_metrics(financial_statement, list_of_metrics):\n",
    "    l = []\n",
    "    dict_holder = {}\n",
    "    columns = financial_statement[0].keys()\n",
    "\n",
    "    for n in list_of_metrics:\n",
    "\n",
    "        if n in columns:\n",
    "            for i, x in enumerate(financial_statement[::-1]):\n",
    "                dict_holder[x['calendarYear']] = x[f'{n}']\n",
    "\n",
    "            l.append(dict_holder)\n",
    "            dict_holder = {}\n",
    "\n",
    "        else:\n",
    "            pass\n",
    "\n",
    "    df = pd.DataFrame.from_records(\n",
    "        l, index=[items for items in list_of_metrics if items in columns])\n",
    "\n",
    "    # df.style.format({f\"{df}\": \"{:,}\"})\n",
    "\n",
    "    return df"
   ]
  },
  {
   "cell_type": "code",
   "execution_count": 25,
   "metadata": {},
   "outputs": [],
   "source": [
    "\n",
    "def read_statement(filepath, mode: list(['r','w','r+','w+'])):\n",
    "    with open(filepath, f'{mode}') as f:\n",
    "        statement = json.load(f)\n",
    "\n",
    "        return statement"
   ]
  },
  {
   "cell_type": "code",
   "execution_count": 26,
   "metadata": {},
   "outputs": [],
   "source": [
    "terms_interested = {'Revenue': 'revenue',\n",
    "                    'Gross margin%': 'grossProfitRatio',\n",
    "                    'Operating Income': 'operatingIncome',\n",
    "                    'Operating Margin %': 'operatingIncomeRatio',\n",
    "                    'Net Income': 'netIncome',\n",
    "                    'Net Income Margin': 'netIncomeRatio',\n",
    "                    'Earnings per Share': 'epsdiluted',\n",
    "                    'Shares Oustanding (diluted)': 'weightedAverageShsOutDil',\n",
    "                    'Dividends': 'dividendsPaid',\n",
    "                    'Operating Cash Flow': 'operatingCashFlow',\n",
    "                    'Cap Spending': 'capitalExpenditure',\n",
    "                    'Free Cash Flow': 'freeCashFlow',\n",
    "                    'Free Cash Flow per Share': 'freeCashFlow',\n",
    "                    'Working Capital': 'totalCurrentAssets - totalCurrentLiabilities',\n",
    "                    'Net Debt': 'netDebt'\n",
    "                    }"
   ]
  },
  {
   "cell_type": "code",
   "execution_count": 27,
   "metadata": {},
   "outputs": [
    {
     "ename": "NameError",
     "evalue": "name 'generate_key_metrics' is not defined",
     "output_type": "error",
     "traceback": [
      "\u001b[1;31m---------------------------------------------------------------------------\u001b[0m",
      "\u001b[1;31mNameError\u001b[0m                                 Traceback (most recent call last)",
      "\u001b[1;32m~\\AppData\\Local\\Temp\\ipykernel_33264\\424278894.py\u001b[0m in \u001b[0;36m<cell line: 1>\u001b[1;34m()\u001b[0m\n\u001b[1;32m----> 1\u001b[1;33m \u001b[0mpd\u001b[0m\u001b[1;33m.\u001b[0m\u001b[0mconcat\u001b[0m\u001b[1;33m(\u001b[0m\u001b[1;33m[\u001b[0m\u001b[0mgenerate_key_metrics\u001b[0m\u001b[1;33m(\u001b[0m\u001b[0mread_statement\u001b[0m\u001b[1;33m(\u001b[0m\u001b[1;34mf'D:\\lianz\\Desktop\\Python\\data_science_discovery\\personal_finance\\{x}\\{\"AAPL\"}.json'\u001b[0m\u001b[1;33m,\u001b[0m\u001b[1;34m'r'\u001b[0m\u001b[1;33m)\u001b[0m\u001b[1;33m,\u001b[0m \u001b[0mterms_interested\u001b[0m\u001b[1;33m.\u001b[0m\u001b[0mvalues\u001b[0m\u001b[1;33m(\u001b[0m\u001b[1;33m)\u001b[0m\u001b[1;33m)\u001b[0m \u001b[1;32mfor\u001b[0m \u001b[0mx\u001b[0m \u001b[1;32min\u001b[0m \u001b[0mcompany_statements\u001b[0m\u001b[1;33m]\u001b[0m\u001b[1;33m,\u001b[0m\u001b[0maxis\u001b[0m\u001b[1;33m=\u001b[0m\u001b[1;36m0\u001b[0m\u001b[1;33m)\u001b[0m\u001b[1;33m\u001b[0m\u001b[1;33m\u001b[0m\u001b[0m\n\u001b[0m",
      "\u001b[1;32m~\\AppData\\Local\\Temp\\ipykernel_33264\\424278894.py\u001b[0m in \u001b[0;36m<listcomp>\u001b[1;34m(.0)\u001b[0m\n\u001b[1;32m----> 1\u001b[1;33m \u001b[0mpd\u001b[0m\u001b[1;33m.\u001b[0m\u001b[0mconcat\u001b[0m\u001b[1;33m(\u001b[0m\u001b[1;33m[\u001b[0m\u001b[0mgenerate_key_metrics\u001b[0m\u001b[1;33m(\u001b[0m\u001b[0mread_statement\u001b[0m\u001b[1;33m(\u001b[0m\u001b[1;34mf'D:\\lianz\\Desktop\\Python\\data_science_discovery\\personal_finance\\{x}\\{\"AAPL\"}.json'\u001b[0m\u001b[1;33m,\u001b[0m\u001b[1;34m'r'\u001b[0m\u001b[1;33m)\u001b[0m\u001b[1;33m,\u001b[0m \u001b[0mterms_interested\u001b[0m\u001b[1;33m.\u001b[0m\u001b[0mvalues\u001b[0m\u001b[1;33m(\u001b[0m\u001b[1;33m)\u001b[0m\u001b[1;33m)\u001b[0m \u001b[1;32mfor\u001b[0m \u001b[0mx\u001b[0m \u001b[1;32min\u001b[0m \u001b[0mcompany_statements\u001b[0m\u001b[1;33m]\u001b[0m\u001b[1;33m,\u001b[0m\u001b[0maxis\u001b[0m\u001b[1;33m=\u001b[0m\u001b[1;36m0\u001b[0m\u001b[1;33m)\u001b[0m\u001b[1;33m\u001b[0m\u001b[1;33m\u001b[0m\u001b[0m\n\u001b[0m",
      "\u001b[1;31mNameError\u001b[0m: name 'generate_key_metrics' is not defined"
     ]
    }
   ],
   "source": [
    "pd.concat([generate_key_metrics(read_statement(f'D:\\lianz\\Desktop\\Python\\data_science_discovery\\personal_finance\\{x}\\{\"AAPL\"}.json','r'), terms_interested.values()) for x in company_statements],axis=0)"
   ]
  },
  {
   "attachments": {},
   "cell_type": "markdown",
   "metadata": {},
   "source": [
    "#### Append if year not in json file"
   ]
  },
  {
   "cell_type": "code",
   "execution_count": 28,
   "metadata": {},
   "outputs": [
    {
     "data": {
      "text/plain": [
       "WindowsPath('D:/lianz/Desktop/Python/personal_projects/personal_finance/income-statement/TSLA.json')"
      ]
     },
     "execution_count": 28,
     "metadata": {},
     "output_type": "execute_result"
    }
   ],
   "source": [
    "file = pathlib.Path(\n",
    "                f'D:\\lianz\\Desktop\\Python\\personal_projects\\personal_finance\\{company_statements[0]}/TSLA.json')\n",
    "file"
   ]
  },
  {
   "cell_type": "code",
   "execution_count": 29,
   "metadata": {},
   "outputs": [],
   "source": [
    "def selectquote(ticker, statement):\n",
    "    r = requests.get(\n",
    "        f\"https://financialmodelingprep.com/api/v3/{statement}/{ticker}?limit=120&apikey=eb29218df82acef0486b5c014ccec868\")\n",
    "    r = r.json()\n",
    "    return r"
   ]
  },
  {
   "cell_type": "code",
   "execution_count": 57,
   "metadata": {},
   "outputs": [],
   "source": [
    "new_download = selectquote('WDC', company_statements[0])"
   ]
  },
  {
   "cell_type": "code",
   "execution_count": 58,
   "metadata": {},
   "outputs": [
    {
     "data": {
      "text/plain": [
       "{'date': '1986-06-30',\n",
       " 'symbol': 'WDC',\n",
       " 'reportedCurrency': 'USD',\n",
       " 'cik': '0000106040',\n",
       " 'fillingDate': '1986-06-30',\n",
       " 'acceptedDate': '1986-06-29 20:00:00',\n",
       " 'calendarYear': '1986',\n",
       " 'period': 'FY',\n",
       " 'revenue': 277600000,\n",
       " 'costOfRevenue': 164000000,\n",
       " 'grossProfit': 113600000,\n",
       " 'grossProfitRatio': 0.4092219020172911,\n",
       " 'researchAndDevelopmentExpenses': 0,\n",
       " 'generalAndAdministrativeExpenses': 0,\n",
       " 'sellingAndMarketingExpenses': 0,\n",
       " 'sellingGeneralAndAdministrativeExpenses': 70100000,\n",
       " 'otherExpenses': 12900000,\n",
       " 'operatingExpenses': 83000000,\n",
       " 'costAndExpenses': 247000000,\n",
       " 'interestIncome': 0,\n",
       " 'interestExpense': 0,\n",
       " 'depreciationAndAmortization': 12900000,\n",
       " 'ebitda': 40700000,\n",
       " 'ebitdaratio': 0.14661383285302593,\n",
       " 'operatingIncome': 30600000,\n",
       " 'operatingIncomeRatio': 0.11023054755043228,\n",
       " 'totalOtherIncomeExpensesNet': -2800000,\n",
       " 'incomeBeforeTax': 27800000,\n",
       " 'incomeBeforeTaxRatio': 0.10014409221902017,\n",
       " 'incomeTaxExpense': 7200000,\n",
       " 'netIncome': 20600000,\n",
       " 'netIncomeRatio': 0.07420749279538905,\n",
       " 'eps': 0.52,\n",
       " 'epsdiluted': 0.51,\n",
       " 'weightedAverageShsOut': 39615385,\n",
       " 'weightedAverageShsOutDil': 40392157,\n",
       " 'link': '',\n",
       " 'finalLink': ''}"
      ]
     },
     "execution_count": 58,
     "metadata": {},
     "output_type": "execute_result"
    }
   ],
   "source": [
    "new_download[-1]"
   ]
  },
  {
   "cell_type": "code",
   "execution_count": 108,
   "metadata": {},
   "outputs": [
    {
     "ename": "JSONDecodeError",
     "evalue": "Expecting value: line 1 column 1 (char 0)",
     "output_type": "error",
     "traceback": [
      "\u001b[1;31m---------------------------------------------------------------------------\u001b[0m",
      "\u001b[1;31mJSONDecodeError\u001b[0m                           Traceback (most recent call last)",
      "\u001b[1;32m~\\AppData\\Local\\Temp\\ipykernel_33264\\2812689537.py\u001b[0m in \u001b[0;36m<cell line: 1>\u001b[1;34m()\u001b[0m\n\u001b[0;32m      1\u001b[0m \u001b[1;32mwith\u001b[0m \u001b[0mopen\u001b[0m\u001b[1;33m(\u001b[0m\u001b[1;34mf'D:\\\\lianz\\\\Desktop\\\\Python\\\\personal_projects\\\\personal_finance\\\\{company_statements[0]}\\\\WDC.json'\u001b[0m\u001b[1;33m,\u001b[0m \u001b[1;34m'r+'\u001b[0m\u001b[1;33m)\u001b[0m \u001b[1;32mas\u001b[0m \u001b[0mf\u001b[0m\u001b[1;33m:\u001b[0m\u001b[1;33m\u001b[0m\u001b[1;33m\u001b[0m\u001b[0m\n\u001b[1;32m----> 2\u001b[1;33m     \u001b[0mloaded\u001b[0m \u001b[1;33m=\u001b[0m \u001b[0mjson\u001b[0m\u001b[1;33m.\u001b[0m\u001b[0mload\u001b[0m\u001b[1;33m(\u001b[0m\u001b[0mf\u001b[0m\u001b[1;33m)\u001b[0m\u001b[1;33m\u001b[0m\u001b[1;33m\u001b[0m\u001b[0m\n\u001b[0m\u001b[0;32m      3\u001b[0m \u001b[1;33m\u001b[0m\u001b[0m\n\u001b[0;32m      4\u001b[0m \u001b[0mnot_in\u001b[0m \u001b[1;33m=\u001b[0m \u001b[1;33m[\u001b[0m\u001b[0mi\u001b[0m \u001b[1;32mfor\u001b[0m \u001b[0mi\u001b[0m \u001b[1;32min\u001b[0m \u001b[0mnew_download\u001b[0m \u001b[1;32mif\u001b[0m \u001b[0mi\u001b[0m \u001b[1;32mnot\u001b[0m \u001b[1;32min\u001b[0m \u001b[0mloaded\u001b[0m\u001b[1;33m]\u001b[0m\u001b[1;33m\u001b[0m\u001b[1;33m\u001b[0m\u001b[0m\n\u001b[0;32m      5\u001b[0m \u001b[0mlen\u001b[0m\u001b[1;33m(\u001b[0m\u001b[0mnot_in\u001b[0m\u001b[1;33m)\u001b[0m\u001b[1;33m\u001b[0m\u001b[1;33m\u001b[0m\u001b[0m\n",
      "\u001b[1;32mc:\\Users\\lianz\\AppData\\Local\\Programs\\Python\\Python38\\lib\\json\\__init__.py\u001b[0m in \u001b[0;36mload\u001b[1;34m(fp, cls, object_hook, parse_float, parse_int, parse_constant, object_pairs_hook, **kw)\u001b[0m\n\u001b[0;32m    291\u001b[0m     \u001b[0mkwarg\u001b[0m\u001b[1;33m;\u001b[0m \u001b[0motherwise\u001b[0m\u001b[0;31m \u001b[0m\u001b[0;31m`\u001b[0m\u001b[0;31m`\u001b[0m\u001b[0mJSONDecoder\u001b[0m\u001b[0;31m`\u001b[0m\u001b[0;31m`\u001b[0m \u001b[1;32mis\u001b[0m \u001b[0mused\u001b[0m\u001b[1;33m.\u001b[0m\u001b[1;33m\u001b[0m\u001b[1;33m\u001b[0m\u001b[0m\n\u001b[0;32m    292\u001b[0m     \"\"\"\n\u001b[1;32m--> 293\u001b[1;33m     return loads(fp.read(),\n\u001b[0m\u001b[0;32m    294\u001b[0m         \u001b[0mcls\u001b[0m\u001b[1;33m=\u001b[0m\u001b[0mcls\u001b[0m\u001b[1;33m,\u001b[0m \u001b[0mobject_hook\u001b[0m\u001b[1;33m=\u001b[0m\u001b[0mobject_hook\u001b[0m\u001b[1;33m,\u001b[0m\u001b[1;33m\u001b[0m\u001b[1;33m\u001b[0m\u001b[0m\n\u001b[0;32m    295\u001b[0m         \u001b[0mparse_float\u001b[0m\u001b[1;33m=\u001b[0m\u001b[0mparse_float\u001b[0m\u001b[1;33m,\u001b[0m \u001b[0mparse_int\u001b[0m\u001b[1;33m=\u001b[0m\u001b[0mparse_int\u001b[0m\u001b[1;33m,\u001b[0m\u001b[1;33m\u001b[0m\u001b[1;33m\u001b[0m\u001b[0m\n",
      "\u001b[1;32mc:\\Users\\lianz\\AppData\\Local\\Programs\\Python\\Python38\\lib\\json\\__init__.py\u001b[0m in \u001b[0;36mloads\u001b[1;34m(s, cls, object_hook, parse_float, parse_int, parse_constant, object_pairs_hook, **kw)\u001b[0m\n\u001b[0;32m    355\u001b[0m             \u001b[0mparse_int\u001b[0m \u001b[1;32mis\u001b[0m \u001b[1;32mNone\u001b[0m \u001b[1;32mand\u001b[0m \u001b[0mparse_float\u001b[0m \u001b[1;32mis\u001b[0m \u001b[1;32mNone\u001b[0m \u001b[1;32mand\u001b[0m\u001b[1;33m\u001b[0m\u001b[1;33m\u001b[0m\u001b[0m\n\u001b[0;32m    356\u001b[0m             parse_constant is None and object_pairs_hook is None and not kw):\n\u001b[1;32m--> 357\u001b[1;33m         \u001b[1;32mreturn\u001b[0m \u001b[0m_default_decoder\u001b[0m\u001b[1;33m.\u001b[0m\u001b[0mdecode\u001b[0m\u001b[1;33m(\u001b[0m\u001b[0ms\u001b[0m\u001b[1;33m)\u001b[0m\u001b[1;33m\u001b[0m\u001b[1;33m\u001b[0m\u001b[0m\n\u001b[0m\u001b[0;32m    358\u001b[0m     \u001b[1;32mif\u001b[0m \u001b[0mcls\u001b[0m \u001b[1;32mis\u001b[0m \u001b[1;32mNone\u001b[0m\u001b[1;33m:\u001b[0m\u001b[1;33m\u001b[0m\u001b[1;33m\u001b[0m\u001b[0m\n\u001b[0;32m    359\u001b[0m         \u001b[0mcls\u001b[0m \u001b[1;33m=\u001b[0m \u001b[0mJSONDecoder\u001b[0m\u001b[1;33m\u001b[0m\u001b[1;33m\u001b[0m\u001b[0m\n",
      "\u001b[1;32mc:\\Users\\lianz\\AppData\\Local\\Programs\\Python\\Python38\\lib\\json\\decoder.py\u001b[0m in \u001b[0;36mdecode\u001b[1;34m(self, s, _w)\u001b[0m\n\u001b[0;32m    335\u001b[0m \u001b[1;33m\u001b[0m\u001b[0m\n\u001b[0;32m    336\u001b[0m         \"\"\"\n\u001b[1;32m--> 337\u001b[1;33m         \u001b[0mobj\u001b[0m\u001b[1;33m,\u001b[0m \u001b[0mend\u001b[0m \u001b[1;33m=\u001b[0m \u001b[0mself\u001b[0m\u001b[1;33m.\u001b[0m\u001b[0mraw_decode\u001b[0m\u001b[1;33m(\u001b[0m\u001b[0ms\u001b[0m\u001b[1;33m,\u001b[0m \u001b[0midx\u001b[0m\u001b[1;33m=\u001b[0m\u001b[0m_w\u001b[0m\u001b[1;33m(\u001b[0m\u001b[0ms\u001b[0m\u001b[1;33m,\u001b[0m \u001b[1;36m0\u001b[0m\u001b[1;33m)\u001b[0m\u001b[1;33m.\u001b[0m\u001b[0mend\u001b[0m\u001b[1;33m(\u001b[0m\u001b[1;33m)\u001b[0m\u001b[1;33m)\u001b[0m\u001b[1;33m\u001b[0m\u001b[1;33m\u001b[0m\u001b[0m\n\u001b[0m\u001b[0;32m    338\u001b[0m         \u001b[0mend\u001b[0m \u001b[1;33m=\u001b[0m \u001b[0m_w\u001b[0m\u001b[1;33m(\u001b[0m\u001b[0ms\u001b[0m\u001b[1;33m,\u001b[0m \u001b[0mend\u001b[0m\u001b[1;33m)\u001b[0m\u001b[1;33m.\u001b[0m\u001b[0mend\u001b[0m\u001b[1;33m(\u001b[0m\u001b[1;33m)\u001b[0m\u001b[1;33m\u001b[0m\u001b[1;33m\u001b[0m\u001b[0m\n\u001b[0;32m    339\u001b[0m         \u001b[1;32mif\u001b[0m \u001b[0mend\u001b[0m \u001b[1;33m!=\u001b[0m \u001b[0mlen\u001b[0m\u001b[1;33m(\u001b[0m\u001b[0ms\u001b[0m\u001b[1;33m)\u001b[0m\u001b[1;33m:\u001b[0m\u001b[1;33m\u001b[0m\u001b[1;33m\u001b[0m\u001b[0m\n",
      "\u001b[1;32mc:\\Users\\lianz\\AppData\\Local\\Programs\\Python\\Python38\\lib\\json\\decoder.py\u001b[0m in \u001b[0;36mraw_decode\u001b[1;34m(self, s, idx)\u001b[0m\n\u001b[0;32m    353\u001b[0m             \u001b[0mobj\u001b[0m\u001b[1;33m,\u001b[0m \u001b[0mend\u001b[0m \u001b[1;33m=\u001b[0m \u001b[0mself\u001b[0m\u001b[1;33m.\u001b[0m\u001b[0mscan_once\u001b[0m\u001b[1;33m(\u001b[0m\u001b[0ms\u001b[0m\u001b[1;33m,\u001b[0m \u001b[0midx\u001b[0m\u001b[1;33m)\u001b[0m\u001b[1;33m\u001b[0m\u001b[1;33m\u001b[0m\u001b[0m\n\u001b[0;32m    354\u001b[0m         \u001b[1;32mexcept\u001b[0m \u001b[0mStopIteration\u001b[0m \u001b[1;32mas\u001b[0m \u001b[0merr\u001b[0m\u001b[1;33m:\u001b[0m\u001b[1;33m\u001b[0m\u001b[1;33m\u001b[0m\u001b[0m\n\u001b[1;32m--> 355\u001b[1;33m             \u001b[1;32mraise\u001b[0m \u001b[0mJSONDecodeError\u001b[0m\u001b[1;33m(\u001b[0m\u001b[1;34m\"Expecting value\"\u001b[0m\u001b[1;33m,\u001b[0m \u001b[0ms\u001b[0m\u001b[1;33m,\u001b[0m \u001b[0merr\u001b[0m\u001b[1;33m.\u001b[0m\u001b[0mvalue\u001b[0m\u001b[1;33m)\u001b[0m \u001b[1;32mfrom\u001b[0m \u001b[1;32mNone\u001b[0m\u001b[1;33m\u001b[0m\u001b[1;33m\u001b[0m\u001b[0m\n\u001b[0m\u001b[0;32m    356\u001b[0m         \u001b[1;32mreturn\u001b[0m \u001b[0mobj\u001b[0m\u001b[1;33m,\u001b[0m \u001b[0mend\u001b[0m\u001b[1;33m\u001b[0m\u001b[1;33m\u001b[0m\u001b[0m\n",
      "\u001b[1;31mJSONDecodeError\u001b[0m: Expecting value: line 1 column 1 (char 0)"
     ]
    }
   ],
   "source": [
    "with open(f'D:\\\\lianz\\\\Desktop\\\\Python\\\\personal_projects\\\\personal_finance\\\\{company_statements[0]}\\\\WDC.json', 'r+') as f:\n",
    "    loaded = json.load(f)\n",
    "\n",
    "not_in = [i for i in new_download if i not in loaded]\n",
    "len(not_in)"
   ]
  },
  {
   "cell_type": "code",
   "execution_count": 112,
   "metadata": {},
   "outputs": [],
   "source": [
    "with open(f'D:\\\\lianz\\\\Desktop\\\\Python\\\\personal_projects\\\\personal_finance\\\\{company_statements[0]}\\\\WDC.json', 'w+') as f:\n",
    "    if len(not_in) == 0:\n",
    "        pass\n",
    "    else:\n",
    "        new_adjusted = loaded.append([i for i in new_download if i not in loaded])\n",
    "        json.dump(new_adjusted, f, indent=2)\n",
    "    json.dump(new_download, f, indent=2)"
   ]
  },
  {
   "cell_type": "code",
   "execution_count": null,
   "metadata": {},
   "outputs": [],
   "source": []
  }
 ],
 "metadata": {
  "kernelspec": {
   "display_name": "Python 3",
   "language": "python",
   "name": "python3"
  },
  "language_info": {
   "codemirror_mode": {
    "name": "ipython",
    "version": 3
   },
   "file_extension": ".py",
   "mimetype": "text/x-python",
   "name": "python",
   "nbconvert_exporter": "python",
   "pygments_lexer": "ipython3",
   "version": "3.8.3"
  },
  "orig_nbformat": 4,
  "vscode": {
   "interpreter": {
    "hash": "64bcc15f94cc501a51ee25093d530db16b814386d08ce749cc1f6f379d9ac3e5"
   }
  }
 },
 "nbformat": 4,
 "nbformat_minor": 2
}
