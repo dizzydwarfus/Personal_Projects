{
 "cells": [
  {
   "cell_type": "code",
   "execution_count": 35,
   "metadata": {},
   "outputs": [],
   "source": [
    "import pandas as pd\n",
    "import openpyxl\n",
    "import json\n",
    "import requests"
   ]
  },
  {
   "cell_type": "code",
   "execution_count": 26,
   "metadata": {},
   "outputs": [],
   "source": [
    "def selectquote(ticker, statement):\n",
    "    r= requests.get(f\"https://financialmodelingprep.com/api/v3/{statement}/{ticker}?limit=120&apikey=eb29218df82acef0486b5c014ccec868\")\n",
    "    r = r.json()\n",
    "    return r\n"
   ]
  },
  {
   "attachments": {},
   "cell_type": "markdown",
   "metadata": {},
   "source": [
    "#### Read ticker symbols of stocks from etoro sheet (exported to another document)"
   ]
  },
  {
   "cell_type": "code",
   "execution_count": 20,
   "metadata": {},
   "outputs": [],
   "source": [
    "etoro_lists = 'D:\\lianz\\Desktop\\Python\\data_science_discovery\\personal_finance\\etoro_listings\\etoro-account-statement-10-1-2021-12-23-2022.xlsx'\n",
    "investment_history = pd.read_excel(etoro_lists,sheet_name='Account Activity')"
   ]
  },
  {
   "cell_type": "code",
   "execution_count": 43,
   "metadata": {},
   "outputs": [
    {
     "data": {
      "text/plain": [
       "['UAL',\n",
       " 'AF.PA',\n",
       " 'T',\n",
       " 'JNJ',\n",
       " 'DIS',\n",
       " 'AAPL',\n",
       " 'TSLA',\n",
       " 'JPM',\n",
       " 'GOOG',\n",
       " 'AMD',\n",
       " 'INGA.NV',\n",
       " 'SHEL.L',\n",
       " 'SMSN.L',\n",
       " 'WMT',\n",
       " 'NVDA',\n",
       " 'WBD',\n",
       " 'MMM',\n",
       " 'AMZN',\n",
       " 'COST']"
      ]
     },
     "execution_count": 43,
     "metadata": {},
     "output_type": "execute_result"
    }
   ],
   "source": [
    "# tickers = investment_history[investment_history['Asset type'] == 'Stocks']['Details'].str.split('/',expand=True)[0].unique()\n",
    "\n",
    "from tickerlist import tickers\n",
    "tickers"
   ]
  },
  {
   "attachments": {},
   "cell_type": "markdown",
   "metadata": {},
   "source": [
    "#### Request statements of each ticker symbol and store in 'personal_finance\\income_statements' folder"
   ]
  },
  {
   "cell_type": "code",
   "execution_count": 27,
   "metadata": {},
   "outputs": [],
   "source": [
    "possible_statements = ['income-statement','balance-sheet-statement','cash-flow-statement']"
   ]
  },
  {
   "cell_type": "code",
   "execution_count": 28,
   "metadata": {},
   "outputs": [],
   "source": [
    "def save_to_json(ticker_symbol,statement):\n",
    "    \n",
    "    file = selectquote(ticker_symbol,statement)\n",
    "\n",
    "    with open(f'D:\\lianz\\Desktop\\Python\\data_science_discovery\\personal_finance\\{statement}/{ticker_symbol}.json', 'w+') as f:\n",
    "        json.dump(file, f, indent=4)\n",
    "    "
   ]
  },
  {
   "attachments": {},
   "cell_type": "markdown",
   "metadata": {},
   "source": [
    "#### Only run this when there is a new income_statement available"
   ]
  },
  {
   "cell_type": "code",
   "execution_count": null,
   "metadata": {},
   "outputs": [],
   "source": [
    "# improvement: append to existing json file instead of rewriting to it with past 5 years, so longer term data can be acquired"
   ]
  },
  {
   "cell_type": "code",
   "execution_count": 32,
   "metadata": {},
   "outputs": [],
   "source": [
    "for x in tickers:\n",
    "    for y in possible_statements:\n",
    "        save_to_json(x,y)"
   ]
  },
  {
   "attachments": {},
   "cell_type": "markdown",
   "metadata": {},
   "source": [
    "#### Read in json files (requests not made repetitively)"
   ]
  },
  {
   "cell_type": "code",
   "execution_count": 47,
   "metadata": {},
   "outputs": [],
   "source": [
    "def read_json(ticker_list, statement):\n",
    "\n",
    "    with open(f'D:\\lianz\\Desktop\\Python\\data_science_discovery\\personal_finance\\{statement}/{ticker_list}.json') as json_file:\n",
    "        x = json.load(json_file)\n",
    "\n",
    "    return x"
   ]
  },
  {
   "cell_type": "code",
   "execution_count": 50,
   "metadata": {},
   "outputs": [],
   "source": [
    "UAL = read_json(tickers[0],'cash-flow-statement')"
   ]
  },
  {
   "cell_type": "code",
   "execution_count": 54,
   "metadata": {},
   "outputs": [
    {
     "data": {
      "text/plain": [
       "[2017, 2018, 2019, 2020, 2021]"
      ]
     },
     "execution_count": 54,
     "metadata": {},
     "output_type": "execute_result"
    }
   ],
   "source": [
    "year_range = range(int(UAL[-1]['calendarYear']), int(UAL[0]['calendarYear'])+1))\n",
    "year_range"
   ]
  },
  {
   "cell_type": "code",
   "execution_count": null,
   "metadata": {},
   "outputs": [],
   "source": []
  }
 ],
 "metadata": {
  "kernelspec": {
   "display_name": "Python 3.9.12 ('DataScience')",
   "language": "python",
   "name": "python3"
  },
  "language_info": {
   "codemirror_mode": {
    "name": "ipython",
    "version": 3
   },
   "file_extension": ".py",
   "mimetype": "text/x-python",
   "name": "python",
   "nbconvert_exporter": "python",
   "pygments_lexer": "ipython3",
   "version": "3.9.12"
  },
  "orig_nbformat": 4,
  "vscode": {
   "interpreter": {
    "hash": "15c829b79a9c192d7731c00829287f4b3b1aa9f9a3890f935442b2f4d956bef3"
   }
  }
 },
 "nbformat": 4,
 "nbformat_minor": 2
}
