{
 "cells": [
  {
   "cell_type": "markdown",
   "metadata": {},
   "source": [
    "## Import Libraries"
   ]
  },
  {
   "cell_type": "code",
   "execution_count": 32,
   "metadata": {},
   "outputs": [],
   "source": [
    "import pandas as pd\n",
    "import nltk as lp\n",
    "import streamlit as st\n",
    "import seaborn as sns"
   ]
  },
  {
   "cell_type": "markdown",
   "metadata": {},
   "source": [
    "## Data processing"
   ]
  },
  {
   "cell_type": "markdown",
   "metadata": {},
   "source": [
    "### Load in data"
   ]
  },
  {
   "cell_type": "code",
   "execution_count": 152,
   "metadata": {},
   "outputs": [],
   "source": [
    "df = pd.read_csv(\"expenses.csv\", sep=',', parse_dates=['date'], names=['date','account_name','from_acc_num','to_acc_num','code','af_bij','amount_(eur)','type','description'], header=0)"
   ]
  },
  {
   "cell_type": "markdown",
   "metadata": {},
   "source": [
    "### Convert EUR (str) into float datatype (only need to do it once)"
   ]
  },
  {
   "cell_type": "code",
   "execution_count": 153,
   "metadata": {},
   "outputs": [
    {
     "data": {
      "text/html": [
       "<div>\n",
       "<style scoped>\n",
       "    .dataframe tbody tr th:only-of-type {\n",
       "        vertical-align: middle;\n",
       "    }\n",
       "\n",
       "    .dataframe tbody tr th {\n",
       "        vertical-align: top;\n",
       "    }\n",
       "\n",
       "    .dataframe thead th {\n",
       "        text-align: right;\n",
       "    }\n",
       "</style>\n",
       "<table border=\"1\" class=\"dataframe\">\n",
       "  <thead>\n",
       "    <tr style=\"text-align: right;\">\n",
       "      <th></th>\n",
       "      <th>date</th>\n",
       "      <th>account_name</th>\n",
       "      <th>from_acc_num</th>\n",
       "      <th>to_acc_num</th>\n",
       "      <th>code</th>\n",
       "      <th>af_bij</th>\n",
       "      <th>amount_(eur)</th>\n",
       "      <th>type</th>\n",
       "      <th>description</th>\n",
       "    </tr>\n",
       "  </thead>\n",
       "  <tbody>\n",
       "    <tr>\n",
       "      <th>0</th>\n",
       "      <td>2022-10-06</td>\n",
       "      <td>CBR via ING</td>\n",
       "      <td>NL58INGB0658210033</td>\n",
       "      <td>NL92INGB0005302809</td>\n",
       "      <td>ID</td>\n",
       "      <td>Af</td>\n",
       "      <td>42.50</td>\n",
       "      <td>iDEAL</td>\n",
       "      <td>Naam: CBR via ING Omschrijving: 4595739362 005...</td>\n",
       "    </tr>\n",
       "    <tr>\n",
       "      <th>1</th>\n",
       "      <td>2022-10-06</td>\n",
       "      <td>Hr ZY Lian</td>\n",
       "      <td>NL58INGB0658210033</td>\n",
       "      <td>NaN</td>\n",
       "      <td>GT</td>\n",
       "      <td>Bij</td>\n",
       "      <td>100.00</td>\n",
       "      <td>Online bankieren</td>\n",
       "      <td>Van Oranje spaarrekening Z54728857 Valutadatum...</td>\n",
       "    </tr>\n",
       "    <tr>\n",
       "      <th>2</th>\n",
       "      <td>2022-10-06</td>\n",
       "      <td>Sports Supplements Ltd</td>\n",
       "      <td>NL58INGB0658210033</td>\n",
       "      <td>NL04ADYB2017400157</td>\n",
       "      <td>ID</td>\n",
       "      <td>Af</td>\n",
       "      <td>48.53</td>\n",
       "      <td>iDEAL</td>\n",
       "      <td>Naam: Sports Supplements Ltd Omschrijving: R8K...</td>\n",
       "    </tr>\n",
       "    <tr>\n",
       "      <th>3</th>\n",
       "      <td>2022-10-06</td>\n",
       "      <td>Mw E Guerrero Mavrou</td>\n",
       "      <td>NL58INGB0658210033</td>\n",
       "      <td>NL40INGB0657361607</td>\n",
       "      <td>GT</td>\n",
       "      <td>Af</td>\n",
       "      <td>18.00</td>\n",
       "      <td>Online bankieren</td>\n",
       "      <td>Naam: Mw E Guerrero Mavrou Omschrijving: Stora...</td>\n",
       "    </tr>\n",
       "    <tr>\n",
       "      <th>4</th>\n",
       "      <td>2022-10-06</td>\n",
       "      <td>Jumbo Overwinningspl GRONINGEN</td>\n",
       "      <td>NL58INGB0658210033</td>\n",
       "      <td>NaN</td>\n",
       "      <td>BA</td>\n",
       "      <td>Af</td>\n",
       "      <td>45.67</td>\n",
       "      <td>Betaalautomaat</td>\n",
       "      <td>Pasvolgnr: 900 05-10-2022 18:41 Transactie: W7...</td>\n",
       "    </tr>\n",
       "  </tbody>\n",
       "</table>\n",
       "</div>"
      ],
      "text/plain": [
       "        date                    account_name        from_acc_num  \\\n",
       "0 2022-10-06                     CBR via ING  NL58INGB0658210033   \n",
       "1 2022-10-06                      Hr ZY Lian  NL58INGB0658210033   \n",
       "2 2022-10-06          Sports Supplements Ltd  NL58INGB0658210033   \n",
       "3 2022-10-06            Mw E Guerrero Mavrou  NL58INGB0658210033   \n",
       "4 2022-10-06  Jumbo Overwinningspl GRONINGEN  NL58INGB0658210033   \n",
       "\n",
       "           to_acc_num code af_bij  amount_(eur)              type  \\\n",
       "0  NL92INGB0005302809   ID     Af         42.50             iDEAL   \n",
       "1                 NaN   GT    Bij        100.00  Online bankieren   \n",
       "2  NL04ADYB2017400157   ID     Af         48.53             iDEAL   \n",
       "3  NL40INGB0657361607   GT     Af         18.00  Online bankieren   \n",
       "4                 NaN   BA     Af         45.67    Betaalautomaat   \n",
       "\n",
       "                                         description  \n",
       "0  Naam: CBR via ING Omschrijving: 4595739362 005...  \n",
       "1  Van Oranje spaarrekening Z54728857 Valutadatum...  \n",
       "2  Naam: Sports Supplements Ltd Omschrijving: R8K...  \n",
       "3  Naam: Mw E Guerrero Mavrou Omschrijving: Stora...  \n",
       "4  Pasvolgnr: 900 05-10-2022 18:41 Transactie: W7...  "
      ]
     },
     "execution_count": 153,
     "metadata": {},
     "output_type": "execute_result"
    }
   ],
   "source": [
    "df['amount_(eur)'] = [float(i.replace(',','.')) for i in df['amount_(eur)']]\n",
    "df.head()"
   ]
  },
  {
   "cell_type": "markdown",
   "metadata": {},
   "source": [
    "#### Filtering for simple overview of all payments made for tuition"
   ]
  },
  {
   "cell_type": "code",
   "execution_count": 154,
   "metadata": {},
   "outputs": [],
   "source": [
    "df_tuition = df[(df['af_bij'] == 'Af') \n",
    "                & (df['amount_(eur)'] >= 2000) \n",
    "                & (df['account_name'] != 'Hr ZY Lian')][['date','account_name', 'amount_(eur)']]"
   ]
  },
  {
   "cell_type": "markdown",
   "metadata": {},
   "source": [
    "##### Lineplot"
   ]
  },
  {
   "cell_type": "code",
   "execution_count": 155,
   "metadata": {},
   "outputs": [
    {
     "data": {
      "text/plain": [
       "<AxesSubplot:xlabel='date'>"
      ]
     },
     "execution_count": 155,
     "metadata": {},
     "output_type": "execute_result"
    },
    {
     "data": {
      "image/png": "[encoded data removed]",
      "text/plain": [
       "<Figure size 640x480 with 1 Axes>"
      ]
     },
     "metadata": {},
     "output_type": "display_data"
    }
   ],
   "source": [
    "df_tuition.plot(x='date', y='amount_(eur)', kind='line')"
   ]
  },
  {
   "cell_type": "markdown",
   "metadata": {},
   "source": [
    "##### Boxplot"
   ]
  },
  {
   "cell_type": "code",
   "execution_count": 156,
   "metadata": {},
   "outputs": [
    {
     "data": {
      "text/plain": [
       "amount_(eur)    AxesSubplot(0.125,0.53;0.352273x0.35)\n",
       "dtype: object"
      ]
     },
     "execution_count": 156,
     "metadata": {},
     "output_type": "execute_result"
    },
    {
     "data": {
      "image/png": "[encoded data removed]",
      "text/plain": [
       "<Figure size 1400x800 with 4 Axes>"
      ]
     },
     "metadata": {},
     "output_type": "display_data"
    }
   ],
   "source": [
    "df_tuition['amount_(eur)'].plot(kind='box', vert=True, subplots=True, layout=(2,2), figsize=(14,8))"
   ]
  },
  {
   "cell_type": "markdown",
   "metadata": {},
   "source": [
    "##### Density plot"
   ]
  },
  {
   "cell_type": "code",
   "execution_count": 157,
   "metadata": {},
   "outputs": [
    {
     "data": {
      "text/plain": [
       "<matplotlib.lines.Line2D at 0x2284e825f10>"
      ]
     },
     "execution_count": 157,
     "metadata": {},
     "output_type": "execute_result"
    },
    {
     "data": {
      "image/png": "[encoded data removed]",
      "text/plain": [
       "<Figure size 640x480 with 1 Axes>"
      ]
     },
     "metadata": {},
     "output_type": "display_data"
    }
   ],
   "source": [
    "ax = df_tuition['amount_(eur)'].plot(kind='density')\n",
    "ax.axvline(df_tuition['amount_(eur)'].mean(), color='red')\n",
    "ax.axvline(df_tuition['amount_(eur)'].median(), color='green')"
   ]
  },
  {
   "cell_type": "markdown",
   "metadata": {},
   "source": [
    "##### Histogram"
   ]
  },
  {
   "cell_type": "code",
   "execution_count": 158,
   "metadata": {},
   "outputs": [
    {
     "data": {
      "text/plain": [
       "<AxesSubplot:ylabel='Frequency'>"
      ]
     },
     "execution_count": 158,
     "metadata": {},
     "output_type": "execute_result"
    },
    {
     "data": {
      "image/png": "[encoded data removed]",
      "text/plain": [
       "<Figure size 640x480 with 1 Axes>"
      ]
     },
     "metadata": {},
     "output_type": "display_data"
    }
   ],
   "source": [
    "df_tuition['amount_(eur)'].plot(kind='hist')"
   ]
  },
  {
   "cell_type": "markdown",
   "metadata": {},
   "source": [
    "### General DataFrame info"
   ]
  },
  {
   "cell_type": "code",
   "execution_count": 159,
   "metadata": {},
   "outputs": [
    {
     "data": {
      "text/plain": [
       "(5958, 9)"
      ]
     },
     "execution_count": 159,
     "metadata": {},
     "output_type": "execute_result"
    }
   ],
   "source": [
    "df.shape"
   ]
  },
  {
   "cell_type": "code",
   "execution_count": 160,
   "metadata": {},
   "outputs": [
    {
     "name": "stdout",
     "output_type": "stream",
     "text": [
      "<class 'pandas.core.frame.DataFrame'>\n",
      "RangeIndex: 5958 entries, 0 to 5957\n",
      "Data columns (total 9 columns):\n",
      " #   Column        Non-Null Count  Dtype         \n",
      "---  ------        --------------  -----         \n",
      " 0   date          5958 non-null   datetime64[ns]\n",
      " 1   account_name  5958 non-null   object        \n",
      " 2   from_acc_num  5958 non-null   object        \n",
      " 3   to_acc_num    2255 non-null   object        \n",
      " 4   code          5958 non-null   object        \n",
      " 5   af_bij        5958 non-null   object        \n",
      " 6   amount_(eur)  5958 non-null   float64       \n",
      " 7   type          5958 non-null   object        \n",
      " 8   description   5958 non-null   object        \n",
      "dtypes: datetime64[ns](1), float64(1), object(7)\n",
      "memory usage: 419.0+ KB\n"
     ]
    }
   ],
   "source": [
    "df.info()"
   ]
  },
  {
   "cell_type": "code",
   "execution_count": 161,
   "metadata": {},
   "outputs": [
    {
     "data": {
      "text/html": [
       "<div>\n",
       "<style scoped>\n",
       "    .dataframe tbody tr th:only-of-type {\n",
       "        vertical-align: middle;\n",
       "    }\n",
       "\n",
       "    .dataframe tbody tr th {\n",
       "        vertical-align: top;\n",
       "    }\n",
       "\n",
       "    .dataframe thead th {\n",
       "        text-align: right;\n",
       "    }\n",
       "</style>\n",
       "<table border=\"1\" class=\"dataframe\">\n",
       "  <thead>\n",
       "    <tr style=\"text-align: right;\">\n",
       "      <th></th>\n",
       "      <th>amount_(eur)</th>\n",
       "    </tr>\n",
       "  </thead>\n",
       "  <tbody>\n",
       "    <tr>\n",
       "      <th>count</th>\n",
       "      <td>5958.000000</td>\n",
       "    </tr>\n",
       "    <tr>\n",
       "      <th>mean</th>\n",
       "      <td>102.539260</td>\n",
       "    </tr>\n",
       "    <tr>\n",
       "      <th>std</th>\n",
       "      <td>412.786305</td>\n",
       "    </tr>\n",
       "    <tr>\n",
       "      <th>min</th>\n",
       "      <td>0.010000</td>\n",
       "    </tr>\n",
       "    <tr>\n",
       "      <th>25%</th>\n",
       "      <td>5.000000</td>\n",
       "    </tr>\n",
       "    <tr>\n",
       "      <th>50%</th>\n",
       "      <td>13.245000</td>\n",
       "    </tr>\n",
       "    <tr>\n",
       "      <th>75%</th>\n",
       "      <td>43.362500</td>\n",
       "    </tr>\n",
       "    <tr>\n",
       "      <th>max</th>\n",
       "      <td>10900.000000</td>\n",
       "    </tr>\n",
       "  </tbody>\n",
       "</table>\n",
       "</div>"
      ],
      "text/plain": [
       "       amount_(eur)\n",
       "count   5958.000000\n",
       "mean     102.539260\n",
       "std      412.786305\n",
       "min        0.010000\n",
       "25%        5.000000\n",
       "50%       13.245000\n",
       "75%       43.362500\n",
       "max    10900.000000"
      ]
     },
     "execution_count": 161,
     "metadata": {},
     "output_type": "execute_result"
    }
   ],
   "source": [
    "df.describe()"
   ]
  },
  {
   "cell_type": "code",
   "execution_count": 163,
   "metadata": {},
   "outputs": [
    {
     "data": {
      "text/plain": [
       "to_acc_num            \n",
       "NL50INGB0654704694        253\n",
       "NL31INGB0654704066        211\n",
       "NL55INGB0001979576        107\n",
       "DE88500700100175526303     95\n",
       "NL24INGB0655502599         83\n",
       "                         ... \n",
       "NL30ABNA0524590958          1\n",
       "NL29DEUT0319800040          1\n",
       "NL21RABO0301998604          1\n",
       "NL21ABNA0443441987          1\n",
       "NL98RABO0116746424          1\n",
       "Length: 195, dtype: int64"
      ]
     },
     "execution_count": 163,
     "metadata": {},
     "output_type": "execute_result"
    }
   ],
   "source": [
    "df.loc[:,['to_acc_num']].value_counts()"
   ]
  },
  {
   "cell_type": "code",
   "execution_count": 164,
   "metadata": {},
   "outputs": [
    {
     "data": {
      "text/html": [
       "<div>\n",
       "<style scoped>\n",
       "    .dataframe tbody tr th:only-of-type {\n",
       "        vertical-align: middle;\n",
       "    }\n",
       "\n",
       "    .dataframe tbody tr th {\n",
       "        vertical-align: top;\n",
       "    }\n",
       "\n",
       "    .dataframe thead th {\n",
       "        text-align: right;\n",
       "    }\n",
       "</style>\n",
       "<table border=\"1\" class=\"dataframe\">\n",
       "  <thead>\n",
       "    <tr style=\"text-align: right;\">\n",
       "      <th></th>\n",
       "      <th>date</th>\n",
       "      <th>account_name</th>\n",
       "      <th>from_acc_num</th>\n",
       "      <th>to_acc_num</th>\n",
       "      <th>code</th>\n",
       "      <th>af_bij</th>\n",
       "      <th>amount_(eur)</th>\n",
       "      <th>type</th>\n",
       "      <th>description</th>\n",
       "    </tr>\n",
       "  </thead>\n",
       "  <tbody>\n",
       "    <tr>\n",
       "      <th>62</th>\n",
       "      <td>2022-09-11</td>\n",
       "      <td>Hr G Donadon</td>\n",
       "      <td>NL58INGB0658210033</td>\n",
       "      <td>NL31INGB0654704066</td>\n",
       "      <td>GT</td>\n",
       "      <td>Bij</td>\n",
       "      <td>64.32</td>\n",
       "      <td>Online bankieren</td>\n",
       "      <td>Naam: Hr G Donadon IBAN: NL31INGB0654704066 Da...</td>\n",
       "    </tr>\n",
       "    <tr>\n",
       "      <th>146</th>\n",
       "      <td>2022-08-26</td>\n",
       "      <td>Massimiliano Donadon</td>\n",
       "      <td>NL58INGB0658210033</td>\n",
       "      <td>NL50INGB0654704694</td>\n",
       "      <td>GT</td>\n",
       "      <td>Af</td>\n",
       "      <td>500.00</td>\n",
       "      <td>Online bankieren</td>\n",
       "      <td>Naam: Massimiliano Donadon Omschrijving: Bo-Re...</td>\n",
       "    </tr>\n",
       "    <tr>\n",
       "      <th>252</th>\n",
       "      <td>2022-07-22</td>\n",
       "      <td>Hr M Donadon</td>\n",
       "      <td>NL58INGB0658210033</td>\n",
       "      <td>NL50INGB0654704694</td>\n",
       "      <td>GT</td>\n",
       "      <td>Bij</td>\n",
       "      <td>54.14</td>\n",
       "      <td>Online bankieren</td>\n",
       "      <td>Naam: Hr M Donadon Omschrijving: Noordelijk Be...</td>\n",
       "    </tr>\n",
       "    <tr>\n",
       "      <th>331</th>\n",
       "      <td>2022-06-27</td>\n",
       "      <td>Hr M Donadon</td>\n",
       "      <td>NL58INGB0658210033</td>\n",
       "      <td>NL50INGB0654704694</td>\n",
       "      <td>GT</td>\n",
       "      <td>Bij</td>\n",
       "      <td>3.15</td>\n",
       "      <td>Online bankieren</td>\n",
       "      <td>Naam: Hr M Donadon Omschrijving: Kuss gift IBA...</td>\n",
       "    </tr>\n",
       "    <tr>\n",
       "      <th>385</th>\n",
       "      <td>2022-06-10</td>\n",
       "      <td>Massimiliano Donadon</td>\n",
       "      <td>NL58INGB0658210033</td>\n",
       "      <td>NL50INGB0654704694</td>\n",
       "      <td>GT</td>\n",
       "      <td>Af</td>\n",
       "      <td>2.00</td>\n",
       "      <td>Online bankieren</td>\n",
       "      <td>Naam: Massimiliano Donadon IBAN: NL50INGB06547...</td>\n",
       "    </tr>\n",
       "    <tr>\n",
       "      <th>...</th>\n",
       "      <td>...</td>\n",
       "      <td>...</td>\n",
       "      <td>...</td>\n",
       "      <td>...</td>\n",
       "      <td>...</td>\n",
       "      <td>...</td>\n",
       "      <td>...</td>\n",
       "      <td>...</td>\n",
       "      <td>...</td>\n",
       "    </tr>\n",
       "    <tr>\n",
       "      <th>5552</th>\n",
       "      <td>2018-03-05</td>\n",
       "      <td>Hr G Donadon</td>\n",
       "      <td>NL58INGB0658210033</td>\n",
       "      <td>NL31INGB0654704066</td>\n",
       "      <td>GT</td>\n",
       "      <td>Bij</td>\n",
       "      <td>6.00</td>\n",
       "      <td>Online bankieren</td>\n",
       "      <td>Naam: Hr G Donadon IBAN: NL31INGB0654704066 Va...</td>\n",
       "    </tr>\n",
       "    <tr>\n",
       "      <th>5553</th>\n",
       "      <td>2018-03-05</td>\n",
       "      <td>Hr M Donadon</td>\n",
       "      <td>NL58INGB0658210033</td>\n",
       "      <td>NL50INGB0654704694</td>\n",
       "      <td>GT</td>\n",
       "      <td>Bij</td>\n",
       "      <td>6.00</td>\n",
       "      <td>Online bankieren</td>\n",
       "      <td>Naam: Hr M Donadon IBAN: NL50INGB0654704694 Va...</td>\n",
       "    </tr>\n",
       "    <tr>\n",
       "      <th>5611</th>\n",
       "      <td>2018-02-19</td>\n",
       "      <td>Hr G Donadon</td>\n",
       "      <td>NL58INGB0658210033</td>\n",
       "      <td>NL31INGB0654704066</td>\n",
       "      <td>GT</td>\n",
       "      <td>Bij</td>\n",
       "      <td>11.50</td>\n",
       "      <td>Online bankieren</td>\n",
       "      <td>Naam: Hr G Donadon Omschrijving: Movie IBAN: N...</td>\n",
       "    </tr>\n",
       "    <tr>\n",
       "      <th>5612</th>\n",
       "      <td>2018-02-19</td>\n",
       "      <td>Hr M Donadon</td>\n",
       "      <td>NL58INGB0658210033</td>\n",
       "      <td>NL50INGB0654704694</td>\n",
       "      <td>GT</td>\n",
       "      <td>Bij</td>\n",
       "      <td>11.50</td>\n",
       "      <td>Online bankieren</td>\n",
       "      <td>Naam: Hr M Donadon Omschrijving: Movie IBAN: N...</td>\n",
       "    </tr>\n",
       "    <tr>\n",
       "      <th>5811</th>\n",
       "      <td>2017-12-04</td>\n",
       "      <td>Hr G Donadon</td>\n",
       "      <td>NL58INGB0658210033</td>\n",
       "      <td>NL31INGB0654704066</td>\n",
       "      <td>GT</td>\n",
       "      <td>Af</td>\n",
       "      <td>7.50</td>\n",
       "      <td>Online bankieren</td>\n",
       "      <td>Naam: Hr G Donadon Omschrijving: ice skating I...</td>\n",
       "    </tr>\n",
       "  </tbody>\n",
       "</table>\n",
       "<p>464 rows × 9 columns</p>\n",
       "</div>"
      ],
      "text/plain": [
       "           date          account_name        from_acc_num          to_acc_num  \\\n",
       "62   2022-09-11          Hr G Donadon  NL58INGB0658210033  NL31INGB0654704066   \n",
       "146  2022-08-26  Massimiliano Donadon  NL58INGB0658210033  NL50INGB0654704694   \n",
       "252  2022-07-22          Hr M Donadon  NL58INGB0658210033  NL50INGB0654704694   \n",
       "331  2022-06-27          Hr M Donadon  NL58INGB0658210033  NL50INGB0654704694   \n",
       "385  2022-06-10  Massimiliano Donadon  NL58INGB0658210033  NL50INGB0654704694   \n",
       "...         ...                   ...                 ...                 ...   \n",
       "5552 2018-03-05          Hr G Donadon  NL58INGB0658210033  NL31INGB0654704066   \n",
       "5553 2018-03-05          Hr M Donadon  NL58INGB0658210033  NL50INGB0654704694   \n",
       "5611 2018-02-19          Hr G Donadon  NL58INGB0658210033  NL31INGB0654704066   \n",
       "5612 2018-02-19          Hr M Donadon  NL58INGB0658210033  NL50INGB0654704694   \n",
       "5811 2017-12-04          Hr G Donadon  NL58INGB0658210033  NL31INGB0654704066   \n",
       "\n",
       "     code af_bij  amount_(eur)              type  \\\n",
       "62     GT    Bij         64.32  Online bankieren   \n",
       "146    GT     Af        500.00  Online bankieren   \n",
       "252    GT    Bij         54.14  Online bankieren   \n",
       "331    GT    Bij          3.15  Online bankieren   \n",
       "385    GT     Af          2.00  Online bankieren   \n",
       "...   ...    ...           ...               ...   \n",
       "5552   GT    Bij          6.00  Online bankieren   \n",
       "5553   GT    Bij          6.00  Online bankieren   \n",
       "5611   GT    Bij         11.50  Online bankieren   \n",
       "5612   GT    Bij         11.50  Online bankieren   \n",
       "5811   GT     Af          7.50  Online bankieren   \n",
       "\n",
       "                                            description  \n",
       "62    Naam: Hr G Donadon IBAN: NL31INGB0654704066 Da...  \n",
       "146   Naam: Massimiliano Donadon Omschrijving: Bo-Re...  \n",
       "252   Naam: Hr M Donadon Omschrijving: Noordelijk Be...  \n",
       "331   Naam: Hr M Donadon Omschrijving: Kuss gift IBA...  \n",
       "385   Naam: Massimiliano Donadon IBAN: NL50INGB06547...  \n",
       "...                                                 ...  \n",
       "5552  Naam: Hr G Donadon IBAN: NL31INGB0654704066 Va...  \n",
       "5553  Naam: Hr M Donadon IBAN: NL50INGB0654704694 Va...  \n",
       "5611  Naam: Hr G Donadon Omschrijving: Movie IBAN: N...  \n",
       "5612  Naam: Hr M Donadon Omschrijving: Movie IBAN: N...  \n",
       "5811  Naam: Hr G Donadon Omschrijving: ice skating I...  \n",
       "\n",
       "[464 rows x 9 columns]"
      ]
     },
     "execution_count": 164,
     "metadata": {},
     "output_type": "execute_result"
    }
   ],
   "source": [
    "df[(df['to_acc_num'] == 'NL50INGB0654704694') | (df['to_acc_num'] == 'NL31INGB0654704066') & (df['description'])]"
   ]
  },
  {
   "cell_type": "markdown",
   "metadata": {},
   "source": [
    "### Convert text to numbers"
   ]
  },
  {
   "cell_type": "code",
   "execution_count": null,
   "metadata": {},
   "outputs": [],
   "source": []
  }
 ],
 "metadata": {
  "kernelspec": {
   "display_name": "Python 3.9.12 ('DataScience')",
   "language": "python",
   "name": "python3"
  },
  "language_info": {
   "codemirror_mode": {
    "name": "ipython",
    "version": 3
   },
   "file_extension": ".py",
   "mimetype": "text/x-python",
   "name": "python",
   "nbconvert_exporter": "python",
   "pygments_lexer": "ipython3",
   "version": "3.9.12"
  },
  "orig_nbformat": 4,
  "vscode": {
   "interpreter": {
    "hash": "15c829b79a9c192d7731c00829287f4b3b1aa9f9a3890f935442b2f4d956bef3"
   }
  }
 },
 "nbformat": 4,
 "nbformat_minor": 2
}
