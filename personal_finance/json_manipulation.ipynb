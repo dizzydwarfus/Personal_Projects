{
 "cells": [
  {
   "cell_type": "code",
   "execution_count": null,
   "metadata": {},
   "outputs": [],
   "source": [
    "import pandas as pd\n",
    "import json\n",
    "import requests\n",
    "from pymongo import MongoClient\n",
    "from bson.objectid import ObjectId\n",
    "import os\n",
    "from pprint import pprint\n",
    "import datetime as dt"
   ]
  },
  {
   "cell_type": "code",
   "execution_count": null,
   "metadata": {},
   "outputs": [],
   "source": [
    "with open('D:\\\\lianz\\\\Desktop\\\\Python\\\\personal_projects\\\\finance_dashboard\\\\mongodb_api.txt','r') as f:\n",
    "    cluster = f.readlines()[0]\n",
    "    \n",
    "client = MongoClient(cluster)\n",
    "\n",
    "# print(client.list_database_names())\n",
    "\n",
    "db = client.FinanceApp\n",
    "balance_sheet_collection = db.balance_sheet\n",
    "income_collection = db.income_statement\n",
    "cash_collection = db.cash_flow_statement\n",
    "company_profile = db.company_profile\n",
    "historical = db.historical\n",
    "stock_split = db.stock_split"
   ]
  },
  {
   "cell_type": "code",
   "execution_count": null,
   "metadata": {},
   "outputs": [],
   "source": [
    "arr = os.listdir(r\"D:\\\\lianz\\Desktop\\\\Python\\\\personal_projects\\\\personal_finance\\\\balance-sheet-statement\")\n",
    "len(arr)"
   ]
  },
  {
   "cell_type": "code",
   "execution_count": null,
   "metadata": {},
   "outputs": [],
   "source": [
    "with open('D:\\\\lianz\\\\Desktop\\\\Python\\\\personal_projects\\\\finance_dashboard\\\\fmp_api.txt','r') as f:\n",
    "    fmp_api = f.readlines()[0]"
   ]
  },
  {
   "cell_type": "code",
   "execution_count": null,
   "metadata": {},
   "outputs": [],
   "source": [
    "def select_profile(ticker, statement):\n",
    "    r = requests.get(\n",
    "        f\"https://financialmodelingprep.com/api/v3/{statement}/{ticker}?apikey={fmp_api}\")\n",
    "    r = r.json()\n",
    "    return r"
   ]
  },
  {
   "cell_type": "code",
   "execution_count": null,
   "metadata": {},
   "outputs": [],
   "source": [
    "a_profile = select_profile('A','profile')"
   ]
  },
  {
   "cell_type": "code",
   "execution_count": null,
   "metadata": {},
   "outputs": [],
   "source": [
    "a_profile[0]['symbol']"
   ]
  },
  {
   "cell_type": "code",
   "execution_count": null,
   "metadata": {},
   "outputs": [],
   "source": [
    "company_profile.insert_one(a_profile[0])"
   ]
  },
  {
   "cell_type": "code",
   "execution_count": null,
   "metadata": {},
   "outputs": [],
   "source": [
    "from pymongo import ASCENDING, DESCENDING"
   ]
  },
  {
   "cell_type": "code",
   "execution_count": null,
   "metadata": {},
   "outputs": [],
   "source": [
    "a_data = [i for i in balance_sheet_collection.find({'symbol':'AAL'}).sort('date', DESCENDING)]"
   ]
  },
  {
   "cell_type": "code",
   "execution_count": null,
   "metadata": {},
   "outputs": [],
   "source": [
    "a_data"
   ]
  },
  {
   "cell_type": "code",
   "execution_count": null,
   "metadata": {},
   "outputs": [],
   "source": [
    "company_profile.delete_one({})"
   ]
  },
  {
   "attachments": {},
   "cell_type": "markdown",
   "metadata": {},
   "source": [
    "##### Define function to access elements of an entry in database\n",
    "Use function to access individual elements of a document in a collection"
   ]
  },
  {
   "cell_type": "code",
   "execution_count": null,
   "metadata": {},
   "outputs": [],
   "source": [
    "def access_entry(collection_name, entry_name, entry_value, return_value):\n",
    "    data = collection_name.find({entry_name:entry_value})\n",
    "\n",
    "    data = [i[return_value] for i in data]\n",
    "\n",
    "    return data"
   ]
  },
  {
   "attachments": {},
   "cell_type": "markdown",
   "metadata": {},
   "source": [
    "##### Get list of tickers in database"
   ]
  },
  {
   "cell_type": "code",
   "execution_count": null,
   "metadata": {},
   "outputs": [],
   "source": [
    "balance_list = list(set([i['symbol'] for i in balance_sheet_collection.find()]))\n",
    "income_list = list(set([i['symbol'] for i in income_collection.find()]))\n",
    "cash_list = list(set([i['symbol'] for i in cash_collection.find()]))\n",
    "company_list = list(set([i['symbol'] for i in company_profile.find()]))\n",
    "list_tickers = [balance_list, income_list, cash_list, company_list]\n",
    "lengths = [len(i) for i in list_tickers]\n",
    "missing_tickers = [i for i in list_tickers if len(i) == max(lengths)]"
   ]
  },
  {
   "cell_type": "code",
   "execution_count": null,
   "metadata": {},
   "outputs": [],
   "source": [
    "profiles = [select_profile(i,'profile') for i in balance_list]"
   ]
  },
  {
   "cell_type": "code",
   "execution_count": null,
   "metadata": {},
   "outputs": [],
   "source": [
    "downloaded = [i[0]['symbol'] for i in profiles if len(i)>0]"
   ]
  },
  {
   "cell_type": "code",
   "execution_count": null,
   "metadata": {},
   "outputs": [],
   "source": [
    "def select_quote(ticker, statement):\n",
    "    r = requests.get(\n",
    "        f\"https://financialmodelingprep.com/api/v3/{statement}/{ticker}?limit=120&apikey=eb29218df82acef0486b5c014ccec868\")\n",
    "    r = r.json()\n",
    "    return r"
   ]
  },
  {
   "attachments": {},
   "cell_type": "markdown",
   "metadata": {},
   "source": [
    "##### Insert to database from API"
   ]
  },
  {
   "cell_type": "code",
   "execution_count": null,
   "metadata": {},
   "outputs": [],
   "source": [
    "def insert_to_mongoDB(ticker):\n",
    "\n",
    "    balance = select_quote(ticker, 'balance-sheet-statement')\n",
    "    income = select_quote(ticker, 'income-statement')\n",
    "    cash_flow = select_quote(ticker, 'cash-flow-statement')\n",
    "\n",
    "    if len(balance) <= 1 or len(income) <= 1 or len(cash_flow) <= 1:\n",
    "        pass\n",
    "    else:\n",
    "        for i in balance:\n",
    "            i['index_id'] = f\"{i['symbol']}_{i['date']}\"\n",
    "        for i in income:\n",
    "            i['index_id'] = f\"{i['symbol']}_{i['date']}\"    \n",
    "        for i in cash_flow:\n",
    "            i['index_id'] = f\"{i['symbol']}_{i['date']}\"\n",
    "        \n",
    "        bal_ids = [i['index_id'] for i in balance if i['index_id'] not in access_entry(balance_sheet_collection,'symbol',i['symbol'],'index_id')]\n",
    "        income_ids = [i['index_id'] for i in income if i['index_id'] not in access_entry(income_collection,'symbol',i['symbol'],'index_id')]\n",
    "        cash_ids = [i['index_id'] for i in cash_flow if i['index_id'] not in access_entry(cash_collection,'symbol',i['symbol'],'index_id')]\n",
    "\n",
    "        try:\n",
    "            balance_sheet_collection.insert_many([i for i in balance if i['index_id'] in bal_ids])\n",
    "            income_collection.insert_many([i for i in income if i['index_id'] in income_ids])\n",
    "            cash_collection.insert_many([i for i in cash_flow if i['index_id'] in cash_ids])\n",
    "        except:\n",
    "            pass"
   ]
  },
  {
   "attachments": {},
   "cell_type": "markdown",
   "metadata": {},
   "source": [
    "##### Insert to database from API per collection"
   ]
  },
  {
   "cell_type": "code",
   "execution_count": null,
   "metadata": {},
   "outputs": [],
   "source": [
    "def insert_to_mongoDB(collection, ticker, statement):\n",
    "\n",
    "    statement = select_quote(ticker, statement)\n",
    "\n",
    "    if len(statement) <= 1:\n",
    "        pass\n",
    "    else:\n",
    "        for i in statement:\n",
    "            i['index_id'] = f\"{i['symbol']}_{i['date']}\"\n",
    "        \n",
    "        ids = [i['index_id'] for i in statement if i['index_id'] not in access_entry(collection,'symbol',i['symbol'],'index_id')]\n",
    "\n",
    "        try:\n",
    "            collection.insert_many([i for i in statement if i['index_id'] in ids])\n",
    "        except:\n",
    "            print('statement already exists.')"
   ]
  },
  {
   "cell_type": "code",
   "execution_count": null,
   "metadata": {},
   "outputs": [],
   "source": [
    "insert_to_mongoDB(balance_sheet_collection, 'AAL', 'balance-sheet-statement')\n",
    "insert_to_mongoDB(cash_collection, 'AAL', 'cash-flow-statement')\n",
    "insert_to_mongoDB(income_collection, 'AAL', 'income-statement')"
   ]
  },
  {
   "cell_type": "code",
   "execution_count": null,
   "metadata": {},
   "outputs": [],
   "source": [
    "# balance_sheet_collection.create_index('index_id', unique=True)\n",
    "# cash_collection.create_index('index_id', unique=True)\n",
    "# income_collection.create_index('index_id', unique=True)\n",
    "# company_profile.create_index('index_id', unique=True)\n",
    "# historical.create_index('index_id', unique=True)\n",
    "stock_split.create_index('index_id', unique=True)"
   ]
  },
  {
   "attachments": {},
   "cell_type": "markdown",
   "metadata": {},
   "source": [
    "##### Insert to database from local computer"
   ]
  },
  {
   "cell_type": "code",
   "execution_count": null,
   "metadata": {},
   "outputs": [],
   "source": [
    "def insert_to_mongoDB(ticker):\n",
    "\n",
    "    balance = f'D:\\\\lianz\\\\Desktop\\\\Python\\\\personal_projects\\\\personal_finance\\\\balance-sheet-statement\\\\{ticker}'\n",
    "    income = f'D:\\\\lianz\\\\Desktop\\\\Python\\\\personal_projects\\\\personal_finance\\\\income-statement\\\\{ticker}'\n",
    "    cash_flow = f'D:\\\\lianz\\\\Desktop\\\\Python\\\\personal_projects\\\\personal_finance\\\\cash-flow-statement\\\\{ticker}'\n",
    "\n",
    "    with open(balance, 'r') as f:\n",
    "        data_bal = json.load(f)\n",
    "    with open(income, 'r') as f:\n",
    "        data_income = json.load(f)\n",
    "    with open(cash_flow, 'r') as f:\n",
    "        data_cash = json.load(f)\n",
    "\n",
    "\n",
    "    if len(data_bal) <= 1 or len(data_income) <= 1 or len(data_cash) <= 1:\n",
    "        pass\n",
    "    else:\n",
    "        for i in data_bal:\n",
    "            i['index_id'] = f\"{i['symbol']}_{i['date']}\"\n",
    "        for i in data_income:\n",
    "            i['index_id'] = f\"{i['symbol']}_{i['date']}\"    \n",
    "        for i in data_cash:\n",
    "            i['index_id'] = f\"{i['symbol']}_{i['date']}\"\n",
    "        \n",
    "        bal_ids = [i['index_id'] for i in data_bal if i['index_id'] not in access_entry(balance_sheet_collection,'symbol',i['symbol'],'index_id')]\n",
    "        income_ids = [i['index_id'] for i in data_bal if i['index_id'] not in access_entry(income_collection,'symbol',i['symbol'],'index_id')]\n",
    "        cash_ids = [i['index_id'] for i in data_bal if i['index_id'] not in access_entry(cash_collection,'symbol',i['symbol'],'index_id')]\n",
    "        \n",
    "        try:\n",
    "            balance_sheet_collection.insert_many([i for i in data_bal if i['index_id'] in bal_ids])\n",
    "            income_collection.insert_many([i for i in data_income if i['index_id'] in income_ids])\n",
    "            cash_collection.insert_many([i for i in data_cash if i['index_id'] in cash_ids])\n",
    "        except:\n",
    "            pass"
   ]
  },
  {
   "attachments": {},
   "cell_type": "markdown",
   "metadata": {},
   "source": [
    "##### Upload all currently stored statements to cloud database"
   ]
  },
  {
   "cell_type": "code",
   "execution_count": null,
   "metadata": {},
   "outputs": [],
   "source": [
    "for i in arr:\n",
    "    insert_to_mongoDB(i)"
   ]
  },
  {
   "cell_type": "code",
   "execution_count": null,
   "metadata": {},
   "outputs": [],
   "source": [
    "# The web framework gets post_id from the URL and passes it as a string\n",
    "def get(post_id):\n",
    "    # Convert from string to ObjectId:\n",
    "    document = client.db.collection.find_one({'_id': ObjectId(post_id)})"
   ]
  },
  {
   "attachments": {},
   "cell_type": "markdown",
   "metadata": {},
   "source": [
    "##### Delete database entries (only run when needed)"
   ]
  },
  {
   "cell_type": "code",
   "execution_count": null,
   "metadata": {},
   "outputs": [],
   "source": [
    "balance_sheet_collection.delete_many({'symbol':'AF'})\n",
    "cash_collection.delete_many({'symbol':'AF'})\n",
    "income_collection.delete_many({'symbol':'AF'})"
   ]
  },
  {
   "cell_type": "code",
   "execution_count": null,
   "metadata": {},
   "outputs": [],
   "source": [
    "balance_sheet_collection.delete_many({'symbol':'AAL','calendarYear':'2021'})\n",
    "cash_collection.delete_many({'symbol':'AAL','calendarYear':'2021'})\n",
    "income_collection.delete_many({'symbol':'AAL','calendarYear':'2021'})"
   ]
  },
  {
   "cell_type": "code",
   "execution_count": null,
   "metadata": {},
   "outputs": [],
   "source": [
    "A_2022 = balance_sheet_collection.find({'symbol':'A'})"
   ]
  },
  {
   "cell_type": "code",
   "execution_count": null,
   "metadata": {},
   "outputs": [],
   "source": [
    "[i for i in A_2022]"
   ]
  },
  {
   "cell_type": "code",
   "execution_count": null,
   "metadata": {},
   "outputs": [],
   "source": [
    "balance_sheet_collection.create_index(\"index_id\", unique=True)"
   ]
  },
  {
   "cell_type": "code",
   "execution_count": null,
   "metadata": {},
   "outputs": [],
   "source": [
    "with open('D:\\lianz\\Desktop\\Python\\personal_projects\\\\finance_dashboard\\\\fmp_api.txt','r') as f:\n",
    "    fmp_api = f.readlines()[0]"
   ]
  },
  {
   "cell_type": "code",
   "execution_count": null,
   "metadata": {},
   "outputs": [],
   "source": [
    "r = requests.get(\n",
    "    f\"https://financialmodelingprep.com/api/v3/historical-price-full/CVX?apikey={fmp_api}\")\n",
    "\n",
    "r = r.json()"
   ]
  },
  {
   "cell_type": "code",
   "execution_count": null,
   "metadata": {},
   "outputs": [],
   "source": [
    "def access_entry(_collection_name, entry_name, entry_value, return_value):\n",
    "    data = _collection_name.find({entry_name: entry_value})\n",
    "\n",
    "    data = [i[return_value] for i in data]\n",
    "\n",
    "    return data"
   ]
  },
  {
   "cell_type": "code",
   "execution_count": null,
   "metadata": {},
   "outputs": [],
   "source": [
    "for i in r['historical']:    \n",
    "    i['index_id'] = f\"{r['symbol']}_{i['date']}\"\n",
    "    i['symbol'] = f\"{r['symbol']}\"\n",
    "\n",
    "ids = [i['index_id'] for i in r['historical'] if i['index_id']\n",
    "            not in access_entry(historical, 'symbol', 'AAPL', 'index_id')]\n",
    "ids"
   ]
  },
  {
   "cell_type": "code",
   "execution_count": null,
   "metadata": {},
   "outputs": [],
   "source": [
    "try:\n",
    "    historical.insert_many([i for i in r['historical'] if i['index_id'] in ids])\n",
    "    print(f\"{r['symbol']} historical updated!\")\n",
    "\n",
    "except:\n",
    "    print(f\"{r['symbol']} historical already exists\")"
   ]
  },
  {
   "cell_type": "code",
   "execution_count": null,
   "metadata": {},
   "outputs": [],
   "source": [
    "from plotly.subplots import make_subplots\n",
    "import plotly.graph_objects as go\n",
    "\n",
    "df = pd.DataFrame.from_records([x for i,x in enumerate(r['historical'])], index='date')\n",
    "\n",
    "fig = make_subplots(specs=[[{\"secondary_y\": True}]])\n",
    "fig.add_trace(\n",
    "    go.Scatter(\n",
    "        x=df.index, y=df['adjClose'], mode=\"lines+markers\", name=f\"adjClose\"),\n",
    "    secondary_y=False,\n",
    ")\n",
    "\n",
    "fig.add_trace(\n",
    "    go.Bar(\n",
    "        x=df.index, y=df['volume'], marker=dict({'color': 'darkorange'}), texttemplate=\"%{value:,}\", textposition=\"inside\", name=\"Volume\"),\n",
    "    secondary_y=True,\n",
    ")\n"
   ]
  },
  {
   "cell_type": "code",
   "execution_count": null,
   "metadata": {},
   "outputs": [],
   "source": [
    "r['historical'][0].keys()"
   ]
  },
  {
   "cell_type": "code",
   "execution_count": 212,
   "metadata": {},
   "outputs": [],
   "source": [
    "aapl_hist = pd.DataFrame.from_records([x for i,x in enumerate(historical.find({'symbol':'AAPL'}))], index='date').sort_index()"
   ]
  },
  {
   "cell_type": "code",
   "execution_count": 222,
   "metadata": {},
   "outputs": [
    {
     "data": {
      "text/plain": [
       "DatetimeIndex(['2023-01-03', '2023-01-04', '2023-01-05', '2023-01-06',\n",
       "               '2023-01-09', '2023-01-10', '2023-01-11', '2023-01-12',\n",
       "               '2023-01-13', '2023-01-17', '2023-01-18', '2023-01-19',\n",
       "               '2023-01-20', '2023-01-23', '2023-01-24', '2023-01-25',\n",
       "               '2023-01-26', '2023-01-27', '2023-01-30', '2023-01-31',\n",
       "               '2023-02-01', '2023-02-02', '2023-02-03', '2023-02-06',\n",
       "               '2023-02-07', '2023-02-08', '2023-02-09', '2023-02-10',\n",
       "               '2023-02-13', '2023-02-14', '2023-02-15', '2023-02-16',\n",
       "               '2023-02-17', '2023-02-21', '2023-02-22', '2023-02-23',\n",
       "               '2023-02-24', '2023-02-27', '2023-02-28', '2023-03-01',\n",
       "               '2023-03-02', '2023-03-03', '2023-03-07'],\n",
       "              dtype='datetime64[ns]', name='date', freq=None)"
      ]
     },
     "execution_count": 222,
     "metadata": {},
     "output_type": "execute_result"
    }
   ],
   "source": [
    "aapl_hist.loc[aapl_hist.index.date >= dt.date(2023,1,1)].index"
   ]
  },
  {
   "cell_type": "code",
   "execution_count": null,
   "metadata": {},
   "outputs": [],
   "source": [
    "def download_stocksplit(ticker):\n",
    "    r = requests.get(\n",
    "        f\"https://financialmodelingprep.com/api/v3/historical-price-full/stock_split/{ticker}?apikey={fmp_api}\"\n",
    "    )\n",
    "    r = r.json()\n",
    "    return r"
   ]
  },
  {
   "cell_type": "code",
   "execution_count": null,
   "metadata": {},
   "outputs": [],
   "source": [
    "aapl_stocksplit = download_stocksplit('AAPL')"
   ]
  },
  {
   "cell_type": "code",
   "execution_count": null,
   "metadata": {},
   "outputs": [],
   "source": [
    "for i in aapl_stocksplit['historical']:\n",
    "    i['index_id'] = f\"{aapl_stocksplit['symbol']}_{i['date']}\"\n",
    "    i['date'] = dt.datetime.strptime(i['date'], '%Y-%m-%d')"
   ]
  },
  {
   "cell_type": "code",
   "execution_count": null,
   "metadata": {},
   "outputs": [],
   "source": [
    "pd.DataFrame.from_records(aapl_stocksplit['historical'], index='date')"
   ]
  },
  {
   "cell_type": "code",
   "execution_count": null,
   "metadata": {},
   "outputs": [],
   "source": [
    "def stock_price_api(ticker):\n",
    "    url = \"https://alpha-vantage.p.rapidapi.com/query\"\n",
    "    headers = {\"X-RapidAPI-Key\": \"4cf7dba8camshc88301e2a919dd8p18fae9jsn2c1f30ad5ee4\",\n",
    "               \"X-RapidAPI-Host\": \"alpha-vantage.p.rapidapi.com\"}\n",
    "    querystring = {\"function\":\"TIME_SERIES_DAILY\",\"symbol\":f\"{ticker}\",\"outputsize\":\"full\",\"datatype\":\"json\"}\n",
    "    response = requests.request(\"GET\", url=url, headers=headers, params=querystring)\n",
    "    return response.json()"
   ]
  },
  {
   "cell_type": "code",
   "execution_count": null,
   "metadata": {},
   "outputs": [],
   "source": [
    "historical.delete_many({'symbol':'A'})"
   ]
  },
  {
   "cell_type": "code",
   "execution_count": null,
   "metadata": {},
   "outputs": [],
   "source": [
    "file = stock_price_api('A')\n"
   ]
  },
  {
   "cell_type": "code",
   "execution_count": null,
   "metadata": {},
   "outputs": [],
   "source": [
    "for i,x in file['Time Series (Daily)'].items():    \n",
    "    x['index_id'] = f\"{'A'}_{i}\"\n",
    "    x['symbol'] = f\"{'A'}\"\n",
    "    x['date'] = i\n",
    "historical.insert_many([x for i,x in file['Time Series (Daily)'].items()])"
   ]
  },
  {
   "cell_type": "code",
   "execution_count": null,
   "metadata": {},
   "outputs": [],
   "source": [
    "historical.update_many({'date':{'$type':\"string\"}},[\n",
    "    {\n",
    "        '$set': {\n",
    "            'date': {\n",
    "                '$dateFromString': {\n",
    "                    'dateString': '$date', \n",
    "                    'format': '%Y-%m-%d'\n",
    "                }\n",
    "            }\n",
    "        }\n",
    "    }\n",
    "])"
   ]
  },
  {
   "cell_type": "code",
   "execution_count": 223,
   "metadata": {},
   "outputs": [
    {
     "ename": "KeyError",
     "evalue": "'index_id'",
     "output_type": "error",
     "traceback": [
      "\u001b[1;31m---------------------------------------------------------------------------\u001b[0m",
      "\u001b[1;31mKeyError\u001b[0m                                  Traceback (most recent call last)",
      "\u001b[1;32m~\\AppData\\Local\\Temp\\ipykernel_30320\\1826450313.py\u001b[0m in \u001b[0;36m<cell line: 1>\u001b[1;34m()\u001b[0m\n\u001b[1;32m----> 1\u001b[1;33m \u001b[0mlist\u001b[0m\u001b[1;33m(\u001b[0m\u001b[0mset\u001b[0m\u001b[1;33m(\u001b[0m\u001b[1;33m[\u001b[0m\u001b[0mi\u001b[0m\u001b[1;33m[\u001b[0m\u001b[1;34m'index_id'\u001b[0m\u001b[1;33m]\u001b[0m \u001b[1;32mfor\u001b[0m \u001b[0mi\u001b[0m \u001b[1;32min\u001b[0m \u001b[0mhistorical\u001b[0m\u001b[1;33m.\u001b[0m\u001b[0mfind\u001b[0m\u001b[1;33m(\u001b[0m\u001b[1;33m)\u001b[0m\u001b[1;33m]\u001b[0m\u001b[1;33m)\u001b[0m\u001b[1;33m)\u001b[0m\u001b[1;33m\u001b[0m\u001b[1;33m\u001b[0m\u001b[0m\n\u001b[0m",
      "\u001b[1;32m~\\AppData\\Local\\Temp\\ipykernel_30320\\1826450313.py\u001b[0m in \u001b[0;36m<listcomp>\u001b[1;34m(.0)\u001b[0m\n\u001b[1;32m----> 1\u001b[1;33m \u001b[0mlist\u001b[0m\u001b[1;33m(\u001b[0m\u001b[0mset\u001b[0m\u001b[1;33m(\u001b[0m\u001b[1;33m[\u001b[0m\u001b[0mi\u001b[0m\u001b[1;33m[\u001b[0m\u001b[1;34m'index_id'\u001b[0m\u001b[1;33m]\u001b[0m \u001b[1;32mfor\u001b[0m \u001b[0mi\u001b[0m \u001b[1;32min\u001b[0m \u001b[0mhistorical\u001b[0m\u001b[1;33m.\u001b[0m\u001b[0mfind\u001b[0m\u001b[1;33m(\u001b[0m\u001b[1;33m)\u001b[0m\u001b[1;33m]\u001b[0m\u001b[1;33m)\u001b[0m\u001b[1;33m)\u001b[0m\u001b[1;33m\u001b[0m\u001b[1;33m\u001b[0m\u001b[0m\n\u001b[0m",
      "\u001b[1;31mKeyError\u001b[0m: 'index_id'"
     ]
    }
   ],
   "source": [
    "list(set([i['index_id'] for i in historical.find()]))"
   ]
  },
  {
   "cell_type": "code",
   "execution_count": null,
   "metadata": {},
   "outputs": [],
   "source": []
  }
 ],
 "metadata": {
  "kernelspec": {
   "display_name": "DataScience",
   "language": "python",
   "name": "python3"
  },
  "language_info": {
   "codemirror_mode": {
    "name": "ipython",
    "version": 3
   },
   "file_extension": ".py",
   "mimetype": "text/x-python",
   "name": "python",
   "nbconvert_exporter": "python",
   "pygments_lexer": "ipython3",
   "version": "3.9.12"
  },
  "orig_nbformat": 4,
  "vscode": {
   "interpreter": {
    "hash": "15c829b79a9c192d7731c00829287f4b3b1aa9f9a3890f935442b2f4d956bef3"
   }
  }
 },
 "nbformat": 4,
 "nbformat_minor": 2
}
