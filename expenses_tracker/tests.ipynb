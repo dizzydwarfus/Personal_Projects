{
 "cells": [
  {
   "cell_type": "code",
   "execution_count": 16,
   "metadata": {},
   "outputs": [],
   "source": [
    "import json\n",
    "import datetime as dt"
   ]
  },
  {
   "cell_type": "code",
   "execution_count": null,
   "metadata": {},
   "outputs": [],
   "source": [
    "# load expenses.json\n",
    "with open(\"local_dev/expenses.json\", \"r\") as f:\n",
    "    expenses = json.load(f)\n",
    "\n",
    "expenses['months'].sort(key=lambda x: dt.datetime.strptime(x['month'], '%B %Y'))"
   ]
  },
  {
   "cell_type": "code",
   "execution_count": 17,
   "metadata": {},
   "outputs": [
    {
     "data": {
      "text/plain": [
       "datetime.datetime(2023, 4, 1, 0, 0)"
      ]
     },
     "execution_count": 17,
     "metadata": {},
     "output_type": "execute_result"
    }
   ],
   "source": [
    "dt.datetime.strptime('April 2023', '%B %Y')"
   ]
  },
  {
   "cell_type": "code",
   "execution_count": 6,
   "metadata": {},
   "outputs": [],
   "source": [
    "from sqlalchemy import create_engine\n",
    "from sqlalchemy.engine import URL\n",
    "import os\n",
    "from dotenv import dotenv_values\n",
    "from functools import partial\n",
    "from sqlalchemy import text\n",
    "\n",
    "secrets = dotenv_values(\".env\")\n",
    "\n",
    "\n",
    "def create_connection_url(server, database, username, password, port, driver):\n",
    "    connection_url = URL.create(\n",
    "        \"mssql+pyodbc\",\n",
    "        username=username,\n",
    "        password=password,\n",
    "        host=server,\n",
    "        port=port,\n",
    "        database=database,\n",
    "        query={\n",
    "            \"driver\": driver,\n",
    "            \"TrustServerCertificate\": \"No\",\n",
    "        }\n",
    "    )\n",
    "    return connection_url\n",
    "\n",
    "\n",
    "def test_connection(connection_string):\n",
    "    try:\n",
    "        connection_string = connection_string\n",
    "        engine = create_engine(connection_string)\n",
    "        with engine.connect() as connection:  # get a connection\n",
    "            print(\"Successfully connected to the database.\")\n",
    "            result = connection.execute(text(\n",
    "                'SELECT @@VERSION'))  # execute the query\n",
    "            row = result.fetchone()  # fetch the result\n",
    "            print(f\"SQL Server version: {row[0]}\")\n",
    "            assert row[0] is not None\n",
    "    except Exception as e:\n",
    "        # If the connection fails, the test will fail with an exception\n",
    "        assert False, f'Connection test failed: {e}'\n",
    "\n",
    "\n",
    "server = secrets['azure_sql_server']\n",
    "database = secrets['azure_sql_database']\n",
    "username = secrets['azure_DB_username']\n",
    "password = secrets['azure_DB_password']\n",
    "port = secrets['port']\n",
    "driver = secrets['azure_DB_driver']\n",
    "\n",
    "CreateURL = partial(create_connection_url, server=server,\n",
    "                    username=username, password=password, port=port, driver=driver,)"
   ]
  },
  {
   "cell_type": "code",
   "execution_count": 8,
   "metadata": {},
   "outputs": [
    {
     "name": "stdout",
     "output_type": "stream",
     "text": [
      "Successfully connected to the database.\n",
      "SQL Server version: Microsoft SQL Azure (RTM) - 12.0.2000.8 \n",
      "\tMay 22 2023 22:22:02 \n",
      "\tCopyright (C) 2022 Microsoft Corporation\n",
      "\n"
     ]
    }
   ],
   "source": [
    "test_connection(CreateURL(database=database))"
   ]
  }
 ],
 "metadata": {
  "kernelspec": {
   "display_name": "expenses_tracker",
   "language": "python",
   "name": "python3"
  },
  "language_info": {
   "codemirror_mode": {
    "name": "ipython",
    "version": 3
   },
   "file_extension": ".py",
   "mimetype": "text/x-python",
   "name": "python",
   "nbconvert_exporter": "python",
   "pygments_lexer": "ipython3",
   "version": "3.11.3"
  },
  "orig_nbformat": 4
 },
 "nbformat": 4,
 "nbformat_minor": 2
}
