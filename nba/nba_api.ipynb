{
 "cells": [
  {
   "cell_type": "code",
   "execution_count": 1,
   "metadata": {},
   "outputs": [],
   "source": [
    "import pandas as pd\n",
    "import datetime as dt\n",
    "import requests\n",
    "from pprint import pprint"
   ]
  },
  {
   "cell_type": "code",
   "execution_count": 25,
   "metadata": {},
   "outputs": [],
   "source": [
    "with open('D:\\\\lianz\\\\Desktop\\\\Python\\\\personal_projects\\\\finance_dashboard\\\\alpha_vantage_api.txt','r') as f:\n",
    "    alpha_vantage_api = f.readlines()[0]"
   ]
  },
  {
   "cell_type": "code",
   "execution_count": null,
   "metadata": {},
   "outputs": [],
   "source": [
    "#TODO: collect and load into SQL database"
   ]
  },
  {
   "attachments": {},
   "cell_type": "markdown",
   "metadata": {},
   "source": [
    "# Load API"
   ]
  },
  {
   "cell_type": "code",
   "execution_count": 38,
   "metadata": {},
   "outputs": [],
   "source": [
    "def get_nba_info(endpoint: str, **kwargs):\n",
    "\n",
    "    url = f\"https://api-nba-v1.p.rapidapi.com/{endpoint}\"\n",
    "\n",
    "    headers = {\n",
    "        \"X-RapidAPI-Key\": alpha_vantage_api,\n",
    "        \"X-RapidAPI-Host\": \"api-nba-v1.p.rapidapi.com\"\n",
    "    }\n",
    "\n",
    "    response = requests.request(\"GET\", url, headers=headers, params=kwargs)\n",
    "\n",
    "    r = response.json()\n",
    "\n",
    "    return r\n",
    "\n",
    "seasons = {'endpoint':'seasons'}\n",
    "leagues = {'endpoint': 'leagues'}\n",
    "games = {'endpoint': 'games', 'id': int, 'date': [str, 'YYYY-MM-DD'], 'live': str, 'league': str, 'season': int, 'team': int, 'h2h': str}\n",
    "games_stats = {'endpoint': 'games/statistics', 'id': int}\n",
    "teams = {'endpoint': 'teams', 'id': int, 'name': str, 'code':  str, 'league': str, 'conference': str, 'division': str, 'search': str}\n",
    "team_stats = {'endpoint': 'teams/statistics', 'id': int, 'seaons': int}\n",
    "players = {'endpoint': 'players', 'id': int, 'name': str, 'team': int, 'season': int, 'country': str, 'search': str}\n",
    "player_stats = {'endpoint': 'players/statistics', 'id': int, 'game': int, 'team': int, 'season': int}\n",
    "standings = {'endpoint': 'standings', 'league': str, 'season': int, 'team': int, 'conference': str, 'division': str,}"
   ]
  },
  {
   "cell_type": "code",
   "execution_count": 39,
   "metadata": {},
   "outputs": [
    {
     "data": {
      "text/plain": [
       "{'get': 'players/statistics',\n",
       " 'parameters': {'id': '265'},\n",
       " 'errors': {'season': 'The Season field is required.'},\n",
       " 'results': 0,\n",
       " 'response': []}"
      ]
     },
     "execution_count": 39,
     "metadata": {},
     "output_type": "execute_result"
    }
   ],
   "source": [
    "get_nba_info('players', search='james')\n",
    "get_nba_info('players/statistics?season=2020&id=265')"
   ]
  },
  {
   "cell_type": "code",
   "execution_count": 6,
   "metadata": {},
   "outputs": [],
   "source": [
    "import requests\n",
    "import datetime\n",
    "\n",
    "# Get the date for the previous night\n",
    "yesterday = datetime.datetime.now() - datetime.timedelta(days=1)\n",
    "date_string = yesterday.strftime(\"%Y%m%d\")\n",
    "\n",
    "# Build the URL for the scoreboard endpoint\n",
    "scoreboard_url = f\"https://stats.nba.com/stats/scoreboardv2?DayOffset=-1&LeagueID=00&gameDate={date_string}\"\n",
    "\n",
    "# Make a request to the scoreboard endpoint\n",
    "response = requests.get(scoreboard_url)\n",
    "\n",
    "# Get the GameIDs for all games played on the previous night\n",
    "game_ids = []\n",
    "for game in response.json()[\"games\"]:\n",
    "    game_ids.append(game[\"gameId\"])\n",
    "\n",
    "# Loop through each GameID and retrieve data for each game using the boxscoretraditionalv2 endpoint\n",
    "for game_id in game_ids:\n",
    "    boxscore_url = f\"https://stats.nba.com/stats/boxscoretraditionalv2?EndPeriod=10&EndRange=28800&GameID={game_id}&RangeType=0&SeasonType=Regular+Season&StartPeriod=1&StartRange=0\"\n",
    "    response = requests.get(boxscore_url)\n",
    "    for player in response.json()[\"resultSets\"][0][\"rowSet\"]:\n",
    "        # Extract the information for each player, such as points scored\n",
    "        player_name = player[2]\n",
    "        points_scored = player[21]\n",
    "        print(f\"{player_name}: {points_scored} points\")\n"
   ]
  },
  {
   "cell_type": "code",
   "execution_count": null,
   "metadata": {},
   "outputs": [],
   "source": []
  }
 ],
 "metadata": {
  "kernelspec": {
   "display_name": "DataScience",
   "language": "python",
   "name": "python3"
  },
  "language_info": {
   "codemirror_mode": {
    "name": "ipython",
    "version": 3
   },
   "file_extension": ".py",
   "mimetype": "text/x-python",
   "name": "python",
   "nbconvert_exporter": "python",
   "pygments_lexer": "ipython3",
   "version": "3.9.12"
  },
  "orig_nbformat": 4,
  "vscode": {
   "interpreter": {
    "hash": "15c829b79a9c192d7731c00829287f4b3b1aa9f9a3890f935442b2f4d956bef3"
   }
  }
 },
 "nbformat": 4,
 "nbformat_minor": 2
}
