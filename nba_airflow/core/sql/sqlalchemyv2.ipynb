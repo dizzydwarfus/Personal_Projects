{
 "cells": [
  {
   "attachments": {},
   "cell_type": "markdown",
   "metadata": {},
   "source": [
    "# SQL Server Database"
   ]
  },
  {
   "cell_type": "code",
   "execution_count": 1,
   "metadata": {},
   "outputs": [],
   "source": [
    "import sqlalchemy\n",
    "from sqlalchemy import text\n",
    "from functools import partial\n",
    "import pandas as pd\n",
    "from sql_connector import DB\n",
    "import re"
   ]
  },
  {
   "attachments": {},
   "cell_type": "markdown",
   "metadata": {},
   "source": [
    "## Create Engine"
   ]
  },
  {
   "cell_type": "code",
   "execution_count": 2,
   "metadata": {},
   "outputs": [
    {
     "name": "stdout",
     "output_type": "stream",
     "text": [
      "2023-08-11 22:36:57,705 INFO sqlalchemy.engine.Engine SELECT CAST(SERVERPROPERTY('ProductVersion') AS VARCHAR)\n",
      "2023-08-11 22:36:57,706 INFO sqlalchemy.engine.Engine [raw sql] ()\n",
      "2023-08-11 22:36:57,708 INFO sqlalchemy.engine.Engine SELECT schema_name()\n",
      "2023-08-11 22:36:57,709 INFO sqlalchemy.engine.Engine [generated in 0.00059s] ()\n",
      "2023-08-11 22:36:57,713 INFO sqlalchemy.engine.Engine SELECT CAST('test max support' AS NVARCHAR(max))\n",
      "2023-08-11 22:36:57,713 INFO sqlalchemy.engine.Engine [generated in 0.00069s] ()\n",
      "2023-08-11 22:36:57,716 INFO sqlalchemy.engine.Engine SELECT 1 FROM fn_listextendedproperty(default, default, default, default, default, default, default)\n",
      "2023-08-11 22:36:57,716 INFO sqlalchemy.engine.Engine [generated in 0.00048s] ()\n",
      "2023-08-11 22:36:57,721 INFO sqlalchemy.engine.Engine BEGIN (implicit)\n",
      "2023-08-11 22:36:57,721 INFO sqlalchemy.engine.Engine SELECT DB_NAME()\n",
      "2023-08-11 22:36:57,722 INFO sqlalchemy.engine.Engine [generated in 0.00123s] ()\n",
      "2023-08-11 22:36:57,726 INFO sqlalchemy.engine.Engine ROLLBACK\n",
      "Connection to NBA was successful.\n"
     ]
    },
    {
     "data": {
      "text/plain": [
       "True"
      ]
     },
     "execution_count": 2,
     "metadata": {},
     "output_type": "execute_result"
    }
   ],
   "source": [
    "nba = DB(db_name='NBA')\n",
    "nba.test_connection()"
   ]
  },
  {
   "attachments": {},
   "cell_type": "markdown",
   "metadata": {},
   "source": [
    "## Create Table"
   ]
  },
  {
   "attachments": {},
   "cell_type": "markdown",
   "metadata": {},
   "source": [
    "### Columns to Create"
   ]
  },
  {
   "cell_type": "code",
   "execution_count": 4,
   "metadata": {},
   "outputs": [],
   "source": [
    "player_shotLocations = pd.read_csv(r\"D:\\lianz\\Desktop\\Python\\personal_projects\\nba_airflow\\data\\player_shotLocations.csv\", skipinitialspace=True, index_col=0)\n",
    "games_played = pd.read_csv(r\"D:\\lianz\\Desktop\\Python\\personal_projects\\nba_airflow\\data\\games_played.csv\", parse_dates=['DateTime'])\n",
    "players = pd.read_csv(r\"D:\\lianz\\Desktop\\Python\\personal_projects\\nba_airflow\\data\\players.csv\", parse_dates=['Birth Date'])\n",
    "play_by_play = pd.read_parquet(r\"D:\\lianz\\Desktop\\Python\\personal_projects\\nba_airflow\\data\\play_by_play.parquet\")"
   ]
  },
  {
   "cell_type": "code",
   "execution_count": 7,
   "metadata": {},
   "outputs": [
    {
     "ename": "IndentationError",
     "evalue": "expected an indented block (3255611815.py, line 3)",
     "output_type": "error",
     "traceback": [
      "\u001b[1;36m  File \u001b[1;32m\"C:\\Users\\lianz\\AppData\\Local\\Temp\\ipykernel_27460\\3255611815.py\"\u001b[1;36m, line \u001b[1;32m3\u001b[0m\n\u001b[1;33m    \u001b[0m\n\u001b[1;37m    ^\u001b[0m\n\u001b[1;31mIndentationError\u001b[0m\u001b[1;31m:\u001b[0m expected an indented block\n"
     ]
    }
   ],
   "source": [
    "# Create function to create table in database\n",
    "def create_table(engine, table_name, df):\n",
    "    "
   ]
  },
  {
   "attachments": {},
   "cell_type": "markdown",
   "metadata": {},
   "source": [
    "### Execute SQL to Create Table"
   ]
  },
  {
   "cell_type": "code",
   "execution_count": null,
   "metadata": {},
   "outputs": [],
   "source": [
    "create_team_table = text(\"\"\"\n",
    "CREATE TABLE teams(\n",
    "team_id INT PRIMARY KEY NOT NULL,\n",
    "team_name VARCHAR(20),\n",
    "team_abbreviation CHAR(3)\n",
    ")\n",
    "\"\"\")\n",
    "\n",
    "create_player_table = text(\"\"\"\n",
    "CREATE TABLE players(\n",
    "player_id INT PRIMARY KEY,\n",
    "player_name VARCHAR(30),\n",
    "from INT,\n",
    "to INT,\n",
    "position VARCHAR(5),\n",
    "height VARCHAR(5),\n",
    "weight INT,\n",
    "birth_date datetime,\n",
    "college VARCHAR(255),\n",
    ") \n",
    "\"\"\")\n",
    "\n",
    "create_team_arena = text(\"\"\"\n",
    "CREATE TABLE arena_history(\n",
    "arena_id INT PRIMARY KEY,\n",
    "arena_name VARCHAR(30),\n",
    "team_year INT,\n",
    "team_id INT FOREIGN KEY REFERENCES teams(team_id)\n",
    ")\n",
    "\"\"\")\n",
    "\n",
    "create_player_team_table = text(\"\"\"\n",
    "CREATE TABLE player_team_history(\n",
    "id INT NOT NULL IDENTITY(1,1),\n",
    "player_id INT FOREIGN KEY REFERENCES players(player_id),\n",
    "player_age INT,\n",
    "team_id INT FOREIGN KEY REFERENCES teams(team_id),\n",
    "year VARCHAR(10)\n",
    ")\n",
    "\"\"\")\n",
    "\n",
    "create_games_played = text(\"\"\"\n",
    "CREATE TABLE games_played(\n",
    "game_id CHAR(18) PRIMARY KEY,\n",
    "game_date datetime,\n",
    "visitor_team_id INT FOREIGN KEY REFERENCES teams(team_id), \n",
    "visitor_pts INT NOT NULL,\n",
    "home_team_id INT FOREIGN KEY REFERENCES teams(team_id),\n",
    "home_pts INT NOT NULL,\n",
    "overtime VARCHAR(5),\n",
    "attendance INT,\n",
    "arena_id INT\n",
    ")\n",
    "\"\"\")\n",
    "\n",
    "with nba.engine.begin() as conn:\n",
    "    conn.execute(create_team_table)\n",
    "    conn.execute(create_player_table)\n",
    "    conn.execute(create_team_arena)\n",
    "    conn.execute(create_player_team_table)\n",
    "    conn.execute(create_games_played)"
   ]
  },
  {
   "attachments": {},
   "cell_type": "markdown",
   "metadata": {},
   "source": [
    "## Add Columns to Table"
   ]
  },
  {
   "cell_type": "code",
   "execution_count": null,
   "metadata": {},
   "outputs": [],
   "source": [
    "add_arena_col = text(\"\"\"\n",
    "ALTER TABLE teams\n",
    "ADD arena_name VARCHAR(30);\n",
    "\"\"\")\n",
    "\n",
    "with nba.engine.begin() as conn:\n",
    "    conn.execute(add_arena_col)"
   ]
  },
  {
   "attachments": {},
   "cell_type": "markdown",
   "metadata": {},
   "source": [
    "## Insert Table"
   ]
  },
  {
   "cell_type": "code",
   "execution_count": null,
   "metadata": {},
   "outputs": [],
   "source": [
    "games_played = games_played.dropna(subset=['Arena'])\n",
    "games_played['DateStr'].apply(lambda x: len(str(x)))"
   ]
  },
  {
   "cell_type": "code",
   "execution_count": null,
   "metadata": {},
   "outputs": [],
   "source": [
    "from sqlalchemy import DateTime, INT, VARCHAR\n",
    "\n",
    "games_played.set_index('game_id').to_sql(name='games_played',\n",
    "                    con=nba.engine,\n",
    "                    if_exists='append',\n",
    "                    dtype={'DateTime': DateTime,\n",
    "                           'Visitor': VARCHAR(50),\n",
    "                           'Visitor PTS': INT,\n",
    "                           'Home': VARCHAR(50),\n",
    "                           'Home PTS': INT,\n",
    "                           'OT': VARCHAR(10),\n",
    "                           'Attendance': INT, \n",
    "                           'Arena': VARCHAR(50), \n",
    "                           'DateStr': VARCHAR(12),\n",
    "                           'Visitor_short': VARCHAR(3), \n",
    "                           'Home_short': VARCHAR(3),\n",
    "                           'game_id': VARCHAR(18)})"
   ]
  },
  {
   "cell_type": "code",
   "execution_count": null,
   "metadata": {},
   "outputs": [],
   "source": [
    "teams_df = games_played.rename(columns={'Home':'team_name', 'Home_short':'team_abbreviation',})[['DateTime','team_name','team_abbreviation','Arena']].copy()\n",
    "teams_df['year'] = teams_df['DateTime'].apply(lambda x: str(x.year))\n",
    "teams_df.drop(columns=['DateTime'], inplace=True)\n",
    "teams_df = teams_df.dropna(subset=['Arena']).drop_duplicates()\n",
    "teams_df['team_id'] = teams_df['team_abbreviation'] + teams_df['year']"
   ]
  },
  {
   "attachments": {},
   "cell_type": "markdown",
   "metadata": {},
   "source": [
    "### Execute SQL Statement to INSERT"
   ]
  },
  {
   "cell_type": "code",
   "execution_count": null,
   "metadata": {},
   "outputs": [],
   "source": [
    "player_shotLocations[['PLAYER_ID', 'PLAYER_NAME','NICKNAME']].drop_duplicates('PLAYER_ID').to_sql('players',nba.engine, index=False)"
   ]
  },
  {
   "cell_type": "code",
   "execution_count": null,
   "metadata": {},
   "outputs": [],
   "source": [
    "insert_table = text(\"\"\"\n",
    "INSERT INTO teams (team_id, team_name)\n",
    "VALUES (:player_id, :player_name)\n",
    "\"\"\")\n",
    "\n",
    "with nba.engine.begin() as conn:\n",
    "    conn.execute(insert_table, [{\"player_id\": 1, \"player_name\": 1}, {\"player_id\": 2, \"player_name\": 4}],)"
   ]
  },
  {
   "attachments": {},
   "cell_type": "markdown",
   "metadata": {},
   "source": [
    "# Drop Table"
   ]
  },
  {
   "cell_type": "code",
   "execution_count": 45,
   "metadata": {},
   "outputs": [],
   "source": [
    "# Create function to drop table, can take in a list of tables\n",
    "def drop_table(table_list):\n",
    "    for table in table_list:\n",
    "        table.drop(engine)\n",
    "        print(f\"Table {table} dropped\")\n",
    "\n"
   ]
  },
  {
   "cell_type": "code",
   "execution_count": 37,
   "metadata": {},
   "outputs": [
    {
     "name": "stdout",
     "output_type": "stream",
     "text": [
      "2023-08-11 22:30:43,797 INFO sqlalchemy.engine.Engine BEGIN (implicit)\n",
      "2023-08-11 22:30:43,798 INFO sqlalchemy.engine.Engine \n",
      "DROP TABLE player_team_history;\n",
      "DROP TABLE games_played;\n",
      "DROP TABLE arena_history;\n",
      "DROP TABLE players;\n",
      "DROP TABLE teams;\n",
      "\n",
      "\n",
      "2023-08-11 22:30:43,798 INFO sqlalchemy.engine.Engine [generated in 0.00077s] ()\n",
      "2023-08-11 22:30:43,831 INFO sqlalchemy.engine.Engine ROLLBACK\n"
     ]
    },
    {
     "ename": "ProgrammingError",
     "evalue": "(pyodbc.ProgrammingError) ('42S02', \"[42S02] [Microsoft][ODBC Driver 17 for SQL Server][SQL Server]Cannot drop the table 'player_team_history', because it does not exist or you do not have permission. (3701) (SQLExecDirectW)\")\n[SQL: \nDROP TABLE player_team_history;\nDROP TABLE games_played;\nDROP TABLE arena_history;\nDROP TABLE players;\nDROP TABLE teams;\n\n]\n(Background on this error at: https://sqlalche.me/e/20/f405)",
     "output_type": "error",
     "traceback": [
      "\u001b[1;31m---------------------------------------------------------------------------\u001b[0m",
      "\u001b[1;31mProgrammingError\u001b[0m                          Traceback (most recent call last)",
      "\u001b[1;32mc:\\Users\\lianz\\anaconda3\\envs\\DataScience\\lib\\site-packages\\sqlalchemy\\engine\\base.py\u001b[0m in \u001b[0;36m_exec_single_context\u001b[1;34m(self, dialect, context, statement, parameters)\u001b[0m\n\u001b[0;32m   1967\u001b[0m                 \u001b[1;32mif\u001b[0m \u001b[1;32mnot\u001b[0m \u001b[0mevt_handled\u001b[0m\u001b[1;33m:\u001b[0m\u001b[1;33m\u001b[0m\u001b[1;33m\u001b[0m\u001b[0m\n\u001b[1;32m-> 1968\u001b[1;33m                     self.dialect.do_execute(\n\u001b[0m\u001b[0;32m   1969\u001b[0m                         \u001b[0mcursor\u001b[0m\u001b[1;33m,\u001b[0m \u001b[0mstr_statement\u001b[0m\u001b[1;33m,\u001b[0m \u001b[0meffective_parameters\u001b[0m\u001b[1;33m,\u001b[0m \u001b[0mcontext\u001b[0m\u001b[1;33m\u001b[0m\u001b[1;33m\u001b[0m\u001b[0m\n",
      "\u001b[1;32mc:\\Users\\lianz\\anaconda3\\envs\\DataScience\\lib\\site-packages\\sqlalchemy\\engine\\default.py\u001b[0m in \u001b[0;36mdo_execute\u001b[1;34m(self, cursor, statement, parameters, context)\u001b[0m\n\u001b[0;32m    919\u001b[0m     \u001b[1;32mdef\u001b[0m \u001b[0mdo_execute\u001b[0m\u001b[1;33m(\u001b[0m\u001b[0mself\u001b[0m\u001b[1;33m,\u001b[0m \u001b[0mcursor\u001b[0m\u001b[1;33m,\u001b[0m \u001b[0mstatement\u001b[0m\u001b[1;33m,\u001b[0m \u001b[0mparameters\u001b[0m\u001b[1;33m,\u001b[0m \u001b[0mcontext\u001b[0m\u001b[1;33m=\u001b[0m\u001b[1;32mNone\u001b[0m\u001b[1;33m)\u001b[0m\u001b[1;33m:\u001b[0m\u001b[1;33m\u001b[0m\u001b[1;33m\u001b[0m\u001b[0m\n\u001b[1;32m--> 920\u001b[1;33m         \u001b[0mcursor\u001b[0m\u001b[1;33m.\u001b[0m\u001b[0mexecute\u001b[0m\u001b[1;33m(\u001b[0m\u001b[0mstatement\u001b[0m\u001b[1;33m,\u001b[0m \u001b[0mparameters\u001b[0m\u001b[1;33m)\u001b[0m\u001b[1;33m\u001b[0m\u001b[1;33m\u001b[0m\u001b[0m\n\u001b[0m\u001b[0;32m    921\u001b[0m \u001b[1;33m\u001b[0m\u001b[0m\n",
      "\u001b[1;31mProgrammingError\u001b[0m: ('42S02', \"[42S02] [Microsoft][ODBC Driver 17 for SQL Server][SQL Server]Cannot drop the table 'player_team_history', because it does not exist or you do not have permission. (3701) (SQLExecDirectW)\")",
      "\nThe above exception was the direct cause of the following exception:\n",
      "\u001b[1;31mProgrammingError\u001b[0m                          Traceback (most recent call last)",
      "\u001b[1;32m~\\AppData\\Local\\Temp\\ipykernel_20836\\2323590785.py\u001b[0m in \u001b[0;36m<cell line: 10>\u001b[1;34m()\u001b[0m\n\u001b[0;32m      9\u001b[0m \u001b[1;33m\u001b[0m\u001b[0m\n\u001b[0;32m     10\u001b[0m \u001b[1;32mwith\u001b[0m \u001b[0mnba\u001b[0m\u001b[1;33m.\u001b[0m\u001b[0mengine\u001b[0m\u001b[1;33m.\u001b[0m\u001b[0mbegin\u001b[0m\u001b[1;33m(\u001b[0m\u001b[1;33m)\u001b[0m \u001b[1;32mas\u001b[0m \u001b[0mconn\u001b[0m\u001b[1;33m:\u001b[0m\u001b[1;33m\u001b[0m\u001b[1;33m\u001b[0m\u001b[0m\n\u001b[1;32m---> 11\u001b[1;33m     \u001b[0mconn\u001b[0m\u001b[1;33m.\u001b[0m\u001b[0mexecute\u001b[0m\u001b[1;33m(\u001b[0m\u001b[0mdrop_table\u001b[0m\u001b[1;33m)\u001b[0m\u001b[1;33m\u001b[0m\u001b[1;33m\u001b[0m\u001b[0m\n\u001b[0m",
      "\u001b[1;32mc:\\Users\\lianz\\anaconda3\\envs\\DataScience\\lib\\site-packages\\sqlalchemy\\engine\\base.py\u001b[0m in \u001b[0;36mexecute\u001b[1;34m(self, statement, parameters, execution_options)\u001b[0m\n\u001b[0;32m   1411\u001b[0m             \u001b[1;32mraise\u001b[0m \u001b[0mexc\u001b[0m\u001b[1;33m.\u001b[0m\u001b[0mObjectNotExecutableError\u001b[0m\u001b[1;33m(\u001b[0m\u001b[0mstatement\u001b[0m\u001b[1;33m)\u001b[0m \u001b[1;32mfrom\u001b[0m \u001b[0merr\u001b[0m\u001b[1;33m\u001b[0m\u001b[1;33m\u001b[0m\u001b[0m\n\u001b[0;32m   1412\u001b[0m         \u001b[1;32melse\u001b[0m\u001b[1;33m:\u001b[0m\u001b[1;33m\u001b[0m\u001b[1;33m\u001b[0m\u001b[0m\n\u001b[1;32m-> 1413\u001b[1;33m             return meth(\n\u001b[0m\u001b[0;32m   1414\u001b[0m                 \u001b[0mself\u001b[0m\u001b[1;33m,\u001b[0m\u001b[1;33m\u001b[0m\u001b[1;33m\u001b[0m\u001b[0m\n\u001b[0;32m   1415\u001b[0m                 \u001b[0mdistilled_parameters\u001b[0m\u001b[1;33m,\u001b[0m\u001b[1;33m\u001b[0m\u001b[1;33m\u001b[0m\u001b[0m\n",
      "\u001b[1;32mc:\\Users\\lianz\\anaconda3\\envs\\DataScience\\lib\\site-packages\\sqlalchemy\\sql\\elements.py\u001b[0m in \u001b[0;36m_execute_on_connection\u001b[1;34m(self, connection, distilled_params, execution_options)\u001b[0m\n\u001b[0;32m    481\u001b[0m             \u001b[1;32mif\u001b[0m \u001b[0mTYPE_CHECKING\u001b[0m\u001b[1;33m:\u001b[0m\u001b[1;33m\u001b[0m\u001b[1;33m\u001b[0m\u001b[0m\n\u001b[0;32m    482\u001b[0m                 \u001b[1;32massert\u001b[0m \u001b[0misinstance\u001b[0m\u001b[1;33m(\u001b[0m\u001b[0mself\u001b[0m\u001b[1;33m,\u001b[0m \u001b[0mExecutable\u001b[0m\u001b[1;33m)\u001b[0m\u001b[1;33m\u001b[0m\u001b[1;33m\u001b[0m\u001b[0m\n\u001b[1;32m--> 483\u001b[1;33m             return connection._execute_clauseelement(\n\u001b[0m\u001b[0;32m    484\u001b[0m                 \u001b[0mself\u001b[0m\u001b[1;33m,\u001b[0m \u001b[0mdistilled_params\u001b[0m\u001b[1;33m,\u001b[0m \u001b[0mexecution_options\u001b[0m\u001b[1;33m\u001b[0m\u001b[1;33m\u001b[0m\u001b[0m\n\u001b[0;32m    485\u001b[0m             )\n",
      "\u001b[1;32mc:\\Users\\lianz\\anaconda3\\envs\\DataScience\\lib\\site-packages\\sqlalchemy\\engine\\base.py\u001b[0m in \u001b[0;36m_execute_clauseelement\u001b[1;34m(self, elem, distilled_parameters, execution_options)\u001b[0m\n\u001b[0;32m   1635\u001b[0m             \u001b[0mlinting\u001b[0m\u001b[1;33m=\u001b[0m\u001b[0mself\u001b[0m\u001b[1;33m.\u001b[0m\u001b[0mdialect\u001b[0m\u001b[1;33m.\u001b[0m\u001b[0mcompiler_linting\u001b[0m \u001b[1;33m|\u001b[0m \u001b[0mcompiler\u001b[0m\u001b[1;33m.\u001b[0m\u001b[0mWARN_LINTING\u001b[0m\u001b[1;33m,\u001b[0m\u001b[1;33m\u001b[0m\u001b[1;33m\u001b[0m\u001b[0m\n\u001b[0;32m   1636\u001b[0m         )\n\u001b[1;32m-> 1637\u001b[1;33m         ret = self._execute_context(\n\u001b[0m\u001b[0;32m   1638\u001b[0m             \u001b[0mdialect\u001b[0m\u001b[1;33m,\u001b[0m\u001b[1;33m\u001b[0m\u001b[1;33m\u001b[0m\u001b[0m\n\u001b[0;32m   1639\u001b[0m             \u001b[0mdialect\u001b[0m\u001b[1;33m.\u001b[0m\u001b[0mexecution_ctx_cls\u001b[0m\u001b[1;33m.\u001b[0m\u001b[0m_init_compiled\u001b[0m\u001b[1;33m,\u001b[0m\u001b[1;33m\u001b[0m\u001b[1;33m\u001b[0m\u001b[0m\n",
      "\u001b[1;32mc:\\Users\\lianz\\anaconda3\\envs\\DataScience\\lib\\site-packages\\sqlalchemy\\engine\\base.py\u001b[0m in \u001b[0;36m_execute_context\u001b[1;34m(self, dialect, constructor, statement, parameters, execution_options, *args, **kw)\u001b[0m\n\u001b[0;32m   1844\u001b[0m             )\n\u001b[0;32m   1845\u001b[0m         \u001b[1;32melse\u001b[0m\u001b[1;33m:\u001b[0m\u001b[1;33m\u001b[0m\u001b[1;33m\u001b[0m\u001b[0m\n\u001b[1;32m-> 1846\u001b[1;33m             return self._exec_single_context(\n\u001b[0m\u001b[0;32m   1847\u001b[0m                 \u001b[0mdialect\u001b[0m\u001b[1;33m,\u001b[0m \u001b[0mcontext\u001b[0m\u001b[1;33m,\u001b[0m \u001b[0mstatement\u001b[0m\u001b[1;33m,\u001b[0m \u001b[0mparameters\u001b[0m\u001b[1;33m\u001b[0m\u001b[1;33m\u001b[0m\u001b[0m\n\u001b[0;32m   1848\u001b[0m             )\n",
      "\u001b[1;32mc:\\Users\\lianz\\anaconda3\\envs\\DataScience\\lib\\site-packages\\sqlalchemy\\engine\\base.py\u001b[0m in \u001b[0;36m_exec_single_context\u001b[1;34m(self, dialect, context, statement, parameters)\u001b[0m\n\u001b[0;32m   1985\u001b[0m \u001b[1;33m\u001b[0m\u001b[0m\n\u001b[0;32m   1986\u001b[0m         \u001b[1;32mexcept\u001b[0m \u001b[0mBaseException\u001b[0m \u001b[1;32mas\u001b[0m \u001b[0me\u001b[0m\u001b[1;33m:\u001b[0m\u001b[1;33m\u001b[0m\u001b[1;33m\u001b[0m\u001b[0m\n\u001b[1;32m-> 1987\u001b[1;33m             self._handle_dbapi_exception(\n\u001b[0m\u001b[0;32m   1988\u001b[0m                 \u001b[0me\u001b[0m\u001b[1;33m,\u001b[0m \u001b[0mstr_statement\u001b[0m\u001b[1;33m,\u001b[0m \u001b[0meffective_parameters\u001b[0m\u001b[1;33m,\u001b[0m \u001b[0mcursor\u001b[0m\u001b[1;33m,\u001b[0m \u001b[0mcontext\u001b[0m\u001b[1;33m\u001b[0m\u001b[1;33m\u001b[0m\u001b[0m\n\u001b[0;32m   1989\u001b[0m             )\n",
      "\u001b[1;32mc:\\Users\\lianz\\anaconda3\\envs\\DataScience\\lib\\site-packages\\sqlalchemy\\engine\\base.py\u001b[0m in \u001b[0;36m_handle_dbapi_exception\u001b[1;34m(self, e, statement, parameters, cursor, context, is_sub_exec)\u001b[0m\n\u001b[0;32m   2342\u001b[0m             \u001b[1;32melif\u001b[0m \u001b[0mshould_wrap\u001b[0m\u001b[1;33m:\u001b[0m\u001b[1;33m\u001b[0m\u001b[1;33m\u001b[0m\u001b[0m\n\u001b[0;32m   2343\u001b[0m                 \u001b[1;32massert\u001b[0m \u001b[0msqlalchemy_exception\u001b[0m \u001b[1;32mis\u001b[0m \u001b[1;32mnot\u001b[0m \u001b[1;32mNone\u001b[0m\u001b[1;33m\u001b[0m\u001b[1;33m\u001b[0m\u001b[0m\n\u001b[1;32m-> 2344\u001b[1;33m                 \u001b[1;32mraise\u001b[0m \u001b[0msqlalchemy_exception\u001b[0m\u001b[1;33m.\u001b[0m\u001b[0mwith_traceback\u001b[0m\u001b[1;33m(\u001b[0m\u001b[0mexc_info\u001b[0m\u001b[1;33m[\u001b[0m\u001b[1;36m2\u001b[0m\u001b[1;33m]\u001b[0m\u001b[1;33m)\u001b[0m \u001b[1;32mfrom\u001b[0m \u001b[0me\u001b[0m\u001b[1;33m\u001b[0m\u001b[1;33m\u001b[0m\u001b[0m\n\u001b[0m\u001b[0;32m   2345\u001b[0m             \u001b[1;32melse\u001b[0m\u001b[1;33m:\u001b[0m\u001b[1;33m\u001b[0m\u001b[1;33m\u001b[0m\u001b[0m\n\u001b[0;32m   2346\u001b[0m                 \u001b[1;32massert\u001b[0m \u001b[0mexc_info\u001b[0m\u001b[1;33m[\u001b[0m\u001b[1;36m1\u001b[0m\u001b[1;33m]\u001b[0m \u001b[1;32mis\u001b[0m \u001b[1;32mnot\u001b[0m \u001b[1;32mNone\u001b[0m\u001b[1;33m\u001b[0m\u001b[1;33m\u001b[0m\u001b[0m\n",
      "\u001b[1;32mc:\\Users\\lianz\\anaconda3\\envs\\DataScience\\lib\\site-packages\\sqlalchemy\\engine\\base.py\u001b[0m in \u001b[0;36m_exec_single_context\u001b[1;34m(self, dialect, context, statement, parameters)\u001b[0m\n\u001b[0;32m   1966\u001b[0m                             \u001b[1;32mbreak\u001b[0m\u001b[1;33m\u001b[0m\u001b[1;33m\u001b[0m\u001b[0m\n\u001b[0;32m   1967\u001b[0m                 \u001b[1;32mif\u001b[0m \u001b[1;32mnot\u001b[0m \u001b[0mevt_handled\u001b[0m\u001b[1;33m:\u001b[0m\u001b[1;33m\u001b[0m\u001b[1;33m\u001b[0m\u001b[0m\n\u001b[1;32m-> 1968\u001b[1;33m                     self.dialect.do_execute(\n\u001b[0m\u001b[0;32m   1969\u001b[0m                         \u001b[0mcursor\u001b[0m\u001b[1;33m,\u001b[0m \u001b[0mstr_statement\u001b[0m\u001b[1;33m,\u001b[0m \u001b[0meffective_parameters\u001b[0m\u001b[1;33m,\u001b[0m \u001b[0mcontext\u001b[0m\u001b[1;33m\u001b[0m\u001b[1;33m\u001b[0m\u001b[0m\n\u001b[0;32m   1970\u001b[0m                     )\n",
      "\u001b[1;32mc:\\Users\\lianz\\anaconda3\\envs\\DataScience\\lib\\site-packages\\sqlalchemy\\engine\\default.py\u001b[0m in \u001b[0;36mdo_execute\u001b[1;34m(self, cursor, statement, parameters, context)\u001b[0m\n\u001b[0;32m    918\u001b[0m \u001b[1;33m\u001b[0m\u001b[0m\n\u001b[0;32m    919\u001b[0m     \u001b[1;32mdef\u001b[0m \u001b[0mdo_execute\u001b[0m\u001b[1;33m(\u001b[0m\u001b[0mself\u001b[0m\u001b[1;33m,\u001b[0m \u001b[0mcursor\u001b[0m\u001b[1;33m,\u001b[0m \u001b[0mstatement\u001b[0m\u001b[1;33m,\u001b[0m \u001b[0mparameters\u001b[0m\u001b[1;33m,\u001b[0m \u001b[0mcontext\u001b[0m\u001b[1;33m=\u001b[0m\u001b[1;32mNone\u001b[0m\u001b[1;33m)\u001b[0m\u001b[1;33m:\u001b[0m\u001b[1;33m\u001b[0m\u001b[1;33m\u001b[0m\u001b[0m\n\u001b[1;32m--> 920\u001b[1;33m         \u001b[0mcursor\u001b[0m\u001b[1;33m.\u001b[0m\u001b[0mexecute\u001b[0m\u001b[1;33m(\u001b[0m\u001b[0mstatement\u001b[0m\u001b[1;33m,\u001b[0m \u001b[0mparameters\u001b[0m\u001b[1;33m)\u001b[0m\u001b[1;33m\u001b[0m\u001b[1;33m\u001b[0m\u001b[0m\n\u001b[0m\u001b[0;32m    921\u001b[0m \u001b[1;33m\u001b[0m\u001b[0m\n\u001b[0;32m    922\u001b[0m     \u001b[1;32mdef\u001b[0m \u001b[0mdo_execute_no_params\u001b[0m\u001b[1;33m(\u001b[0m\u001b[0mself\u001b[0m\u001b[1;33m,\u001b[0m \u001b[0mcursor\u001b[0m\u001b[1;33m,\u001b[0m \u001b[0mstatement\u001b[0m\u001b[1;33m,\u001b[0m \u001b[0mcontext\u001b[0m\u001b[1;33m=\u001b[0m\u001b[1;32mNone\u001b[0m\u001b[1;33m)\u001b[0m\u001b[1;33m:\u001b[0m\u001b[1;33m\u001b[0m\u001b[1;33m\u001b[0m\u001b[0m\n",
      "\u001b[1;31mProgrammingError\u001b[0m: (pyodbc.ProgrammingError) ('42S02', \"[42S02] [Microsoft][ODBC Driver 17 for SQL Server][SQL Server]Cannot drop the table 'player_team_history', because it does not exist or you do not have permission. (3701) (SQLExecDirectW)\")\n[SQL: \nDROP TABLE player_team_history;\nDROP TABLE games_played;\nDROP TABLE arena_history;\nDROP TABLE players;\nDROP TABLE teams;\n\n]\n(Background on this error at: https://sqlalche.me/e/20/f405)"
     ]
    }
   ],
   "source": [
    "drop_table = text(\"\"\"\n",
    "DROP TABLE player_team_history;\n",
    "DROP TABLE games_played;\n",
    "DROP TABLE arena_history;\n",
    "DROP TABLE players;\n",
    "DROP TABLE teams;\n",
    "\n",
    "\"\"\")\n",
    "\n",
    "with nba.engine.begin() as conn:\n",
    "    conn.execute(drop_table)"
   ]
  },
  {
   "attachments": {},
   "cell_type": "markdown",
   "metadata": {},
   "source": [
    "# Drop Column from Table"
   ]
  },
  {
   "cell_type": "code",
   "execution_count": null,
   "metadata": {},
   "outputs": [],
   "source": [
    "column_to_drop = '[index]'\n",
    "table_name = 'play_by_play'\n",
    "drop_column = text(f\"\"\"\n",
    "ALTER TABLE {table_name}\n",
    "DROP COLUMN {column_to_drop}\n",
    "\"\"\")\n",
    "\n",
    "with nba.engine.begin() as conn:\n",
    "    conn.execute(drop_column)\n",
    "    print(f'Column {column_to_drop} has been dropped from table {table_name}')"
   ]
  },
  {
   "attachments": {},
   "cell_type": "markdown",
   "metadata": {},
   "source": [
    "# Access Data from Table"
   ]
  },
  {
   "cell_type": "code",
   "execution_count": 8,
   "metadata": {},
   "outputs": [
    {
     "name": "stdout",
     "output_type": "stream",
     "text": [
      "2023-08-09 00:27:20,753 INFO sqlalchemy.engine.Engine BEGIN (implicit)\n",
      "2023-08-09 00:27:20,754 INFO sqlalchemy.engine.Engine SELECT DISTINCT player_name FROM play_by_play\n",
      "2023-08-09 00:27:20,755 INFO sqlalchemy.engine.Engine [generated in 0.00143s] ()\n",
      "2023-08-09 00:27:21,951 INFO sqlalchemy.engine.Engine ROLLBACK\n"
     ]
    }
   ],
   "source": [
    "with nba.engine.connect() as conn:\n",
    "    pbp = conn.execute(text(\"SELECT DISTINCT player_name FROM play_by_play\"))\n",
    "    rows = pbp.fetchall()\n",
    "\n",
    "pbp_df = pd.DataFrame(rows, columns=pbp.keys(),)"
   ]
  },
  {
   "cell_type": "code",
   "execution_count": 9,
   "metadata": {},
   "outputs": [],
   "source": [
    "special_names = [re.findall(r\"[^a-z^A-Z^\\s^'^-]\", i) for i in pbp_df['player_name'] if re.findall(r\"[^a-z^A-Z^\\s^'^-]\", i)]"
   ]
  },
  {
   "cell_type": "code",
   "execution_count": 12,
   "metadata": {},
   "outputs": [
    {
     "data": {
      "text/plain": [
       "'öÖèãáëžÁïéíýšêòçŽúŠÓäßôóü'"
      ]
     },
     "execution_count": 12,
     "metadata": {},
     "output_type": "execute_result"
    }
   ],
   "source": [
    "chars = []\n",
    "\n",
    "for i in special_names:\n",
    "    chars.extend(i)\n",
    "\n",
    "\"\".join(list(set(chars)))"
   ]
  },
  {
   "cell_type": "code",
   "execution_count": null,
   "metadata": {},
   "outputs": [],
   "source": [
    "pbp_df['player_name'].apply(lambda x: len(x)).max()"
   ]
  },
  {
   "cell_type": "code",
   "execution_count": 13,
   "metadata": {},
   "outputs": [
    {
     "name": "stdout",
     "output_type": "stream",
     "text": [
      "2023-08-09 00:28:16,873 INFO sqlalchemy.engine.Engine BEGIN (implicit)\n",
      "2023-08-09 00:28:16,874 INFO sqlalchemy.engine.Engine SELECT * FROM play_by_play WHERE game_id = '202304301300MIANYK'\n",
      "2023-08-09 00:28:16,875 INFO sqlalchemy.engine.Engine [generated in 0.00146s] ()\n",
      "2023-08-09 00:28:17,134 INFO sqlalchemy.engine.Engine ROLLBACK\n"
     ]
    },
    {
     "data": {
      "text/html": [
       "<div>\n",
       "<style scoped>\n",
       "    .dataframe tbody tr th:only-of-type {\n",
       "        vertical-align: middle;\n",
       "    }\n",
       "\n",
       "    .dataframe tbody tr th {\n",
       "        vertical-align: top;\n",
       "    }\n",
       "\n",
       "    .dataframe thead th {\n",
       "        text-align: right;\n",
       "    }\n",
       "</style>\n",
       "<table border=\"1\" class=\"dataframe\">\n",
       "  <thead>\n",
       "    <tr style=\"text-align: right;\">\n",
       "      <th></th>\n",
       "      <th>index</th>\n",
       "      <th>player_name</th>\n",
       "      <th>time_left</th>\n",
       "      <th>team_name</th>\n",
       "      <th>score_status</th>\n",
       "      <th>x_shot_pos</th>\n",
       "      <th>y_shot_pos</th>\n",
       "      <th>quarter</th>\n",
       "      <th>shot_status</th>\n",
       "      <th>full_text</th>\n",
       "      <th>datetime</th>\n",
       "      <th>game_id</th>\n",
       "      <th>player_id</th>\n",
       "    </tr>\n",
       "  </thead>\n",
       "  <tbody>\n",
       "    <tr>\n",
       "      <th>0</th>\n",
       "      <td>0</td>\n",
       "      <td>Gabe Vincent</td>\n",
       "      <td>11:41.0</td>\n",
       "      <td>Miami</td>\n",
       "      <td>Miami now leads 2-0</td>\n",
       "      <td>77</td>\n",
       "      <td>405</td>\n",
       "      <td>1st quarter</td>\n",
       "      <td>make</td>\n",
       "      <td>1st quarter, 11:41.0 remaining&lt;br&gt;Gabe Vincent...</td>\n",
       "      <td>2023-04-30 13:00:00</td>\n",
       "      <td>202304301300MIANYK</td>\n",
       "      <td>680</td>\n",
       "    </tr>\n",
       "    <tr>\n",
       "      <th>1</th>\n",
       "      <td>1</td>\n",
       "      <td>Gabe Vincent</td>\n",
       "      <td>11:20.0</td>\n",
       "      <td>Miami</td>\n",
       "      <td>Miami now leads 5-0</td>\n",
       "      <td>358</td>\n",
       "      <td>223</td>\n",
       "      <td>1st quarter</td>\n",
       "      <td>make</td>\n",
       "      <td>1st quarter, 11:20.0 remaining&lt;br&gt;Gabe Vincent...</td>\n",
       "      <td>2023-04-30 13:00:00</td>\n",
       "      <td>202304301300MIANYK</td>\n",
       "      <td>680</td>\n",
       "    </tr>\n",
       "    <tr>\n",
       "      <th>2</th>\n",
       "      <td>2</td>\n",
       "      <td>Gabe Vincent</td>\n",
       "      <td>10:14.0</td>\n",
       "      <td>Miami</td>\n",
       "      <td>Miami leads 5-2</td>\n",
       "      <td>469</td>\n",
       "      <td>451</td>\n",
       "      <td>1st quarter</td>\n",
       "      <td>miss</td>\n",
       "      <td>1st quarter, 10:14.0 remaining&lt;br&gt;Gabe Vincent...</td>\n",
       "      <td>2023-04-30 13:00:00</td>\n",
       "      <td>202304301300MIANYK</td>\n",
       "      <td>680</td>\n",
       "    </tr>\n",
       "    <tr>\n",
       "      <th>3</th>\n",
       "      <td>3</td>\n",
       "      <td>Jimmy Butler</td>\n",
       "      <td>9:51.0</td>\n",
       "      <td>Miami</td>\n",
       "      <td>Miami leads 5-2</td>\n",
       "      <td>283</td>\n",
       "      <td>417</td>\n",
       "      <td>1st quarter</td>\n",
       "      <td>miss</td>\n",
       "      <td>1st quarter, 9:51.0 remaining&lt;br&gt;Jimmy Butler ...</td>\n",
       "      <td>2023-04-30 13:00:00</td>\n",
       "      <td>202304301300MIANYK</td>\n",
       "      <td>1034</td>\n",
       "    </tr>\n",
       "    <tr>\n",
       "      <th>4</th>\n",
       "      <td>4</td>\n",
       "      <td>Bam Adebayo</td>\n",
       "      <td>9:49.0</td>\n",
       "      <td>Miami</td>\n",
       "      <td>Miami leads 5-2</td>\n",
       "      <td>240</td>\n",
       "      <td>439</td>\n",
       "      <td>1st quarter</td>\n",
       "      <td>miss</td>\n",
       "      <td>1st quarter, 9:49.0 remaining&lt;br&gt;Bam Adebayo m...</td>\n",
       "      <td>2023-04-30 13:00:00</td>\n",
       "      <td>202304301300MIANYK</td>\n",
       "      <td>141</td>\n",
       "    </tr>\n",
       "    <tr>\n",
       "      <th>...</th>\n",
       "      <td>...</td>\n",
       "      <td>...</td>\n",
       "      <td>...</td>\n",
       "      <td>...</td>\n",
       "      <td>...</td>\n",
       "      <td>...</td>\n",
       "      <td>...</td>\n",
       "      <td>...</td>\n",
       "      <td>...</td>\n",
       "      <td>...</td>\n",
       "      <td>...</td>\n",
       "      <td>...</td>\n",
       "      <td>...</td>\n",
       "    </tr>\n",
       "    <tr>\n",
       "      <th>166</th>\n",
       "      <td>166</td>\n",
       "      <td>Josh Hart</td>\n",
       "      <td>0:34.0</td>\n",
       "      <td>New York</td>\n",
       "      <td>New York trails 95-106</td>\n",
       "      <td>333</td>\n",
       "      <td>200</td>\n",
       "      <td>4th quarter</td>\n",
       "      <td>miss</td>\n",
       "      <td>4th quarter, 0:34.0 remaining&lt;br&gt;Josh Hart mis...</td>\n",
       "      <td>2023-04-30 13:00:00</td>\n",
       "      <td>202304301300MIANYK</td>\n",
       "      <td>1090</td>\n",
       "    </tr>\n",
       "    <tr>\n",
       "      <th>167</th>\n",
       "      <td>167</td>\n",
       "      <td>Jalen Brunson</td>\n",
       "      <td>0:30.0</td>\n",
       "      <td>New York</td>\n",
       "      <td>New York trails 95-106</td>\n",
       "      <td>112</td>\n",
       "      <td>222</td>\n",
       "      <td>4th quarter</td>\n",
       "      <td>miss</td>\n",
       "      <td>4th quarter, 0:30.0 remaining&lt;br&gt;Jalen Brunson...</td>\n",
       "      <td>2023-04-30 13:00:00</td>\n",
       "      <td>202304301300MIANYK</td>\n",
       "      <td>846</td>\n",
       "    </tr>\n",
       "    <tr>\n",
       "      <th>168</th>\n",
       "      <td>168</td>\n",
       "      <td>Josh Hart</td>\n",
       "      <td>0:27.0</td>\n",
       "      <td>New York</td>\n",
       "      <td>New York now trails 97-106</td>\n",
       "      <td>240</td>\n",
       "      <td>439</td>\n",
       "      <td>4th quarter</td>\n",
       "      <td>make</td>\n",
       "      <td>4th quarter, 0:27.0 remaining&lt;br&gt;Josh Hart mad...</td>\n",
       "      <td>2023-04-30 13:00:00</td>\n",
       "      <td>202304301300MIANYK</td>\n",
       "      <td>1090</td>\n",
       "    </tr>\n",
       "    <tr>\n",
       "      <th>169</th>\n",
       "      <td>169</td>\n",
       "      <td>Jalen Brunson</td>\n",
       "      <td>0:17.0</td>\n",
       "      <td>New York</td>\n",
       "      <td>New York now trails 99-107</td>\n",
       "      <td>212</td>\n",
       "      <td>359</td>\n",
       "      <td>4th quarter</td>\n",
       "      <td>make</td>\n",
       "      <td>4th quarter, 0:17.0 remaining&lt;br&gt;Jalen Brunson...</td>\n",
       "      <td>2023-04-30 13:00:00</td>\n",
       "      <td>202304301300MIANYK</td>\n",
       "      <td>846</td>\n",
       "    </tr>\n",
       "    <tr>\n",
       "      <th>170</th>\n",
       "      <td>170</td>\n",
       "      <td>RJ Barrett</td>\n",
       "      <td>0:05.0</td>\n",
       "      <td>New York</td>\n",
       "      <td>New York now trails 101-108</td>\n",
       "      <td>233</td>\n",
       "      <td>434</td>\n",
       "      <td>4th quarter</td>\n",
       "      <td>make</td>\n",
       "      <td>4th quarter, 0:05.0 remaining&lt;br&gt;RJ Barrett ma...</td>\n",
       "      <td>2023-04-30 13:00:00</td>\n",
       "      <td>202304301300MIANYK</td>\n",
       "      <td>1612</td>\n",
       "    </tr>\n",
       "  </tbody>\n",
       "</table>\n",
       "<p>171 rows × 13 columns</p>\n",
       "</div>"
      ],
      "text/plain": [
       "     index    player_name time_left  team_name                 score_status  \\\n",
       "0        0   Gabe Vincent   11:41.0     Miami           Miami now leads 2-0   \n",
       "1        1   Gabe Vincent   11:20.0     Miami           Miami now leads 5-0   \n",
       "2        2   Gabe Vincent   10:14.0      Miami              Miami leads 5-2   \n",
       "3        3   Jimmy Butler    9:51.0      Miami              Miami leads 5-2   \n",
       "4        4    Bam Adebayo    9:49.0      Miami              Miami leads 5-2   \n",
       "..     ...            ...       ...        ...                          ...   \n",
       "166    166      Josh Hart    0:34.0   New York       New York trails 95-106   \n",
       "167    167  Jalen Brunson    0:30.0   New York       New York trails 95-106   \n",
       "168    168      Josh Hart    0:27.0  New York    New York now trails 97-106   \n",
       "169    169  Jalen Brunson    0:17.0  New York    New York now trails 99-107   \n",
       "170    170     RJ Barrett    0:05.0  New York   New York now trails 101-108   \n",
       "\n",
       "     x_shot_pos  y_shot_pos      quarter shot_status  \\\n",
       "0            77         405  1st quarter        make   \n",
       "1           358         223  1st quarter        make   \n",
       "2           469         451  1st quarter        miss   \n",
       "3           283         417  1st quarter        miss   \n",
       "4           240         439  1st quarter        miss   \n",
       "..          ...         ...          ...         ...   \n",
       "166         333         200  4th quarter        miss   \n",
       "167         112         222  4th quarter        miss   \n",
       "168         240         439  4th quarter        make   \n",
       "169         212         359  4th quarter        make   \n",
       "170         233         434  4th quarter        make   \n",
       "\n",
       "                                             full_text            datetime  \\\n",
       "0    1st quarter, 11:41.0 remaining<br>Gabe Vincent... 2023-04-30 13:00:00   \n",
       "1    1st quarter, 11:20.0 remaining<br>Gabe Vincent... 2023-04-30 13:00:00   \n",
       "2    1st quarter, 10:14.0 remaining<br>Gabe Vincent... 2023-04-30 13:00:00   \n",
       "3    1st quarter, 9:51.0 remaining<br>Jimmy Butler ... 2023-04-30 13:00:00   \n",
       "4    1st quarter, 9:49.0 remaining<br>Bam Adebayo m... 2023-04-30 13:00:00   \n",
       "..                                                 ...                 ...   \n",
       "166  4th quarter, 0:34.0 remaining<br>Josh Hart mis... 2023-04-30 13:00:00   \n",
       "167  4th quarter, 0:30.0 remaining<br>Jalen Brunson... 2023-04-30 13:00:00   \n",
       "168  4th quarter, 0:27.0 remaining<br>Josh Hart mad... 2023-04-30 13:00:00   \n",
       "169  4th quarter, 0:17.0 remaining<br>Jalen Brunson... 2023-04-30 13:00:00   \n",
       "170  4th quarter, 0:05.0 remaining<br>RJ Barrett ma... 2023-04-30 13:00:00   \n",
       "\n",
       "                game_id  player_id  \n",
       "0    202304301300MIANYK        680  \n",
       "1    202304301300MIANYK        680  \n",
       "2    202304301300MIANYK        680  \n",
       "3    202304301300MIANYK       1034  \n",
       "4    202304301300MIANYK        141  \n",
       "..                  ...        ...  \n",
       "166  202304301300MIANYK       1090  \n",
       "167  202304301300MIANYK        846  \n",
       "168  202304301300MIANYK       1090  \n",
       "169  202304301300MIANYK        846  \n",
       "170  202304301300MIANYK       1612  \n",
       "\n",
       "[171 rows x 13 columns]"
      ]
     },
     "execution_count": 13,
     "metadata": {},
     "output_type": "execute_result"
    }
   ],
   "source": [
    "def get_data(database, game_id, player_name=None,):\n",
    "    with database.engine.connect() as conn:\n",
    "        pbp = conn.execute(\n",
    "            text(f\"SELECT * FROM play_by_play WHERE game_id = '{game_id}'\"))\n",
    "        rows = pbp.fetchall()\n",
    "    pbp_df = pd.DataFrame(rows, columns=pbp.keys())\n",
    "    return pbp_df\n",
    "\n",
    "get_data(nba, '202304301300MIANYK')"
   ]
  }
 ],
 "metadata": {
  "kernelspec": {
   "display_name": "DataScience",
   "language": "python",
   "name": "python3"
  },
  "language_info": {
   "codemirror_mode": {
    "name": "ipython",
    "version": 3
   },
   "file_extension": ".py",
   "mimetype": "text/x-python",
   "name": "python",
   "nbconvert_exporter": "python",
   "pygments_lexer": "ipython3",
   "version": "3.9.12"
  },
  "orig_nbformat": 4
 },
 "nbformat": 4,
 "nbformat_minor": 2
}
