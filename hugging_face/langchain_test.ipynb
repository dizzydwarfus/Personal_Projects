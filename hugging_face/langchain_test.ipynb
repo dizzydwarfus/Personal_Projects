{
 "cells": [
  {
   "cell_type": "code",
   "execution_count": 53,
   "metadata": {},
   "outputs": [],
   "source": [
    "from langchain.llms import OpenAI\n",
    "from dotenv import dotenv_values\n",
    "import os\n",
    "import requests\n",
    "import re\n",
    "\n",
    "secrets = dotenv_values(\".env\")\n",
    "os.environ['OPENAI_API_KEY'] = secrets['open_ai_api']"
   ]
  },
  {
   "cell_type": "code",
   "execution_count": 19,
   "metadata": {},
   "outputs": [],
   "source": [
    "openai_models_url = \"https://api.openai.com/v1/models\"\n",
    "openai_models = requests.get(openai_models, headers={\"Authorization\": \"Bearer \" + secrets['open_ai_api']}).json()"
   ]
  },
  {
   "cell_type": "code",
   "execution_count": 48,
   "metadata": {},
   "outputs": [],
   "source": [
    "def find_models(all_models: dict, re_pattern: str = 'gpt'):\n",
    "    gpt_models = [i['id'] for i in all_models['data'] if re.search(re_pattern, i['id'])]\n",
    "    return gpt_models"
   ]
  },
  {
   "cell_type": "code",
   "execution_count": 54,
   "metadata": {},
   "outputs": [
    {
     "data": {
      "text/plain": [
       "['gpt-3.5-turbo-16k-0613',\n",
       " 'gpt-3.5-turbo',\n",
       " 'gpt-3.5-turbo-16k',\n",
       " 'gpt-3.5-turbo-0613',\n",
       " 'gpt-3.5-turbo-0301']"
      ]
     },
     "execution_count": 54,
     "metadata": {},
     "output_type": "execute_result"
    }
   ],
   "source": [
    "find_gpt_models(openai_models, re_pattern='gpt')"
   ]
  },
  {
   "cell_type": "code",
   "execution_count": 10,
   "metadata": {},
   "outputs": [
    {
     "data": {
      "text/plain": [
       "odict_keys(['server', 'DB_username', 'DB_password', 'port', 'open_ai_api', 'alpha_vantage_api', 'fmp_api', 'mongodb_conn'])"
      ]
     },
     "execution_count": 10,
     "metadata": {},
     "output_type": "execute_result"
    }
   ],
   "source": []
  },
  {
   "cell_type": "code",
   "execution_count": 12,
   "metadata": {},
   "outputs": [],
   "source": [
    "llm = OpenAI(temperature=0.9, model=\"\")"
   ]
  },
  {
   "cell_type": "code",
   "execution_count": 14,
   "metadata": {},
   "outputs": [
    {
     "name": "stdout",
     "output_type": "stream",
     "text": [
      "\n",
      "\n",
      "You look great!\n"
     ]
    }
   ],
   "source": [
    "llm(prompt='How do I look?').llm_output"
   ]
  }
 ],
 "metadata": {
  "kernelspec": {
   "display_name": "langchain",
   "language": "python",
   "name": "python3"
  },
  "language_info": {
   "codemirror_mode": {
    "name": "ipython",
    "version": 3
   },
   "file_extension": ".py",
   "mimetype": "text/x-python",
   "name": "python",
   "nbconvert_exporter": "python",
   "pygments_lexer": "ipython3",
   "version": "3.11.4"
  },
  "orig_nbformat": 4
 },
 "nbformat": 4,
 "nbformat_minor": 2
}
