{
 "cells": [
  {
   "attachments": {},
   "cell_type": "markdown",
   "metadata": {},
   "source": [
    "# SQL Server Database"
   ]
  },
  {
   "cell_type": "code",
   "execution_count": null,
   "metadata": {},
   "outputs": [],
   "source": [
    "import sqlalchemy\n",
    "from sqlalchemy import create_engine\n",
    "from sqlalchemy.engine import URL\n",
    "from sqlalchemy import text\n",
    "from dotenv import load_dotenv\n",
    "from functools import partial\n",
    "import os\n",
    "import pandas as pd"
   ]
  },
  {
   "cell_type": "code",
   "execution_count": null,
   "metadata": {},
   "outputs": [],
   "source": [
    "def create_connection_url(server, database, username, password, port, driver):\n",
    "    connection_url = URL.create(\n",
    "        \"mssql+pyodbc\",\n",
    "        username=username,\n",
    "        password=password,\n",
    "        host=server,\n",
    "        port=port,\n",
    "        database=database,\n",
    "        query={\n",
    "            \"driver\": driver,\n",
    "            # \"TrustServerCertificate\": \"yes\",\n",
    "            # \"authentication\": \"ActiveDirectoryIntegrated\",\n",
    "        }\n",
    "    )\n",
    "    return connection_url"
   ]
  },
  {
   "cell_type": "code",
   "execution_count": null,
   "metadata": {},
   "outputs": [],
   "source": [
    "def test_connection(connection_string):\n",
    "    try:\n",
    "        # Replace the connection string with your own\n",
    "        connection_string = connection_string\n",
    "        engine = create_engine(connection_string, echo=True)\n",
    "        with engine.connect() as conn:\n",
    "            result = conn.execute(text(\"SELECT DB_NAME()\")).fetchone()\n",
    "        assert result[0] is not None\n",
    "        print(f'Connection to {result[0]} was successful.')\n",
    "    except Exception as e:\n",
    "        # If the connection fails, the test will fail with an exception\n",
    "        assert False, f'Connection test failed: {e}'"
   ]
  },
  {
   "attachments": {},
   "cell_type": "markdown",
   "metadata": {},
   "source": [
    "## Create Engine"
   ]
  },
  {
   "cell_type": "code",
   "execution_count": null,
   "metadata": {},
   "outputs": [],
   "source": [
    "server = os.environ.get('server')\n",
    "database = 'NBA'\n",
    "username = os.getenv('DB_username')\n",
    "password = os.getenv('DB_password')\n",
    "port = os.getenv('port')\n",
    "driver = 'ODBC Driver 17 for SQL Server'\n",
    "\n",
    "CreateURL = partial(create_connection_url, server=server,\n",
    "                    username=username, password=password, port=port, driver=driver,)\n",
    "\n",
    "nba_connection = CreateURL(\n",
    "    database=database)\n",
    "\n",
    "test_connection(nba_connection)\n",
    "engine = create_engine(url=nba_connection, echo=True)\n"
   ]
  },
  {
   "attachments": {},
   "cell_type": "markdown",
   "metadata": {},
   "source": [
    "## Create Table"
   ]
  },
  {
   "attachments": {},
   "cell_type": "markdown",
   "metadata": {},
   "source": [
    "### Columns to Create"
   ]
  },
  {
   "cell_type": "code",
   "execution_count": null,
   "metadata": {},
   "outputs": [],
   "source": [
    "player_shotLocations = pd.read_csv(r\"D:\\lianz\\Desktop\\Python\\personal_projects\\nba\\data\\player_shotLocations.csv\")"
   ]
  },
  {
   "attachments": {},
   "cell_type": "markdown",
   "metadata": {},
   "source": [
    "### Execute SQL to Create Table"
   ]
  },
  {
   "cell_type": "code",
   "execution_count": null,
   "metadata": {},
   "outputs": [],
   "source": [
    "create_table = text(\"\"\"\n",
    "CREATE TABLE player_shotLocations(\n",
    "player_id INT PRIMARY KEY,\n",
    "y INT\n",
    ")\"\"\")\n",
    "\n",
    "with engine.begin() as conn:\n",
    "    conn.execute(create_table)"
   ]
  },
  {
   "attachments": {},
   "cell_type": "markdown",
   "metadata": {},
   "source": [
    "## Insert Table"
   ]
  },
  {
   "attachments": {},
   "cell_type": "markdown",
   "metadata": {},
   "source": [
    "### Execute SQL Statement to INSERT"
   ]
  },
  {
   "cell_type": "code",
   "execution_count": null,
   "metadata": {},
   "outputs": [],
   "source": [
    "insert_table = text(\"\"\"\n",
    "INSERT INTO player_shotLocations (player_id, y)\n",
    "VALUES (:player_id, :y)\n",
    "\"\"\")\n",
    "\n",
    "with engine.begin() as conn:\n",
    "    conn.execute(insert_table, [{\"player_id\": 1, \"y\": 1}, {\"player_id\": 2, \"y\": 4}],)"
   ]
  },
  {
   "attachments": {},
   "cell_type": "markdown",
   "metadata": {},
   "source": [
    "# Drop Table"
   ]
  },
  {
   "cell_type": "code",
   "execution_count": null,
   "metadata": {},
   "outputs": [],
   "source": [
    "drop_table = text(\"\"\"\n",
    "DROP TABLE player_shotLocations\n",
    "\"\"\")\n",
    "\n",
    "with engine.begin() as conn:\n",
    "    conn.execute(drop_table)"
   ]
  }
 ],
 "metadata": {
  "kernelspec": {
   "display_name": "DataScience",
   "language": "python",
   "name": "python3"
  },
  "language_info": {
   "codemirror_mode": {
    "name": "ipython",
    "version": 3
   },
   "file_extension": ".py",
   "mimetype": "text/x-python",
   "name": "python",
   "nbconvert_exporter": "python",
   "pygments_lexer": "ipython3",
   "version": "3.9.12"
  },
  "orig_nbformat": 4
 },
 "nbformat": 4,
 "nbformat_minor": 2
}
