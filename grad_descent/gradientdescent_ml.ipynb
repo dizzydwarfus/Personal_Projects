{
 "cells": [
  {
   "cell_type": "markdown",
   "metadata": {},
   "source": [
    "### Gradient Descent for Machine Learning\n",
    "\n",
    "To determine the best fit line using machine learning, different combinations of slope and intercept are tested. The combination with minimum error, meaning minimum distance of point from the line (squared to ensure the value is always positive), will be the line of best fit.\n",
    "\n",
    "Mean-squared Error:\n",
    "\n",
    "![Mean-squared error](mserror.png)\n",
    "\n",
    "This can be illustrated by the 3-axes diagram shown below:\n",
    "\n",
    "![Gradient Descent Illustration](gradientdescent.png)\n",
    "\n",
    "Separate the variables and plot them agains the mean-squared error function separately. The graph should look like a parabolic function with a minimum (show in picture below):\n",
    "\n",
    "![Gradient Descent Illustration 2](Gd2.png)\n"
   ]
  },
  {
   "cell_type": "markdown",
   "metadata": {},
   "source": [
    "### How to perform gradient descent (regardless of loss function used)"
   ]
  },
  {
   "cell_type": "markdown",
   "metadata": {},
   "source": [
    "Step 1: Take the derivative of the Loss Function for each parameter in it. (take gradietn of loss function)\n",
    "\n",
    "E.g.\n",
    "\n",
    ">$\\sum$ squared residuals (loss function) = $\\sum(observed_{value} - predicted_{value})^2$\n",
    ">\n",
    ">$\\sum$ squared residuals (loss function) = $\\sum(observed_{value} - (intercept + slope*weight))^2$\n",
    ">\n",
    ">$\\frac{d}{d_{intercept}}$ $\\sum$ squared residuals (loss function)\n",
    ">\n",
    ">$\\frac{d}{d_{slope}}$ $\\sum$ squared residuals (loss function)"
   ]
  },
  {
   "cell_type": "markdown",
   "metadata": {},
   "source": [
    "Step 2: Pick random values for the parameters.\n",
    "\n",
    "Pick random intercept and weight values.\n",
    "\n",
    ">$intercept = 0.5$\n",
    ">\n",
    ">$slope = 1$"
   ]
  },
  {
   "cell_type": "markdown",
   "metadata": {},
   "source": [
    "Step 3: Plug the parameter values into the derivatives (ahem, the Gradient)."
   ]
  },
  {
   "cell_type": "markdown",
   "metadata": {},
   "source": [
    "Step 4: Calculate the step sizes:\n",
    "\n",
    ">***Step size*** = *Derived Parameter* x *Learning Rate*\n",
    "\n",
    "> Learning rate is arbitrary. (0.001-0.1)"
   ]
  },
  {
   "cell_type": "markdown",
   "metadata": {},
   "source": [
    "Step 5: Calculate the New Parameters\n",
    "\n",
    ">***New Parameter*** = *Old Parameter* - *Step Size*\n",
    ">\n",
    ">Repeat Step 3-5 until **Step Size** is very small or reach *maximum* number of steps.\n",
    "\n",
    ">Step size is directly proportional to parameter which is the partial derivatives of original loss function (the slopes). So when step size approaches 0, the parameters are optimal."
   ]
  },
  {
   "cell_type": "markdown",
   "metadata": {},
   "source": [
    "#### Import Libraries"
   ]
  },
  {
   "cell_type": "code",
   "execution_count": 2,
   "metadata": {},
   "outputs": [],
   "source": [
    "from mpl_toolkits import mplot3d\n",
    "import numpy as np\n",
    "import matplotlib.pyplot as plt\n",
    "import matplotlib\n",
    "%matplotlib widget\n",
    "from sympy import *\n",
    "init_printing()"
   ]
  },
  {
   "cell_type": "markdown",
   "metadata": {},
   "source": [
    "#### Define Loss Function\n"
   ]
  },
  {
   "cell_type": "code",
   "execution_count": 3,
   "metadata": {},
   "outputs": [],
   "source": [
    "# Sum of residual squares = (observed - predicted)**2\n",
    "def f(y_i, m, x, b):\n",
    "    return (y_i - (m * x + b))**2"
   ]
  },
  {
   "cell_type": "code",
   "execution_count": 4,
   "metadata": {},
   "outputs": [
    {
     "name": "stdout",
     "output_type": "stream",
     "text": [
      "Partial Derivatives of mse:\n"
     ]
    },
    {
     "data": {
      "image/png": "[encoded data removed]",
      "text/latex": [
       "$\\displaystyle \\left( \\frac{\\partial}{\\partial m} \\left(- b - m x + y_{i}\\right)^{2}, \\  \\frac{\\partial}{\\partial b} \\left(- b - m x + y_{i}\\right)^{2}\\right)$"
      ],
      "text/plain": [
       "⎛∂ ⎛               2⎞  ∂ ⎛               2⎞⎞\n",
       "⎜──⎝(-b - m⋅x + yᵢ) ⎠, ──⎝(-b - m⋅x + yᵢ) ⎠⎟\n",
       "⎝∂m                    ∂b                  ⎠"
      ]
     },
     "execution_count": 4,
     "metadata": {},
     "output_type": "execute_result"
    }
   ],
   "source": [
    "# Show with sympy\n",
    "\n",
    "x, b, m, y_i = symbols('x b m y_i')\n",
    "alpha = symbols('alpha')\n",
    "mse = Function('mse') (b,m)\n",
    "mse = (y_i - (m * x + b))**2\n",
    "print(f\"Partial Derivatives of mse:\")\n",
    "Derivative(mse, m), Derivative(mse, b)\n"
   ]
  },
  {
   "cell_type": "code",
   "execution_count": 5,
   "metadata": {},
   "outputs": [
    {
     "name": "stdout",
     "output_type": "stream",
     "text": [
      "Evaluates to:\n"
     ]
    },
    {
     "data": {
      "image/png": "[encoded data removed]",
      "text/latex": [
       "$\\displaystyle \\left( - 2 x \\left(- b - m x + y_{i}\\right), \\  2 b + 2 m x - 2 y_{i}\\right)$"
      ],
      "text/plain": [
       "(-2⋅x⋅(-b - m⋅x + yᵢ), 2⋅b + 2⋅m⋅x - 2⋅yᵢ)"
      ]
     },
     "execution_count": 5,
     "metadata": {},
     "output_type": "execute_result"
    }
   ],
   "source": [
    "print(\"Evaluates to:\")\n",
    "diff(mse, m), diff(mse, b)"
   ]
  },
  {
   "cell_type": "code",
   "execution_count": 6,
   "metadata": {},
   "outputs": [
    {
     "name": "stdout",
     "output_type": "stream",
     "text": [
      "Learning rate:\n"
     ]
    },
    {
     "data": {
      "image/png": "[encoded data removed]",
      "text/latex": [
       "$\\displaystyle \\alpha \\frac{\\partial}{\\partial m} \\left(- b - m x + y_{i}\\right)^{2}$"
      ],
      "text/plain": [
       "  ∂ ⎛               2⎞\n",
       "α⋅──⎝(-b - m⋅x + yᵢ) ⎠\n",
       "  ∂m                  "
      ]
     },
     "execution_count": 6,
     "metadata": {},
     "output_type": "execute_result"
    }
   ],
   "source": [
    "# Stochastic Gradient Descent\n",
    "print(\"Learning rate:\")\n",
    "Derivative(mse, m) * alpha"
   ]
  },
  {
   "cell_type": "code",
   "execution_count": 7,
   "metadata": {},
   "outputs": [
    {
     "name": "stdout",
     "output_type": "stream",
     "text": [
      "New paramter:\n"
     ]
    },
    {
     "data": {
      "image/png": "[encoded data removed]",
      "text/latex": [
       "$\\displaystyle - \\alpha \\frac{\\partial}{\\partial m} \\left(- b - m x + y_{i}\\right)^{2} + m$"
      ],
      "text/plain": [
       "    ∂ ⎛               2⎞    \n",
       "- α⋅──⎝(-b - m⋅x + yᵢ) ⎠ + m\n",
       "    ∂m                      "
      ]
     },
     "execution_count": 7,
     "metadata": {},
     "output_type": "execute_result"
    }
   ],
   "source": [
    "print(\"New paramter:\")\n",
    "\n",
    "m - Derivative(mse, m) * alpha"
   ]
  },
  {
   "cell_type": "markdown",
   "metadata": {},
   "source": [
    "#### Input data arrays"
   ]
  },
  {
   "cell_type": "code",
   "execution_count": null,
   "metadata": {},
   "outputs": [],
   "source": [
    "\n",
    "x = np.linspace(-6, 6, 30)\n",
    "y = np.linspace(-6, 6, 30)\n",
    "\n",
    "X, Y = np.meshgrid(x, y)\n",
    "Z = f(X,Y)\n"
   ]
  },
  {
   "cell_type": "markdown",
   "metadata": {},
   "source": [
    "#### Plotting"
   ]
  },
  {
   "cell_type": "code",
   "execution_count": null,
   "metadata": {},
   "outputs": [],
   "source": [
    "fig = plt.figure(figsize=(8,10))\n",
    "ax = plt.axes(projection='3d')\n",
    "ax.plot_surface(X, Y, Z, rstride=1, cstride=1, cmap='viridis', edgecolor='none')\n",
    "ax.set_xlabel('x')\n",
    "ax.set_ylabel('y')\n",
    "ax.set_zlabel('z')\n",
    "ax.set_title('3D surface')\n",
    "plt.show()"
   ]
  },
  {
   "cell_type": "code",
   "execution_count": null,
   "metadata": {},
   "outputs": [],
   "source": []
  }
 ],
 "metadata": {
  "kernelspec": {
   "display_name": "Python 3.9.12 ('DataScience')",
   "language": "python",
   "name": "python3"
  },
  "language_info": {
   "codemirror_mode": {
    "name": "ipython",
    "version": 3
   },
   "file_extension": ".py",
   "mimetype": "text/x-python",
   "name": "python",
   "nbconvert_exporter": "python",
   "pygments_lexer": "ipython3",
   "version": "3.9.12 (main, Apr  4 2022, 05:22:27) [MSC v.1916 64 bit (AMD64)]"
  },
  "orig_nbformat": 4,
  "vscode": {
   "interpreter": {
    "hash": "15c829b79a9c192d7731c00829287f4b3b1aa9f9a3890f935442b2f4d956bef3"
   }
  }
 },
 "nbformat": 4,
 "nbformat_minor": 2
}
