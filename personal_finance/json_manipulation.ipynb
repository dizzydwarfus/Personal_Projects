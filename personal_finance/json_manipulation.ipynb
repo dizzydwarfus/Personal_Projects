{
 "cells": [
  {
   "cell_type": "code",
   "execution_count": 19,
   "metadata": {},
   "outputs": [],
   "source": [
    "import pandas as pd\n",
    "import json\n",
    "import requests\n",
    "from pymongo import MongoClient\n",
    "from bson.objectid import ObjectId\n",
    "import os\n",
    "from pprint import pprint"
   ]
  },
  {
   "cell_type": "code",
   "execution_count": 162,
   "metadata": {},
   "outputs": [],
   "source": [
    "with open('D:\\lianz\\Desktop\\Python\\personal_projects\\personal_finance\\mongodb_api.txt','r') as f:\n",
    "    cluster = f.readlines()[0]\n",
    "    \n",
    "client = MongoClient(cluster)\n",
    "\n",
    "# print(client.list_database_names())\n",
    "\n",
    "db = client.FinanceApp\n",
    "balance_sheet_collection = db.balance_sheet\n",
    "income_collection = db.income_statement\n",
    "cash_collection = db.cash_flow_statement"
   ]
  },
  {
   "cell_type": "code",
   "execution_count": 13,
   "metadata": {},
   "outputs": [
    {
     "data": {
      "text/plain": [
       "71"
      ]
     },
     "execution_count": 13,
     "metadata": {},
     "output_type": "execute_result"
    }
   ],
   "source": [
    "arr = os.listdir(r\"D:\\\\lianz\\Desktop\\\\Python\\\\personal_projects\\\\personal_finance\\\\balance-sheet-statement\")\n",
    "len(arr)"
   ]
  },
  {
   "cell_type": "code",
   "execution_count": 39,
   "metadata": {},
   "outputs": [],
   "source": [
    "balance = f'D:\\\\lianz\\\\Desktop\\Python\\\\personal_projects\\\\personal_finance\\\\balance-sheet-statement\\\\TMO.json'\n",
    "income = f'D:\\\\lianz\\\\Desktop\\Python\\\\personal_projects\\\\personal_finance\\\\income-statement\\\\TMO.json'\n",
    "cash_flow = f'D:\\\\lianz\\\\Desktop\\Python\\\\personal_projects\\\\personal_finance\\\\cash-flow-statement\\\\TMO.json'"
   ]
  },
  {
   "attachments": {},
   "cell_type": "markdown",
   "metadata": {},
   "source": [
    "##### Create new_id directly in json file so inserting can be unique in database"
   ]
  },
  {
   "cell_type": "code",
   "execution_count": null,
   "metadata": {},
   "outputs": [],
   "source": [
    "def define_id(json_file):\n",
    "    for i in json_file:\n",
    "        i['index_id'] = f\"{i['symbol']}_{i['date']}\""
   ]
  },
  {
   "attachments": {},
   "cell_type": "markdown",
   "metadata": {},
   "source": [
    "##### Define function to access elements of an entry in database\n",
    "Use function to access individual elements of a document in a collection"
   ]
  },
  {
   "cell_type": "code",
   "execution_count": null,
   "metadata": {},
   "outputs": [],
   "source": [
    "def access_entry(collection_name, entry_name, entry_value, return_value):\n",
    "    data = collection_name.find({entry_name:entry_value})\n",
    "\n",
    "    data = [f\"{i['symbol']}_{i[return_value]}\" for i in data]\n",
    "\n",
    "    return data\n"
   ]
  },
  {
   "cell_type": "code",
   "execution_count": 124,
   "metadata": {},
   "outputs": [],
   "source": [
    "def insert_to_mongoDB(ticker):\n",
    "\n",
    "    balance = f'D:\\\\lianz\\\\Desktop\\Python\\\\personal_projects\\\\personal_finance\\\\balance-sheet-statement\\\\{ticker}.json'\n",
    "    income = f'D:\\\\lianz\\\\Desktop\\Python\\\\personal_projects\\\\personal_finance\\\\income-statement\\\\{ticker}.json'\n",
    "    cash_flow = f'D:\\\\lianz\\\\Desktop\\Python\\\\personal_projects\\\\personal_finance\\\\cash-flow-statement\\\\{ticker}.json'\n",
    "\n",
    "    with open(balance, 'r') as f:\n",
    "        data_bal = json.load(f)\n",
    "    define_id(data_bal)\n",
    "    with open(income, 'r') as f:\n",
    "        data_income = json.load(f)\n",
    "    define_id(data_income)\n",
    "    with open(cash_flow, 'r') as f:\n",
    "        data_cash = json.load(f)\n",
    "    define_id(data_cash)\n",
    "\n",
    "    condition_bal = [i['index_id'] for i in data_bal if i['index_id'] not in access_entry(balance_sheet_collection,'symbol',i['symbol'],'date')]\n",
    "    condition_income = [i['index_id'] for i in data_bal if i['index_id'] not in access_entry(income_collection,'symbol',i['symbol'],'date')]\n",
    "    condition_cash = [i['index_id'] for i in data_bal if i['index_id'] not in access_entry(cash_collection,'symbol',i['symbol'],'date')]\n",
    "\n",
    "    if len(condition_bal) == 0:\n",
    "        raise Exception(\"Duplicates in collection.\")\n",
    "    else:\n",
    "        balance_sheet_collection.insert_many([i for i in data_bal if i['index_id'] in condition])\n",
    "    balance_sheet_collection.insert_many(data_bal)\n",
    "    income_collection.insert_many(data_income)\n",
    "    cash_collection.insert_many(data_cash)"
   ]
  },
  {
   "cell_type": "code",
   "execution_count": 54,
   "metadata": {},
   "outputs": [],
   "source": [
    "# The web framework gets post_id from the URL and passes it as a string\n",
    "def get(post_id):\n",
    "    # Convert from string to ObjectId:\n",
    "    document = client.db.collection.find_one({'_id': ObjectId(post_id)})"
   ]
  },
  {
   "attachments": {},
   "cell_type": "markdown",
   "metadata": {},
   "source": [
    "##### Delete database entries"
   ]
  },
  {
   "cell_type": "code",
   "execution_count": 129,
   "metadata": {},
   "outputs": [
    {
     "data": {
      "text/plain": [
       "<pymongo.results.DeleteResult at 0x12062aee8e0>"
      ]
     },
     "execution_count": 129,
     "metadata": {},
     "output_type": "execute_result"
    }
   ],
   "source": [
    "balance_sheet_collection.delete_many({'symbol':'TMO'})"
   ]
  },
  {
   "attachments": {},
   "cell_type": "markdown",
   "metadata": {},
   "source": [
    "##### Query for database entry\n",
    "\n",
    "collection.find({'index':'key'}) method stores as cursor, and disappears after one access"
   ]
  },
  {
   "cell_type": "code",
   "execution_count": 141,
   "metadata": {},
   "outputs": [],
   "source": [
    "data = balance_sheet_collection.find({'symbol':'TMO'})"
   ]
  },
  {
   "attachments": {},
   "cell_type": "markdown",
   "metadata": {},
   "source": [
    "##### Store as variable for future access"
   ]
  },
  {
   "cell_type": "code",
   "execution_count": 142,
   "metadata": {},
   "outputs": [],
   "source": [
    "TMO = [items for items in data]"
   ]
  },
  {
   "cell_type": "code",
   "execution_count": 70,
   "metadata": {},
   "outputs": [],
   "source": [
    "with open(balance, 'r') as f:\n",
    "        data_bal = json.load(f)"
   ]
  },
  {
   "attachments": {},
   "cell_type": "markdown",
   "metadata": {},
   "source": [
    "##### Define function to create unique ID for each document in collection\n",
    "\n",
    "new_id = symbol_date"
   ]
  },
  {
   "cell_type": "code",
   "execution_count": 133,
   "metadata": {},
   "outputs": [],
   "source": [
    "def create_id(collection_name, symbol):\n",
    "    \n",
    "    collection_items = [i for i in collection_name.find({'symbol':symbol})] # store collection items in variable\n",
    "\n",
    "    new_id = access_entry(collection_name,'symbol',symbol,'date') # store the ids as list to be used to index collection\n",
    "\n",
    "    for i,item in enumerate(new_id):\n",
    "\n",
    "        collection_name.update_one({'symbol': symbol, 'date':item.split('_')[-1]},{\"$set\": {'new_id': item}})\n",
    "    \n",
    "    collection_name.create_index('index_id', name='index_id', unique=True)"
   ]
  },
  {
   "cell_type": "code",
   "execution_count": 113,
   "metadata": {},
   "outputs": [],
   "source": [
    "create_id(balance_sheet_collection, 'TMO')"
   ]
  },
  {
   "attachments": {},
   "cell_type": "markdown",
   "metadata": {},
   "source": [
    "##### Use insert and since index_id is unique, insert will not execute if exists in database\n",
    "\n",
    "collection.insert_many(list_of_json)"
   ]
  },
  {
   "cell_type": "code",
   "execution_count": 150,
   "metadata": {},
   "outputs": [
    {
     "ename": "Exception",
     "evalue": "Duplicates in collection.",
     "output_type": "error",
     "traceback": [
      "\u001b[1;31m---------------------------------------------------------------------------\u001b[0m",
      "\u001b[1;31mException\u001b[0m                                 Traceback (most recent call last)",
      "\u001b[1;32m~\\AppData\\Local\\Temp\\ipykernel_2748\\3990135867.py\u001b[0m in \u001b[0;36m<cell line: 3>\u001b[1;34m()\u001b[0m\n\u001b[0;32m      2\u001b[0m \u001b[1;33m\u001b[0m\u001b[0m\n\u001b[0;32m      3\u001b[0m \u001b[1;32mif\u001b[0m \u001b[0mlen\u001b[0m\u001b[1;33m(\u001b[0m\u001b[0mcondition\u001b[0m\u001b[1;33m)\u001b[0m \u001b[1;33m==\u001b[0m \u001b[1;36m0\u001b[0m\u001b[1;33m:\u001b[0m\u001b[1;33m\u001b[0m\u001b[1;33m\u001b[0m\u001b[0m\n\u001b[1;32m----> 4\u001b[1;33m     \u001b[1;32mraise\u001b[0m \u001b[0mException\u001b[0m\u001b[1;33m(\u001b[0m\u001b[1;34m\"Duplicates in collection.\"\u001b[0m\u001b[1;33m)\u001b[0m\u001b[1;33m\u001b[0m\u001b[1;33m\u001b[0m\u001b[0m\n\u001b[0m\u001b[0;32m      5\u001b[0m \u001b[1;32melse\u001b[0m\u001b[1;33m:\u001b[0m\u001b[1;33m\u001b[0m\u001b[1;33m\u001b[0m\u001b[0m\n\u001b[0;32m      6\u001b[0m     \u001b[0mbalance_sheet_collection\u001b[0m\u001b[1;33m.\u001b[0m\u001b[0minsert_many\u001b[0m\u001b[1;33m(\u001b[0m\u001b[1;33m[\u001b[0m\u001b[0mi\u001b[0m \u001b[1;32mfor\u001b[0m \u001b[0mi\u001b[0m \u001b[1;32min\u001b[0m \u001b[0mdata_bal\u001b[0m \u001b[1;32mif\u001b[0m \u001b[0mi\u001b[0m\u001b[1;33m[\u001b[0m\u001b[1;34m'index_id'\u001b[0m\u001b[1;33m]\u001b[0m \u001b[1;32min\u001b[0m \u001b[0mcondition\u001b[0m\u001b[1;33m]\u001b[0m\u001b[1;33m)\u001b[0m\u001b[1;33m\u001b[0m\u001b[1;33m\u001b[0m\u001b[0m\n",
      "\u001b[1;31mException\u001b[0m: Duplicates in collection."
     ]
    }
   ],
   "source": [
    "condition = [i['index_id'] for i in data_bal if i['index_id'] not in access_entry(balance_sheet_collection,'symbol',i['symbol'],'date')]\n",
    "\n",
    "if len(condition) == 0:\n",
    "    raise Exception(\"Duplicates in collection.\")\n",
    "else:\n",
    "    balance_sheet_collection.insert_many([i for i in data_bal if i['index_id'] in condition])"
   ]
  },
  {
   "cell_type": "code",
   "execution_count": 149,
   "metadata": {},
   "outputs": [
    {
     "data": {
      "text/plain": [
       "[]"
      ]
     },
     "execution_count": 149,
     "metadata": {},
     "output_type": "execute_result"
    }
   ],
   "source": [
    "[i['index_id'] for i in data_bal if i['index_id'] not in access_entry(balance_sheet_collection,'symbol',i['symbol'],'date')]"
   ]
  },
  {
   "cell_type": "code",
   "execution_count": 151,
   "metadata": {},
   "outputs": [
    {
     "data": {
      "text/plain": [
       "[]"
      ]
     },
     "execution_count": 151,
     "metadata": {},
     "output_type": "execute_result"
    }
   ],
   "source": [
    "[i for i in data_bal if i['date'] in condition]"
   ]
  },
  {
   "cell_type": "code",
   "execution_count": null,
   "metadata": {},
   "outputs": [],
   "source": []
  }
 ],
 "metadata": {
  "kernelspec": {
   "display_name": "DataScience",
   "language": "python",
   "name": "python3"
  },
  "language_info": {
   "codemirror_mode": {
    "name": "ipython",
    "version": 3
   },
   "file_extension": ".py",
   "mimetype": "text/x-python",
   "name": "python",
   "nbconvert_exporter": "python",
   "pygments_lexer": "ipython3",
   "version": "3.9.12"
  },
  "orig_nbformat": 4,
  "vscode": {
   "interpreter": {
    "hash": "15c829b79a9c192d7731c00829287f4b3b1aa9f9a3890f935442b2f4d956bef3"
   }
  }
 },
 "nbformat": 4,
 "nbformat_minor": 2
}
