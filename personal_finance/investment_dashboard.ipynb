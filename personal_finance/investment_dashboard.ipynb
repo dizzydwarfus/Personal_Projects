{
 "cells": [
  {
   "cell_type": "code",
   "execution_count": 7,
   "metadata": {},
   "outputs": [],
   "source": [
    "import pandas as pd\n",
    "import openpyxl\n",
    "import json\n",
    "import requests\n",
    "import matplotlib.pyplot as plt"
   ]
  },
  {
   "attachments": {},
   "cell_type": "markdown",
   "metadata": {},
   "source": [
    "#### Read ticker symbols of stocks from etoro sheet (exported to another document)"
   ]
  },
  {
   "cell_type": "code",
   "execution_count": 10,
   "metadata": {},
   "outputs": [
    {
     "data": {
      "text/plain": [
       "['UAL',\n",
       " 'AF.PA',\n",
       " 'T',\n",
       " 'JNJ',\n",
       " 'DIS',\n",
       " 'AAPL',\n",
       " 'TSLA',\n",
       " 'JPM',\n",
       " 'GOOG',\n",
       " 'AMD',\n",
       " 'INGA.NV',\n",
       " 'SHEL.L',\n",
       " 'SMSN.L',\n",
       " 'WMT',\n",
       " 'NVDA',\n",
       " 'WBD',\n",
       " 'MMM',\n",
       " 'AMZN',\n",
       " 'COST']"
      ]
     },
     "execution_count": 10,
     "metadata": {},
     "output_type": "execute_result"
    }
   ],
   "source": [
    "# tickers = investment_history[investment_history['Asset type'] == 'Stocks']['Details'].str.split('/',expand=True)[0].unique()\n",
    "\n",
    "from tickerlist import tickers\n",
    "tickers"
   ]
  },
  {
   "attachments": {},
   "cell_type": "markdown",
   "metadata": {},
   "source": [
    "#### Read in json files (requests not made repetitively)"
   ]
  },
  {
   "cell_type": "code",
   "execution_count": 14,
   "metadata": {},
   "outputs": [],
   "source": [
    "def read_json(ticker_list, statement):\n",
    "\n",
    "    with open(f'D:\\lianz\\Desktop\\Python\\data_science_discovery\\personal_finance\\{statement}/{ticker_list}.json') as json_file:\n",
    "        x = json.load(json_file)\n",
    "\n",
    "    return x"
   ]
  },
  {
   "cell_type": "code",
   "execution_count": 15,
   "metadata": {},
   "outputs": [],
   "source": [
    "company_statements = ['income-statement',\n",
    "                      'cash-flow-statement', 'balance-sheet-statement']"
   ]
  },
  {
   "cell_type": "code",
   "execution_count": 16,
   "metadata": {},
   "outputs": [],
   "source": [
    "d = read_json(tickers[0],company_statements[0])"
   ]
  },
  {
   "cell_type": "code",
   "execution_count": 17,
   "metadata": {},
   "outputs": [
    {
     "data": {
      "text/plain": [
       "['2021', '2020', '2019', '2018', '2017']"
      ]
     },
     "execution_count": 17,
     "metadata": {},
     "output_type": "execute_result"
    }
   ],
   "source": [
    "[d[i]['calendarYear'] for i in range(len(d))]"
   ]
  },
  {
   "cell_type": "code",
   "execution_count": 18,
   "metadata": {},
   "outputs": [
    {
     "data": {
      "text/plain": [
       "dict_items([('date', '2021-12-31'), ('symbol', 'UAL'), ('reportedCurrency', 'USD'), ('cik', '0000100517'), ('fillingDate', '2022-02-18'), ('acceptedDate', '2022-02-18 16:16:13'), ('calendarYear', '2021'), ('period', 'FY'), ('revenue', 24634000000), ('costOfRevenue', 23913000000), ('grossProfit', 721000000), ('grossProfitRatio', 0.02926849070390517), ('researchAndDevelopmentExpenses', 0.0), ('generalAndAdministrativeExpenses', 0.0), ('sellingAndMarketingExpenses', 677000000), ('sellingGeneralAndAdministrativeExpenses', 677000000), ('otherExpenses', 412000000), ('operatingExpenses', 1089000000), ('costAndExpenses', 25002000000), ('interestIncome', 36000000), ('interestExpense', 1577000000), ('depreciationAndAmortization', 2485000000), ('ebitda', 1505000000), ('ebitdaratio', 0.06109442234310303), ('operatingIncome', -1022000000), ('operatingIncomeRatio', -0.04148737517252578), ('totalOtherIncomeExpensesNet', -1535000000), ('incomeBeforeTax', -2557000000), ('incomeBeforeTaxRatio', -0.10379962653243485), ('incomeTaxExpense', -593000000), ('netIncome', -1964000000), ('netIncomeRatio', -0.07972720630023544), ('eps', -6.06527), ('epsdiluted', -6.1), ('weightedAverageShsOut', 323810825), ('weightedAverageShsOutDil', 323810825), ('link', 'https://www.sec.gov/Archives/edgar/data/100517/000010051722000009/0000100517-22-000009-index.htm'), ('finalLink', 'https://www.sec.gov/Archives/edgar/data/100517/000010051722000009/ual-20211231.htm')])"
      ]
     },
     "execution_count": 18,
     "metadata": {},
     "output_type": "execute_result"
    }
   ],
   "source": [
    "d[0].items()"
   ]
  },
  {
   "cell_type": "code",
   "execution_count": 59,
   "metadata": {},
   "outputs": [
    {
     "data": {
      "text/plain": [
       "[{'2017': 7.02, '2018': 7.7, '2019': 11.58, '2020': -25.3, '2021': -6.1},\n",
       " {'2017': 2131000000,\n",
       "  '2018': 2129000000,\n",
       "  '2019': 3009000000,\n",
       "  '2020': -7069000000,\n",
       "  '2021': -1964000000},\n",
       " {'2017': 37736000000,\n",
       "  '2018': 41303000000,\n",
       "  '2019': 43259000000,\n",
       "  '2020': 15355000000,\n",
       "  '2021': 24634000000}]"
      ]
     },
     "execution_count": 59,
     "metadata": {},
     "output_type": "execute_result"
    }
   ],
   "source": [
    "l = []\n",
    "dict_holder = {}\n",
    "\n",
    "for n in ['epsdiluted','netIncome','revenue']:\n",
    "    # print(n)\n",
    "\n",
    "    for i,x in enumerate(d[::-1]):\n",
    "        dict_holder[x['calendarYear']] = x[f'{n}']\n",
    "    l.append(dict_holder)\n",
    "    dict_holder = {}\n",
    "l"
   ]
  },
  {
   "cell_type": "code",
   "execution_count": 105,
   "metadata": {},
   "outputs": [
    {
     "data": {
      "text/html": [
       "<div>\n",
       "<style scoped>\n",
       "    .dataframe tbody tr th:only-of-type {\n",
       "        vertical-align: middle;\n",
       "    }\n",
       "\n",
       "    .dataframe tbody tr th {\n",
       "        vertical-align: top;\n",
       "    }\n",
       "\n",
       "    .dataframe thead th {\n",
       "        text-align: right;\n",
       "    }\n",
       "</style>\n",
       "<table border=\"1\" class=\"dataframe\">\n",
       "  <thead>\n",
       "    <tr style=\"text-align: right;\">\n",
       "      <th></th>\n",
       "      <th>epsdiluted</th>\n",
       "      <th>netIncome</th>\n",
       "      <th>revenue</th>\n",
       "    </tr>\n",
       "  </thead>\n",
       "  <tbody>\n",
       "    <tr>\n",
       "      <th>2017</th>\n",
       "      <td>7.02</td>\n",
       "      <td>2.131000e+09</td>\n",
       "      <td>3.773600e+10</td>\n",
       "    </tr>\n",
       "    <tr>\n",
       "      <th>2018</th>\n",
       "      <td>7.70</td>\n",
       "      <td>2.129000e+09</td>\n",
       "      <td>4.130300e+10</td>\n",
       "    </tr>\n",
       "    <tr>\n",
       "      <th>2019</th>\n",
       "      <td>11.58</td>\n",
       "      <td>3.009000e+09</td>\n",
       "      <td>4.325900e+10</td>\n",
       "    </tr>\n",
       "    <tr>\n",
       "      <th>2020</th>\n",
       "      <td>-25.30</td>\n",
       "      <td>-7.069000e+09</td>\n",
       "      <td>1.535500e+10</td>\n",
       "    </tr>\n",
       "    <tr>\n",
       "      <th>2021</th>\n",
       "      <td>-6.10</td>\n",
       "      <td>-1.964000e+09</td>\n",
       "      <td>2.463400e+10</td>\n",
       "    </tr>\n",
       "  </tbody>\n",
       "</table>\n",
       "</div>"
      ],
      "text/plain": [
       "      epsdiluted     netIncome       revenue\n",
       "2017        7.02  2.131000e+09  3.773600e+10\n",
       "2018        7.70  2.129000e+09  4.130300e+10\n",
       "2019       11.58  3.009000e+09  4.325900e+10\n",
       "2020      -25.30 -7.069000e+09  1.535500e+10\n",
       "2021       -6.10 -1.964000e+09  2.463400e+10"
      ]
     },
     "execution_count": 105,
     "metadata": {},
     "output_type": "execute_result"
    }
   ],
   "source": [
    "eps_df = pd.DataFrame.from_records(l, index=['epsdiluted','netIncome','revenue']).T\n",
    "eps_df"
   ]
  },
  {
   "cell_type": "code",
   "execution_count": 81,
   "metadata": {},
   "outputs": [],
   "source": [
    "terms_interested = {'revenue': 'revenue',\n",
    "                    'gross margin%': 'grossProfitRatio',\n",
    "                    'Operating Income': 'operatingIncome',\n",
    "                    'Operating Margin %': 'operatingIncomeRatio',\n",
    "                    'Net Income': 'netIncome',\n",
    "                    'Net Income Margin': 'netIncomeRatio',\n",
    "                    'Earnings per Share': 'epsdiluted',\n",
    "                    'Shares Oustanding (diluted)': 'weightedAverageShsOutDil'}"
   ]
  },
  {
   "cell_type": "code",
   "execution_count": 84,
   "metadata": {},
   "outputs": [
    {
     "name": "stdout",
     "output_type": "stream",
     "text": [
      "revenue\n",
      "grossProfitRatio\n",
      "operatingIncome\n",
      "operatingIncomeRatio\n",
      "netIncome\n",
      "netIncomeRatio\n",
      "epsdiluted\n",
      "weightedAverageShsOutDil\n"
     ]
    }
   ],
   "source": [
    "items_interested = terms_interested.values()\n",
    "\n",
    "for items in items_interested:\n",
    "    print(items)"
   ]
  },
  {
   "cell_type": "code",
   "execution_count": 83,
   "metadata": {},
   "outputs": [
    {
     "data": {
      "text/plain": [
       "['revenue',\n",
       " 'grossProfitRatio',\n",
       " 'operatingIncome',\n",
       " 'operatingIncomeRatio',\n",
       " 'netIncome',\n",
       " 'netIncomeRatio',\n",
       " 'epsdiluted',\n",
       " 'weightedAverageShsOutDil']"
      ]
     },
     "execution_count": 83,
     "metadata": {},
     "output_type": "execute_result"
    }
   ],
   "source": [
    "[items for items in items_interested if items in d[0].keys()]"
   ]
  },
  {
   "cell_type": "code",
   "execution_count": 103,
   "metadata": {},
   "outputs": [
    {
     "data": {
      "text/plain": [
       "['c_0_1', 'c_0_2', 'c_1_1', 'c_1_2', 'c_1_3']"
      ]
     },
     "execution_count": 103,
     "metadata": {},
     "output_type": "execute_result"
    }
   ],
   "source": [
    "arrangement = (2,3)\n",
    "column_names = []\n",
    "\n",
    "for i,nrow in enumerate(arrangement):\n",
    "    for ncolumn in range(1,nrow+1):\n",
    "        column_names.append(f'c_{i}_{ncolumn}')\n",
    "\n",
    "column_names"
   ]
  },
  {
   "cell_type": "code",
   "execution_count": 108,
   "metadata": {},
   "outputs": [
    {
     "data": {
      "text/plain": [
       "Index(['2017', '2018', '2019', '2020', '2021'], dtype='object')"
      ]
     },
     "execution_count": 108,
     "metadata": {},
     "output_type": "execute_result"
    }
   ],
   "source": [
    "eps_df.index"
   ]
  },
  {
   "cell_type": "code",
   "execution_count": 116,
   "metadata": {},
   "outputs": [
    {
     "data": {
      "text/html": [
       "<div>\n",
       "<style scoped>\n",
       "    .dataframe tbody tr th:only-of-type {\n",
       "        vertical-align: middle;\n",
       "    }\n",
       "\n",
       "    .dataframe tbody tr th {\n",
       "        vertical-align: top;\n",
       "    }\n",
       "\n",
       "    .dataframe thead th {\n",
       "        text-align: right;\n",
       "    }\n",
       "</style>\n",
       "<table border=\"1\" class=\"dataframe\">\n",
       "  <thead>\n",
       "    <tr style=\"text-align: right;\">\n",
       "      <th></th>\n",
       "      <th>epsdiluted</th>\n",
       "      <th>netIncome</th>\n",
       "      <th>revenue</th>\n",
       "    </tr>\n",
       "  </thead>\n",
       "  <tbody>\n",
       "    <tr>\n",
       "      <th>2017</th>\n",
       "      <td>7.02</td>\n",
       "      <td>2.131000e+09</td>\n",
       "      <td>3.773600e+10</td>\n",
       "    </tr>\n",
       "    <tr>\n",
       "      <th>2018</th>\n",
       "      <td>7.70</td>\n",
       "      <td>2.129000e+09</td>\n",
       "      <td>4.130300e+10</td>\n",
       "    </tr>\n",
       "    <tr>\n",
       "      <th>2019</th>\n",
       "      <td>11.58</td>\n",
       "      <td>3.009000e+09</td>\n",
       "      <td>4.325900e+10</td>\n",
       "    </tr>\n",
       "    <tr>\n",
       "      <th>2020</th>\n",
       "      <td>-25.30</td>\n",
       "      <td>-7.069000e+09</td>\n",
       "      <td>1.535500e+10</td>\n",
       "    </tr>\n",
       "    <tr>\n",
       "      <th>2021</th>\n",
       "      <td>-6.10</td>\n",
       "      <td>-1.964000e+09</td>\n",
       "      <td>2.463400e+10</td>\n",
       "    </tr>\n",
       "  </tbody>\n",
       "</table>\n",
       "</div>"
      ],
      "text/plain": [
       "      epsdiluted     netIncome       revenue\n",
       "2017        7.02  2.131000e+09  3.773600e+10\n",
       "2018        7.70  2.129000e+09  4.130300e+10\n",
       "2019       11.58  3.009000e+09  4.325900e+10\n",
       "2020      -25.30 -7.069000e+09  1.535500e+10\n",
       "2021       -6.10 -1.964000e+09  2.463400e+10"
      ]
     },
     "execution_count": 116,
     "metadata": {},
     "output_type": "execute_result"
    }
   ],
   "source": [
    "eps_df\n"
   ]
  },
  {
   "cell_type": "code",
   "execution_count": 126,
   "metadata": {},
   "outputs": [
    {
     "data": {
      "text/plain": [
       "2017        NaN\n",
       "2018      9.69%\n",
       "2019     50.39%\n",
       "2020   -318.48%\n",
       "2021    -75.89%\n",
       "Name: epsdiluted, dtype: float64"
      ]
     },
     "execution_count": 126,
     "metadata": {},
     "output_type": "execute_result"
    }
   ],
   "source": [
    "pd.options.display.float_format = '{:.2%}'.format\n",
    "eps_df['epsdiluted'].pct_change(periods=1).fillna(0)\n"
   ]
  },
  {
   "cell_type": "code",
   "execution_count": null,
   "metadata": {},
   "outputs": [],
   "source": []
  }
 ],
 "metadata": {
  "kernelspec": {
   "display_name": "Python 3.9.12 ('DataScience')",
   "language": "python",
   "name": "python3"
  },
  "language_info": {
   "codemirror_mode": {
    "name": "ipython",
    "version": 3
   },
   "file_extension": ".py",
   "mimetype": "text/x-python",
   "name": "python",
   "nbconvert_exporter": "python",
   "pygments_lexer": "ipython3",
   "version": "3.9.12"
  },
  "orig_nbformat": 4,
  "vscode": {
   "interpreter": {
    "hash": "15c829b79a9c192d7731c00829287f4b3b1aa9f9a3890f935442b2f4d956bef3"
   }
  }
 },
 "nbformat": 4,
 "nbformat_minor": 2
}
