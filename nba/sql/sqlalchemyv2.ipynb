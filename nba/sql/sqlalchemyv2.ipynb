{
 "cells": [
  {
   "attachments": {},
   "cell_type": "markdown",
   "metadata": {},
   "source": [
    "# SQL Server Database"
   ]
  },
  {
   "cell_type": "code",
   "execution_count": 1,
   "metadata": {},
   "outputs": [],
   "source": [
    "import sqlalchemy\n",
    "from sqlalchemy import text\n",
    "from functools import partial\n",
    "import pandas as pd\n",
    "from sql_connector import Database"
   ]
  },
  {
   "attachments": {},
   "cell_type": "markdown",
   "metadata": {},
   "source": [
    "## Create Engine"
   ]
  },
  {
   "cell_type": "code",
   "execution_count": 4,
   "metadata": {},
   "outputs": [],
   "source": [
    "nba = Database(database='NBA')"
   ]
  },
  {
   "attachments": {},
   "cell_type": "markdown",
   "metadata": {},
   "source": [
    "## Create Table"
   ]
  },
  {
   "attachments": {},
   "cell_type": "markdown",
   "metadata": {},
   "source": [
    "### Columns to Create"
   ]
  },
  {
   "cell_type": "code",
   "execution_count": 3,
   "metadata": {},
   "outputs": [],
   "source": [
    "player_shotLocations = pd.read_csv(r\"D:\\lianz\\Desktop\\Python\\personal_projects\\nba\\data\\player_shotLocations.csv\", header=[0,1], skipinitialspace=True,)\n",
    "games_played = pd.read_csv(r\"D:\\lianz\\Desktop\\Python\\personal_projects\\nba\\data\\games_played.csv\", parse_dates=['DateTime'])"
   ]
  },
  {
   "attachments": {},
   "cell_type": "markdown",
   "metadata": {},
   "source": [
    "### Execute SQL to Create Table"
   ]
  },
  {
   "cell_type": "code",
   "execution_count": null,
   "metadata": {},
   "outputs": [],
   "source": [
    "create_team_table = text(\"\"\"\n",
    "CREATE TABLE teams(\n",
    "team_id INT PRIMARY KEY NOT NULL,\n",
    "team_name VARCHAR(20),\n",
    "team_abbreviation CHAR(3)\n",
    ")\n",
    "\"\"\")\n",
    "\n",
    "create_player_table = text(\"\"\"\n",
    "CREATE TABLE players(\n",
    "player_id INT PRIMARY KEY,\n",
    "player_name VARCHAR(30)\n",
    ")\n",
    "\"\"\")\n",
    "\n",
    "create_team_arena = text(\"\"\"\n",
    "CREATE TABLE arena_history(\n",
    "arena_id INT PRIMARY KEY,\n",
    "arena_name VARCHAR(30),\n",
    "team_year INT,\n",
    "team_id INT FOREIGN KEY REFERENCES teams(team_id)\n",
    ")\n",
    "\"\"\")\n",
    "\n",
    "create_player_team_table = text(\"\"\"\n",
    "CREATE TABLE player_team_history(\n",
    "id INT NOT NULL IDENTITY(1,1),\n",
    "player_id INT FOREIGN KEY REFERENCES players(player_id),\n",
    "player_age INT,\n",
    "team_id INT FOREIGN KEY REFERENCES teams(team_id),\n",
    "year VARCHAR(10)\n",
    ")\n",
    "\"\"\")\n",
    "\n",
    "create_games_played = text(\"\"\"\n",
    "CREATE TABLE games_played(\n",
    "game_id CHAR(18) PRIMARY KEY,\n",
    "game_date datetime,\n",
    "visitor_team_id INT FOREIGN KEY REFERENCES teams(team_id), \n",
    "visitor_pts INT NOT NULL,\n",
    "home_team_id INT FOREIGN KEY REFERENCES teams(team_id),\n",
    "home_pts INT NOT NULL,\n",
    "overtime VARCHAR(5),\n",
    "attendance INT,\n",
    "arena_id INT\n",
    ")\n",
    "\"\"\")\n",
    "\n",
    "with nba.engine.begin() as conn:\n",
    "    conn.execute(create_team_table)\n",
    "    conn.execute(create_player_table)\n",
    "    conn.execute(create_team_arena)\n",
    "    conn.execute(create_player_team_table)\n",
    "    conn.execute(create_games_played)"
   ]
  },
  {
   "attachments": {},
   "cell_type": "markdown",
   "metadata": {},
   "source": [
    "## Add Columns to Table"
   ]
  },
  {
   "cell_type": "code",
   "execution_count": null,
   "metadata": {},
   "outputs": [],
   "source": [
    "add_arena_col = text(\"\"\"\n",
    "ALTER TABLE teams\n",
    "ADD arena_name VARCHAR(30);\n",
    "\"\"\")\n",
    "\n",
    "with nba.engine.begin() as conn:\n",
    "    conn.execute(add_arena_col)"
   ]
  },
  {
   "attachments": {},
   "cell_type": "markdown",
   "metadata": {},
   "source": [
    "## Insert Table"
   ]
  },
  {
   "cell_type": "code",
   "execution_count": null,
   "metadata": {},
   "outputs": [],
   "source": [
    "games_played['game_id'].apply(lambda x: len(x)).value_counts()"
   ]
  },
  {
   "cell_type": "code",
   "execution_count": null,
   "metadata": {},
   "outputs": [],
   "source": [
    "teams_df = games_played.rename(columns={'Home':'team_name', 'Home_short':'team_abbreviation',})[['DateTime','team_name','team_abbreviation','Arena']].copy()\n",
    "teams_df['year'] = teams_df['DateTime'].apply(lambda x: str(x.year))\n",
    "teams_df.drop(columns=['DateTime'], inplace=True)\n",
    "teams_df = teams_df.dropna(subset=['Arena']).drop_duplicates()\n",
    "teams_df['team_id'] = teams_df['team_abbreviation'] + teams_df['year'] + "
   ]
  },
  {
   "attachments": {},
   "cell_type": "markdown",
   "metadata": {},
   "source": [
    "### Execute SQL Statement to INSERT"
   ]
  },
  {
   "cell_type": "code",
   "execution_count": null,
   "metadata": {},
   "outputs": [],
   "source": [
    "insert_table = text(\"\"\"\n",
    "INSERT INTO teams (team_id, team_name)\n",
    "VALUES (:player_id, :player_name)\n",
    "\"\"\")\n",
    "\n",
    "with nba.engine.begin() as conn:\n",
    "    conn.execute(insert_table, [{\"player_id\": 1, \"player_name\": 1}, {\"player_id\": 2, \"player_name\": 4}],)"
   ]
  },
  {
   "attachments": {},
   "cell_type": "markdown",
   "metadata": {},
   "source": [
    "# Drop Table"
   ]
  },
  {
   "cell_type": "code",
   "execution_count": null,
   "metadata": {},
   "outputs": [],
   "source": [
    "drop_table = text(\"\"\"\n",
    "DROP TABLE player_team_history;\n",
    "DROP TABLE games_played;\n",
    "DROP TABLE arena_history;\n",
    "DROP TABLE players;\n",
    "DROP TABLE teams;\n",
    "\n",
    "\"\"\")\n",
    "\n",
    "with nba.engine.begin() as conn:\n",
    "    conn.execute(drop_table)"
   ]
  },
  {
   "attachments": {},
   "cell_type": "markdown",
   "metadata": {},
   "source": [
    "# Drop Column from Table"
   ]
  },
  {
   "cell_type": "code",
   "execution_count": null,
   "metadata": {},
   "outputs": [],
   "source": [
    "column_to_drop = '[index]'\n",
    "table_name = 'play_by_play'\n",
    "drop_column = text(f\"\"\"\n",
    "ALTER TABLE {table_name}\n",
    "DROP COLUMN {column_to_drop}\n",
    "\"\"\")\n",
    "\n",
    "with nba.engine.begin() as conn:\n",
    "    conn.execute(drop_column)\n",
    "    print(f'Column {column_to_drop} has been dropped from table {table_name}')"
   ]
  },
  {
   "attachments": {},
   "cell_type": "markdown",
   "metadata": {},
   "source": [
    "# Access Data from Table"
   ]
  },
  {
   "cell_type": "code",
   "execution_count": 5,
   "metadata": {},
   "outputs": [
    {
     "name": "stdout",
     "output_type": "stream",
     "text": [
      "2023-05-09 22:09:39,413 INFO sqlalchemy.engine.Engine SELECT CAST(SERVERPROPERTY('ProductVersion') AS VARCHAR)\n",
      "2023-05-09 22:09:39,413 INFO sqlalchemy.engine.Engine [raw sql] ()\n",
      "2023-05-09 22:09:39,415 INFO sqlalchemy.engine.Engine SELECT schema_name()\n",
      "2023-05-09 22:09:39,415 INFO sqlalchemy.engine.Engine [generated in 0.00058s] ()\n",
      "2023-05-09 22:09:39,426 INFO sqlalchemy.engine.Engine SELECT CAST('test max support' AS NVARCHAR(max))\n",
      "2023-05-09 22:09:39,426 INFO sqlalchemy.engine.Engine [generated in 0.00075s] ()\n",
      "2023-05-09 22:09:39,428 INFO sqlalchemy.engine.Engine SELECT 1 FROM fn_listextendedproperty(default, default, default, default, default, default, default)\n",
      "2023-05-09 22:09:39,429 INFO sqlalchemy.engine.Engine [generated in 0.00039s] ()\n",
      "2023-05-09 22:09:39,432 INFO sqlalchemy.engine.Engine BEGIN (implicit)\n",
      "2023-05-09 22:09:39,433 INFO sqlalchemy.engine.Engine SELECT * FROM play_by_play WHERE game_id = '202304301530GSWSAC'\n",
      "2023-05-09 22:09:39,433 INFO sqlalchemy.engine.Engine [generated in 0.00135s] ()\n",
      "2023-05-09 22:09:40,638 INFO sqlalchemy.engine.Engine ROLLBACK\n"
     ]
    }
   ],
   "source": [
    "with nba.engine.connect() as conn:\n",
    "    pbp = conn.execute(text(\"SELECT * FROM play_by_play WHERE game_id = '202304301530GSWSAC'\"))\n",
    "    rows = pbp.fetchall()\n",
    "\n",
    "pbp_df = pd.DataFrame(rows, columns=pbp.keys())"
   ]
  }
 ],
 "metadata": {
  "kernelspec": {
   "display_name": "DataScience",
   "language": "python",
   "name": "python3"
  },
  "language_info": {
   "codemirror_mode": {
    "name": "ipython",
    "version": 3
   },
   "file_extension": ".py",
   "mimetype": "text/x-python",
   "name": "python",
   "nbconvert_exporter": "python",
   "pygments_lexer": "ipython3",
   "version": "3.9.12"
  },
  "orig_nbformat": 4
 },
 "nbformat": 4,
 "nbformat_minor": 2
}
